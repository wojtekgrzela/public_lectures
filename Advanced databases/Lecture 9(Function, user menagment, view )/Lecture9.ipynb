{
 "cells": [
  {
   "cell_type": "markdown",
   "metadata": {
    "collapsed": true,
    "slideshow": {
     "slide_type": "slide"
    }
   },
   "source": [
    "# Advanced databases\n",
    "\n",
    "## Stored procedures, user menagment, view\n",
    "### dr  inż. Waldemar Bauer"
   ]
  },
  {
   "cell_type": "markdown",
   "metadata": {
    "slideshow": {
     "slide_type": "slide"
    }
   },
   "source": [
    "## Stored Procedures (function)\n",
    "\n",
    "- The procedure declared in the database engine.\n",
    "- Used to perform repetitive tasks\n",
    "- Uses different procedure language depending on the database engine, in PostgreSQL PL/pgSQL.\n"
   ]
  },
  {
   "cell_type": "markdown",
   "metadata": {
    "slideshow": {
     "slide_type": "subslide"
    }
   },
   "source": [
    "## Advantages and disadvantages  of using PostgreSQL stored procedures\n",
    "\n",
    "**Advantages:**\n",
    "- Reduces traffic between the application and the database server\n",
    "- Increase user application performance\n",
    "- Reusable \n",
    "\n",
    "**Disadvantages**\n",
    "- Difficult to manage\n",
    "- Hard to portable to other database management systems\n",
    "- Heavy load on the database server"
   ]
  },
  {
   "cell_type": "markdown",
   "metadata": {
    "slideshow": {
     "slide_type": "slide"
    }
   },
   "source": [
    "## Variables in stored procedures\n",
    "```sql\n",
    "variable_name data_type [:= expression];\n",
    "```\n",
    "Data type exampel: \n",
    "- INTEGER, \n",
    "- NUMERIC, \n",
    "- VARCHAR, \n",
    "- CHAR,\n",
    "- TIME,\n",
    "- DATE."
   ]
  },
  {
   "cell_type": "markdown",
   "metadata": {
    "slideshow": {
     "slide_type": "subslide"
    }
   },
   "source": [
    "## Constant variable\n",
    "\n",
    "``` sql\n",
    "   pi CONSTANT NUMERIC := 3.14;\n",
    "```\n",
    "\n",
    "```sql\n",
    "   start_time CONSTANT time := now();\n",
    "```"
   ]
  },
  {
   "cell_type": "markdown",
   "metadata": {
    "slideshow": {
     "slide_type": "slide"
    }
   },
   "source": [
    "## Block Structure\n",
    "```sql\n",
    "[ <<label>> ]  \n",
    "[ DECLARE  \n",
    "    declarations ]\n",
    "BEGIN  \n",
    "    statements;  \n",
    "\t...\n",
    "END [ label ];  \n",
    "```"
   ]
  },
  {
   "cell_type": "markdown",
   "metadata": {
    "slideshow": {
     "slide_type": "subslide"
    }
   },
   "source": [
    "## Exampel of use\n",
    "\n",
    "```sql\n",
    "DO $$\n",
    "<<exampel_block>>\n",
    "DECLARE\n",
    "  exampel_value integer := 0;\n",
    "  exampel_value2 numeric := 0.1;\n",
    "BEGIN \n",
    "  \n",
    "    RAISE NOTICE 'The current exampel value is %. And example value 2 is %', exampel_value, exampel_value2;\n",
    "\n",
    "END exampel_block $$;\n",
    "```\n",
    "**Result:**\n",
    "```\n",
    " The current exampel value is 0. And example value 2 is 0.1\n",
    "```"
   ]
  },
  {
   "cell_type": "markdown",
   "metadata": {
    "slideshow": {
     "slide_type": "subslide"
    }
   },
   "source": [
    "## Subblock\n",
    "```sql\n",
    "DO $$ \n",
    "<<super_block>>\n",
    "DECLARE\n",
    "  exampel_value integer := 0;\n",
    "BEGIN \n",
    "   exampel_value := exampel_value + 1;\n",
    "   RAISE NOTICE 'The current exampel value is %', exampel_value;\n",
    "   \n",
    "   <<subblock1>>\n",
    "   DECLARE \n",
    "       exampel_value integer := 0;\n",
    "   BEGIN \n",
    "       exampel_value := exampel_value + 10;\n",
    "       RAISE NOTICE 'The current exampel value in the subblock1 is %', exampel_value;\n",
    "       RAISE NOTICE 'The current exampel value in the super block is %', super_block.exampel_value;\n",
    "   END subblock1;\n",
    "   \n",
    "   <<subblock2>>\n",
    "   DECLARE \n",
    "       exampel_value integer := 0;\n",
    "   BEGIN \n",
    "       exampel_value := exampel_value + 100;\n",
    "       RAISE NOTICE 'The current  exampel value in the subblock1 is %', exampel_value;\n",
    "       --RAISE NOTICE 'The current  exampel value in the subblock2 is %', subblock1.exampel_value; --error\n",
    "       RAISE NOTICE 'The current  exampel value in the super block is %', super_block.exampel_value;\n",
    "   END subblock2;\n",
    "\n",
    "   RAISE NOTICE 'The current value of counter in the outer block is %', exampel_value;\n",
    "   \n",
    "END super_block $$;\n",
    "```"
   ]
  },
  {
   "cell_type": "markdown",
   "metadata": {
    "slideshow": {
     "slide_type": "subslide"
    }
   },
   "source": [
    "## Subblock results\n",
    "```\n",
    "The current exampel value is 1\n",
    "The current exampel value in the subblock1 is 10\n",
    "The current exampel value in the super block is 1\n",
    "The current  exampel value in the subblock1 is 100\n",
    "The current  exampel value in the super block is 1\n",
    "The current value of counter in the outer block is 1\n",
    "```"
   ]
  },
  {
   "cell_type": "markdown",
   "metadata": {
    "slideshow": {
     "slide_type": "slide"
    }
   },
   "source": [
    "## Dubugging with Raise\n",
    "\n",
    "```sql\n",
    "RAISE level format;\n",
    "```\n",
    "level:\n",
    "\n",
    "- DEBUG\n",
    "- LOG\n",
    "- NOTICE\n",
    "- INFO\n",
    "- WARNING\n",
    "- EXCEPTION\n"
   ]
  },
  {
   "cell_type": "markdown",
   "metadata": {
    "slideshow": {
     "slide_type": "subslide"
    }
   },
   "source": [
    "## RAISE message use\n",
    "\n",
    "```sql\n",
    "DO $$ \n",
    "BEGIN \n",
    "  RAISE INFO 'information message %', now() ;\n",
    "  RAISE LOG 'log message %', now();\n",
    "  RAISE DEBUG 'debug message %', now();\n",
    "  RAISE WARNING 'warning message %', now();\n",
    "  RAISE NOTICE 'notice message %', now();\n",
    "END $$;\n",
    "```\n",
    "```sql\n",
    "set client_min_messages to 'debug'\n",
    "```"
   ]
  },
  {
   "cell_type": "markdown",
   "metadata": {
    "slideshow": {
     "slide_type": "subslide"
    }
   },
   "source": [
    "## EXCEPTION  and ASSERT\n",
    "\n",
    "**EXCEPTION**\n",
    "```sql\n",
    "DO $$ \n",
    "DECLARE\n",
    " value INTEGER := -1;\n",
    "BEGIN \n",
    "  -- do something and check value\n",
    "  -- ...\n",
    "  -- report \n",
    "  RAISE EXCEPTION 'value less than 0: %', value \n",
    "\t\tUSING HINT = 'Check the value';\n",
    "END $$;\n",
    "```\n",
    "\n",
    "**ASSERT**\n",
    "```sql\n",
    "DO $$ \n",
    "DECLARE\n",
    " value INTEGER := -1;\n",
    "BEGIN \n",
    "  -- do something \n",
    "  -- ...\n",
    "  -- report \n",
    "  Assert value > 0, 'value less than 0';\n",
    "END $$;\n",
    "```\n",
    "\n"
   ]
  },
  {
   "cell_type": "markdown",
   "metadata": {
    "slideshow": {
     "slide_type": "slide"
    }
   },
   "source": [
    "##  CREATE \\[OR REPLACE\\] FUNCTION\n",
    "\n",
    "```sql\n",
    "CREATE [OR REPLACE]  FUNCTION function_name([p1 type,])\n",
    " [RETURNS type] AS\n",
    "BEGIN\n",
    " -- do something\n",
    "END;\n",
    "LANGUAGE language_name;\n",
    "```\n",
    "All created functions are in the database memory and the user has access to them through the command:\n",
    "\n",
    "```sql\n",
    "select function_name([p1,])\n",
    "```\n"
   ]
  },
  {
   "cell_type": "markdown",
   "metadata": {
    "slideshow": {
     "slide_type": "subslide"
    }
   },
   "source": [
    "##  Function example\n",
    "\n",
    "```sql\n",
    "CREATE OR REPLACE FUNCTION  add(val1 integer, val2 integer) RETURNS integer AS $$\n",
    "BEGIN\n",
    "RETURN val1 + val2;\n",
    "END; $$\n",
    "LANGUAGE PLPGSQL;\n",
    "```\n",
    "Exampel of use:\n",
    "```sql \n",
    "select add(1,2) --3\n",
    "select add(Cast(1.0 as integer), 3) -- 4\n",
    "select add(0.2, 3) -- error\n",
    "```"
   ]
  },
  {
   "cell_type": "markdown",
   "metadata": {
    "slideshow": {
     "slide_type": "subslide"
    }
   },
   "source": [
    "##  Function example alternative declaration\n",
    "\n",
    "```sql\n",
    "CREATE OR REPLACE FUNCTION add(val1 integer, val2 integer) RETURNS integer \n",
    "LANGUAGE PLPGSQL\n",
    "\n",
    "AS $BODY$\n",
    "BEGIN\n",
    "RETURN val1 + val2;\n",
    "END; $BODY$;\n",
    "```"
   ]
  },
  {
   "cell_type": "markdown",
   "metadata": {
    "slideshow": {
     "slide_type": "slide"
    }
   },
   "source": [
    "## Function overloade\n",
    "```sql\n",
    "CREATE OR REPLACE FUNCTION  add(val1 numeric, val2 numeric) RETURNS numeric AS $$\n",
    "BEGIN\n",
    "RETURN val1 + val2;\n",
    "END; $$\n",
    "LANGUAGE PLPGSQL;\n",
    "```\n",
    "Exampel of use:\n",
    "```sql \n",
    "select add(1,2) -- 3\n",
    "select add(0.2, 3.2) -- 3.4\n",
    "select add(1.0 , 3) -- ??\n",
    "```"
   ]
  },
  {
   "cell_type": "markdown",
   "metadata": {
    "slideshow": {
     "slide_type": "slide"
    }
   },
   "source": [
    "## Function Parameters modifiers\n",
    "\n",
    "Parameters modifiers:\n",
    "- in\n",
    "- out\n",
    "- inout\n",
    "- default\n",
    "\n",
    "```sql\n",
    "CREATE OR REPLACE  FUNCTION upplow_case(in word  VARCHAR, \n",
    "                                          OUT lowcase_word  VARCHAR , \n",
    "                                          OUT uppercase_word  VARCHAR) AS $$\n",
    "BEGIN\n",
    "uppercase_word := upper(word); \n",
    "lowcase_word := lower(word) ;\n",
    "END; $$\n",
    "LANGUAGE PLPGSQL;\n",
    "```\n",
    "\n",
    "Exampel of use:\n",
    "```\n",
    "select  upplow_case('Advance Database') -- return \"(\"advance database\",\"ADVANCE DATABASE\")\"\n",
    "select * from upplow_case('Advance Database') -- \"advance database\", \"ADVANCE DATABASE\"\n",
    "```\n"
   ]
  },
  {
   "cell_type": "markdown",
   "metadata": {
    "slideshow": {
     "slide_type": "subslide"
    }
   },
   "source": [
    "## Default modifiers\n",
    "\n",
    "```sql\n",
    "CREATE OR REPLACE  FUNCTION function_name(...,[in|inout] p1  type DEFAULT value,...) ...\n",
    "```\n",
    "\n",
    "```sql\n",
    "CREATE OR REPLACE  FUNCTION upplow_case(in word  VARCHAR DEFAULT 'Test for Users', \n",
    "                                          OUT lowcase_word  VARCHAR , \n",
    "                                          OUT uppercase_word  VARCHAR) AS $$\n",
    "BEGIN\n",
    "uppercase_word := upper(word); \n",
    "lowcase_word := lower(word) ;\n",
    "END; $$\n",
    "LANGUAGE PLPGSQL;\n",
    "```\n",
    " \n",
    "```sql\n",
    "select upplow_case()\n",
    "select * from upplow_case()\n",
    "select * from upplow_case('I like this mechanisms')\n",
    "```\n",
    " "
   ]
  },
  {
   "cell_type": "markdown",
   "metadata": {
    "slideshow": {
     "slide_type": "slide"
    }
   },
   "source": [
    "## Returns A Table\n",
    " \n",
    "```sql\n",
    "CREATE OR REPLACE FUNCTION get_actor_film (actor_first_name VARCHAR, actor_last_name VARCHAR) \n",
    "\tRETURNS TABLE (\n",
    "\t\tfilm_title VARCHAR,\n",
    "\t\tfilm_release_year INT\n",
    ") \n",
    "AS $$\n",
    "BEGIN\n",
    "\tRETURN QUERY SELECT\n",
    "\t\ttitle,\n",
    "\t\tcast( release_year as integer)\n",
    "\tFROM\n",
    "\t\tfilm inner join film_actor using (film_id) \n",
    "\t\tinner join actor using(actor_id)\n",
    "\tWHERE\n",
    "\t\tactor.first_name ILIKE actor_first_name and actor.last_name ILIKE actor_last_name ;\n",
    "END; $$ \n",
    "\n",
    "LANGUAGE 'plpgsql';\n",
    "```\n",
    "\n",
    "Example\n",
    "\n",
    "```sql\n",
    "select * from get_actor_film('Ed',\t'Chase')\n",
    "```"
   ]
  },
  {
   "cell_type": "markdown",
   "metadata": {
    "slideshow": {
     "slide_type": "slide"
    }
   },
   "source": [
    "##  Control flow\n",
    "\n",
    "- IF\n",
    "- CASE \n",
    "- loops:\n",
    "    - LOOP\n",
    "    - WHILE\n",
    "    - FOR "
   ]
  },
  {
   "cell_type": "markdown",
   "metadata": {
    "slideshow": {
     "slide_type": "subslide"
    }
   },
   "source": [
    "## IF\n",
    "\n",
    "```sql\n",
    "  IF condition THEN\n",
    "\t-- do something\n",
    "  \n",
    "  [ELSEIF condition2 THEN\n",
    "\t-- do something 2\n",
    "   ...]\n",
    "  [ELSE\n",
    "      -- do something\n",
    "  ]\n",
    "  END IF;\n",
    "```"
   ]
  },
  {
   "cell_type": "markdown",
   "metadata": {
    "slideshow": {
     "slide_type": "subslide"
    }
   },
   "source": [
    "## IF Example\n",
    "```sql\n",
    "DO $$\n",
    "DECLARE\n",
    "   a integer := 5;\n",
    "   b integer := 5;\n",
    "BEGIN \n",
    "  IF a > b THEN \n",
    "     RAISE NOTICE 'a is greater than b';\n",
    "  ELSIF a < b THEN\n",
    "     RAISE NOTICE 'a is less than b';\n",
    "  ELSE\n",
    "     RAISE NOTICE 'a is equal to b';\n",
    "  END IF;\n",
    "END $$;\n",
    "```"
   ]
  },
  {
   "cell_type": "markdown",
   "metadata": {
    "slideshow": {
     "slide_type": "subslide"
    }
   },
   "source": [
    "## CASE\n",
    "\n",
    "```sql\n",
    "CASE\n",
    "    WHEN boolean-expression-1 THEN\n",
    "      statements\n",
    "  [ WHEN boolean-expression-2 THEN\n",
    "      statements\n",
    "    ... \n",
    "  ]\n",
    "  ELSE\n",
    "      statements\n",
    "END CASE;\n",
    "```"
   ]
  },
  {
   "cell_type": "markdown",
   "metadata": {
    "slideshow": {
     "slide_type": "subslide"
    }
   },
   "source": [
    " ## Example\n",
    " \n",
    " ```sql\n",
    "   CREATE OR REPLACE FUNCTION get_actor_status (p_actor_id INTEGER) \n",
    "\tRETURNS VARCHAR (25) AS $$ \n",
    "DECLARE\n",
    "    total_films NUMERIC ; \n",
    "    status VARCHAR (25) ;\n",
    "BEGIN\n",
    "    SELECT\n",
    "\tINTO total_films count (f.film_id)\n",
    "     FROM\n",
    "\tfilm f inner join film_actor fa USING(film_id)\n",
    "     WHERE\n",
    "\tfa.actor_id = p_actor_id ; \n",
    "  \n",
    "   CASE\n",
    "      WHEN total_films > 50 THEN\n",
    "         status = 'more than 50' ;\n",
    "      WHEN total_films >= 30 THEN\n",
    "\t \t status = '30-50' ;\n",
    "\t  When total_films >= 10 THEN\n",
    "\t \t status = '10-29' ;\n",
    "      ELSE\n",
    "         status = 'less than 10' ;\n",
    "   END CASE ;\n",
    "\n",
    "   RETURN status ;\n",
    "END ; $$ \n",
    "LANGUAGE plpgsql;\n",
    " ```"
   ]
  },
  {
   "cell_type": "markdown",
   "metadata": {
    "slideshow": {
     "slide_type": "subslide"
    }
   },
   "source": [
    "## Loops\n",
    "**LOOP**\n",
    "```sql\n",
    "<<label>>\n",
    "LOOP\n",
    "   Statements;\n",
    "   EXIT [<<label>>] WHEN condition;\n",
    "END LOOP;\n",
    "```\n",
    "**WHILE**\n",
    "```sql\n",
    "[ <<label>> ]\n",
    "WHILE condition LOOP\n",
    "   statements;\n",
    "END LOOP;\n",
    "```\n",
    "**FOR**\n",
    "```sql\n",
    "[ <<label>> ]\n",
    "FOR target IN query LOOP\n",
    "    statements\n",
    "END LOOP [ label ];\n",
    "```\n"
   ]
  },
  {
   "cell_type": "markdown",
   "metadata": {
    "slideshow": {
     "slide_type": "subslide"
    }
   },
   "source": [
    "## LOOP Exampel\n",
    "\n",
    "```sql\n",
    "CREATE OR REPLACE FUNCTION factorial_loop (n INTEGER) \n",
    "\tRETURNS INTEGER AS $$ \n",
    "DECLARE\n",
    "   counter INTEGER := 1 ; \n",
    "   i INTEGER := 1 ; \n",
    "BEGIN\n",
    "\tIF (n < 0) THEN\n",
    "\t\tRAISE EXCEPTION 'Argument value less then 0'\n",
    "\t\t\tusing hint = 'Argument must be bigger or equale 0';\n",
    "\tEND IF; \n",
    "\tIF (n < 1)  THEN\n",
    "\t\tRETURN 1 ;\n",
    "\tEND IF; \n",
    "\n",
    "\tLOOP \n",
    "\t\tSELECT counter + 1, i * counter INTO counter,\ti ;\n",
    "\t\tEXIT WHEN counter > n;\n",
    "\tEND LOOP ; \n",
    "\t\n",
    "\tRETURN i ;\n",
    "END;$$\n",
    "LANGUAGE PLPGSQL;\n",
    "```"
   ]
  },
  {
   "cell_type": "markdown",
   "metadata": {
    "slideshow": {
     "slide_type": "subslide"
    }
   },
   "source": [
    "## WHILE Exampel\n",
    "```sql\n",
    "CREATE OR REPLACE FUNCTION factorial_while (n INTEGER) \n",
    "\tRETURNS INTEGER AS $$ \n",
    "DECLARE\n",
    "   counter INTEGER := 1 ; \n",
    "   i INTEGER := 1 ; \n",
    "BEGIN\n",
    "\tIF (n < 0) THEN\n",
    "\t\tRAISE EXCEPTION 'Argument value less then 0'\n",
    "\t\t\tusing hint = 'Argument must be bigger or equale 0';\n",
    "\tEND IF; \n",
    "\tIF (n < 1)  THEN\n",
    "\t\tRETURN 1 ;\n",
    "\tEND IF; \n",
    "\t\n",
    "\tWHILE counter <= n LOOP \n",
    "\t\tSELECT counter + 1, i * counter INTO counter,\ti ;\n",
    "\tEND LOOP ; \n",
    "\t\n",
    "\tRETURN i ;\n",
    "END;$$\n",
    "LANGUAGE PLPGSQL;\n",
    "```"
   ]
  },
  {
   "cell_type": "markdown",
   "metadata": {
    "slideshow": {
     "slide_type": "subslide"
    }
   },
   "source": [
    "## FOR Exampel\n",
    "```sql\n",
    "CREATE OR REPLACE FUNCTION factorial_for (n INTEGER) \n",
    "\tRETURNS INTEGER AS $$ \n",
    "DECLARE\n",
    "   i INTEGER := 1 ; \n",
    "BEGIN\n",
    "\tIF (n < 0) THEN\n",
    "\t\tRAISE EXCEPTION 'Argument value less then 0'\n",
    "\t\t\tusing hint = 'Argument must be bigger or equale 0';\n",
    "\tEND IF; \n",
    "\tIF (n < 1)  THEN\n",
    "\t\tRETURN 1 ;\n",
    "\tEND IF; \n",
    "\t\n",
    "    FOR counter IN 1..n LOOP\n",
    "        i:= i * counter;\n",
    "\tEND LOOP ; \n",
    "\t\n",
    "\tRETURN i ;\n",
    "END;$$\n",
    "LANGUAGE PLPGSQL;\n",
    "```"
   ]
  },
  {
   "cell_type": "markdown",
   "metadata": {
    "slideshow": {
     "slide_type": "subslide"
    }
   },
   "source": [
    "# FOR with select\n",
    "```sql\n",
    "CREATE OR REPLACE FUNCTION for_loop_through_query(\n",
    "   n INTEGER DEFAULT 10\n",
    ") \n",
    "RETURNS VOID AS $$\n",
    "DECLARE\n",
    "    rec RECORD;\n",
    "BEGIN\n",
    "    FOR rec IN SELECT title \n",
    "\t       FROM film \n",
    "\t       ORDER BY title\n",
    "\t       LIMIT n \n",
    "    LOOP \n",
    "\tRAISE NOTICE '%', rec.title;\n",
    "    END LOOP;\n",
    "END;\n",
    "$$ LANGUAGE plpgsql;\n",
    "```"
   ]
  },
  {
   "cell_type": "markdown",
   "metadata": {
    "slideshow": {
     "slide_type": "subslide"
    }
   },
   "source": [
    "## For with param\n",
    "\n",
    "```sql\n",
    "[ <<label>> ]\n",
    "FOR row IN EXECUTE string_expression [ USING query_param [, ... ] ] \n",
    "LOOP\n",
    "    statements\n",
    "END LOOP [ label ];\n",
    "```"
   ]
  },
  {
   "cell_type": "markdown",
   "metadata": {
    "slideshow": {
     "slide_type": "subslide"
    }
   },
   "source": [
    "## For with param exampel\n",
    "\n",
    "```sql\n",
    "CREATE OR REPLACE FUNCTION for_loop_query_param(\n",
    "   year1 INTEGER,  year2 INTEGER\n",
    ") \n",
    "RETURNS VOID AS $$\n",
    "DECLARE\n",
    "    rec RECORD;\n",
    "    query text;\n",
    "BEGIN\n",
    "\t\t\n",
    "\tquery := 'SELECT title, release_year FROM film ';\n",
    "\n",
    "\tquery := query || 'where release_year between $1 and $2';\n",
    "\n",
    "\tFOR rec IN EXECUTE query USING year1, year2 \n",
    "        LOOP\n",
    "\t   RAISE NOTICE '% - %', rec.release_year, rec.title;\n",
    "\tEND LOOP;\n",
    "   \n",
    "END;\n",
    "$$ LANGUAGE plpgsql;\n",
    "```"
   ]
  },
  {
   "cell_type": "markdown",
   "metadata": {
    "slideshow": {
     "slide_type": "slide"
    }
   },
   "source": [
    "## Stored procedure\n",
    "- In the previous slids, you saw how define and use functions in PostgreSQL. \n",
    "- Functions cannot execute transactions. \n",
    "- Inside a function you cannot open a new transaction.\n",
    "\n",
    "For make a procedure we use:\n",
    "\n",
    "```sql\n",
    "CREATE [OR REPLACE] PROCEDURE procedure_name(parameter_list)\n",
    "LANGUAGE language_name\n",
    "AS $$\n",
    "    stored_procedure_body;\n",
    "$$;\n",
    "```"
   ]
  },
  {
   "cell_type": "markdown",
   "metadata": {
    "slideshow": {
     "slide_type": "subslide"
    }
   },
   "source": [
    "## Exampel\n",
    "```sql\n",
    "CREATE OR REPLACE PROCEDURE transfer(INT, INT, DEC)\n",
    "LANGUAGE plpgsql     \n",
    "AS $$\n",
    "BEGIN\n",
    "    UPDATE accounts \n",
    "    SET balance = balance - $3\n",
    "    WHERE id = $1;\n",
    "\n",
    "    UPDATE accounts \n",
    "    SET balance = balance + $3\n",
    "    WHERE id = $2;\n",
    "\n",
    "    COMMIT;\n",
    "END;\n",
    "$$;\n",
    "```"
   ]
  },
  {
   "cell_type": "markdown",
   "metadata": {
    "slideshow": {
     "slide_type": "slide"
    }
   },
   "source": [
    "## VIEW\n",
    "\n",
    "- A view helps simplify the complexity of a query because you can query a view, which is based on a complex query, using a simple SELECT statement.\n",
    "- Like a table, you can grant permission to users through a view that contains specific data that the users are authorized to see.\n",
    "- A view provides a consistent layer even the columns of underlying table changes.\n",
    "\n",
    "```sql\n",
    "CREATE [OR REPLACE] VIEW view_name AS query;\n",
    "ALTER VIEW customer_master RENAME TO customer_info;\n",
    "DROP VIEW IF EXISTS customer_info;\n",
    "\n",
    "```"
   ]
  },
  {
   "cell_type": "markdown",
   "metadata": {
    "slideshow": {
     "slide_type": "subslide"
    }
   },
   "source": [
    "## Update view\n",
    "A PostgreSQL view is updatable when it meets the following conditions:\n",
    "\n",
    "- The defining query of the view must have exactly one entry in the FROM clause, which can be a table or another updatable view.\n",
    "- The defining query must not contain one of the following clauses at the top level: GROUP BY, HAVING, LIMIT, OFFSET, DISTINCT, WITH, UNION, INTERSECT, and EXCEPT.\n",
    "- The selection list must not contain any window function , any set-returning function, or any aggregate function such as SUM, COUNT, AVG, MIN, and MAX."
   ]
  },
  {
   "cell_type": "markdown",
   "metadata": {
    "slideshow": {
     "slide_type": "subslide"
    }
   },
   "source": [
    "## Create view\n",
    "\n",
    "```sql\n",
    "CREATE OR REPLACE VIEW actors_films \n",
    "AS\n",
    "SELECT\n",
    "\t\tfirst_name,\t\n",
    "        last_name,\n",
    "\t\ttitle,\n",
    "        release_year\n",
    "    FROM\n",
    "        film inner join film_actor using (film_id) \n",
    "        inner join actor using(actor_id)\n",
    "```"
   ]
  },
  {
   "cell_type": "markdown",
   "metadata": {
    "slideshow": {
     "slide_type": "slide"
    }
   },
   "source": [
    "##  Roles Management\n",
    "\n",
    "- Manage database access permissions\n",
    "- A role can be a user or a group\n",
    "- A role that has login right is called user\n",
    "- A role may be a member of other roles, which are known as groups\n",
    "\n",
    "Usefulle query to chcek roles and users:\n",
    "```sql\n",
    "SELECT * FROM pg_roles;\n",
    "```"
   ]
  },
  {
   "cell_type": "markdown",
   "metadata": {
    "slideshow": {
     "slide_type": "subslide"
    }
   },
   "source": [
    "## Roles PRIVILEGES\n",
    "- SUPERUSER\n",
    "- CREATEDB\n",
    "- CREATEROLE\n",
    "- INHERIT\n",
    "- LOGIN\n",
    "- Oposit: NOSUPERUSER, NOCREATEDB, NOCREATEROLE,NOINHERIT, NOLOGIN"
   ]
  },
  {
   "cell_type": "markdown",
   "metadata": {
    "slideshow": {
     "slide_type": "subslide"
    }
   },
   "source": [
    "## SQL managment of roles\n",
    "\n",
    "**Creating roles:**\n",
    "```sql\n",
    "CREATE ROLE role_name [PRIVILEGES [PRIVILEGES]];\n",
    "```\n",
    "\n",
    "**Change role:**\n",
    "```sql\n",
    "ALTER ROLE role_name [PRIVILEGES [PRIVILEGES]];\n",
    "```\n",
    "\n",
    "**Remove roles:**\n",
    "```sql\n",
    "DROP ROLE IF EXISTS role_name;\n",
    "```"
   ]
  },
  {
   "cell_type": "markdown",
   "metadata": {
    "slideshow": {
     "slide_type": "subslide"
    }
   },
   "source": [
    "## Switch between roles\n",
    "\n",
    "Set role context:\n",
    "```sql\n",
    "SET ROLE role_name;\n",
    "```\n",
    "\n",
    "Stopr use role context:\n",
    "```sql\n",
    "RESET ROLE role_name;\n",
    "```\n"
   ]
  },
  {
   "cell_type": "markdown",
   "metadata": {
    "slideshow": {
     "slide_type": "slide"
    }
   },
   "source": [
    "## User\n",
    "\n",
    "- Special type of role\n",
    "- Have privileges to login in to database\n",
    "- May belong to a group\n"
   ]
  },
  {
   "cell_type": "markdown",
   "metadata": {
    "slideshow": {
     "slide_type": "subslide"
    }
   },
   "source": [
    "## SQL managment of users\n",
    "\n",
    "**Create users:**\n",
    "```sql\n",
    "CREATE ROLE your_login WITH PASSWORD your_password [VALID UNTIL date];\n",
    "-- or\n",
    "CREATE USER your_login WITH ENCRYPTED PASSWORD your_password valid until date;\n",
    "```\n",
    "**Add user to group:**\n",
    "```sql\n",
    "GRANT group_role to user_role;\n",
    "```\n",
    "\n",
    "**Remove user from group:**\n",
    "```sql\n",
    "REVOKE group_role FROM user_role;\n",
    "```\n"
   ]
  },
  {
   "cell_type": "markdown",
   "metadata": {
    "slideshow": {
     "slide_type": "subslide"
    }
   },
   "source": [
    "## SQL managment of users part 2\n",
    "\n",
    "**Edit users:**\n",
    "```sql\n",
    "ALTER ROLE role_name WITH attribute_options;\n",
    "```\n",
    "**Add table to user:**\n",
    "```sql\n",
    "GRANT [permission_type[, permission_type]] ON [table_name [, table_name]] TO role_name;\n",
    "```\n",
    "User permission type:\n",
    "- SELECT\n",
    "- INSERT\n",
    "- UPDATE\n",
    "- DELETE\n",
    "- DEFAULT PRIVILEGES\n",
    "- ALL PRIVILEGES\n"
   ]
  },
  {
   "cell_type": "markdown",
   "metadata": {
    "slideshow": {
     "slide_type": "subslide"
    }
   },
   "source": [
    "## SQL managment of users part 3\n",
    "\n",
    "**Add database to user::**\n",
    "```sql\n",
    "GRANT [permission_type[, permission_type]] ON DATABASE database_name TO username;\n",
    "```\n",
    "**Add schema to user:**\n",
    "```sql\n",
    "GRANT USAGE ON SCHEMA schema_name TO username;\n",
    "```\n",
    "**Set provoleages to all table in schema**\n",
    "```sql\n",
    "GRANT [permission_type[, permission_type]]  ON ALL TABLES IN SCHEMA schema_name TO username;\n",
    "```"
   ]
  },
  {
   "cell_type": "markdown",
   "metadata": {
    "slideshow": {
     "slide_type": "subslide"
    }
   },
   "source": [
    "## SQL managment of users part 3\n",
    "**Remove privilege from user:**\n",
    "```sql\n",
    "REVOKE  [permission_type[, permission_type]] ON [table_name [, table_name]] FROM wbauer;\n",
    "```\n",
    "\n",
    "**Drop user:**\n",
    "```sql\n",
    "DROP user IF EXISTS role_name;\n",
    "```"
   ]
  }
 ],
 "metadata": {
  "celltoolbar": "Slideshow",
  "jupytext": {
   "formats": "ipynb"
  },
  "kernelspec": {
   "display_name": "Python 3",
   "language": "python",
   "name": "python3"
  },
  "language_info": {
   "codemirror_mode": {
    "name": "ipython",
    "version": 3
   },
   "file_extension": ".py",
   "mimetype": "text/x-python",
   "name": "python",
   "nbconvert_exporter": "python",
   "pygments_lexer": "ipython3",
   "version": "3.7.6"
  },
  "rise": {
   "autolaunch": true,
   "backimage": "img/tlo_agh.png"
  }
 },
 "nbformat": 4,
 "nbformat_minor": 2
}
