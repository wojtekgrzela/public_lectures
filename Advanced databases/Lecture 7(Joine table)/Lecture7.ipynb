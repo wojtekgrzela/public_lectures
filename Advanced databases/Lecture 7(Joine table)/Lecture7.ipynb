{
 "cells": [
  {
   "cell_type": "markdown",
   "metadata": {
    "collapsed": true,
    "slideshow": {
     "slide_type": "slide"
    }
   },
   "source": [
    "# Advanced databases\n",
    "\n",
    "## Join tables\n",
    "### dr  inż. Waldemar Bauer"
   ]
  },
  {
   "cell_type": "markdown",
   "metadata": {
    "slideshow": {
     "slide_type": "slide"
    }
   },
   "source": [
    "## SQL Join\n",
    "\n",
    "- Is used to combine columns from one (self-join) or more tables\n",
    "- Based on the values of the common columns between the tables \n",
    "- Mostly columns are the primary key columns of the first table and foreign key columns of the second table."
   ]
  },
  {
   "cell_type": "markdown",
   "metadata": {
    "slideshow": {
     "slide_type": "subslide"
    }
   },
   "source": [
    "## Example database \n",
    "\n",
    "```sql\n",
    "CREATE TABLE shape_a (\n",
    "    id INT PRIMARY KEY,\n",
    "    shape VARCHAR (100) NOT NULL\n",
    ");\n",
    " \n",
    "CREATE TABLE shape_b (\n",
    "    id INT PRIMARY KEY,\n",
    "    shape VARCHAR (100) NOT NULL\n",
    ");\n",
    "```"
   ]
  },
  {
   "cell_type": "markdown",
   "metadata": {
    "slideshow": {
     "slide_type": "slide"
    }
   },
   "source": [
    "## Example data set\n",
    "\n",
    "```sql\n",
    "INSERT INTO shape_a (id, shape)\n",
    "VALUES\n",
    "    (1, 'Triangle'),\n",
    "    (2, 'Square'),\n",
    "    (3, 'Deltoid'),\n",
    "    (4, 'Trapezoid');\n",
    "    \n",
    "INSERT INTO shape_b (id, shape)\n",
    "VALUES\n",
    "    (1, 'Square'),\n",
    "    (2, 'Triangle'),\n",
    "    (3, 'Rhomb'),\n",
    "    (4, 'Parallelogram');\n",
    "```"
   ]
  },
  {
   "cell_type": "markdown",
   "metadata": {
    "slideshow": {
     "slide_type": "subslide"
    }
   },
   "source": [
    "## Join by where\n",
    "\n",
    "```sql\n",
    "select  shape_a.id, shape_a.shape as shape_a, shape_b.shape as shape_b \n",
    "from shape_a, shape_b \n",
    "where shape_a.id = shape_b.id\n",
    "```\n",
    "\n",
    "| id \t|   shape_a   \t|     shape_b     \t|\n",
    "|:--:\t|:-----------:\t|:---------------:\t|\n",
    "|  1 \t|  \"Triangle\" \t|     \"Square\"    \t|\n",
    "|  2 \t|   \"Square\"  \t|    \"Triangle\"   \t|\n",
    "|  3 \t|  \"Deltoid\"  \t|     \"Rhomb\"     \t|\n",
    "|  4 \t| \"Trapezoid\" \t| \"Parallelogram\" \t|"
   ]
  },
  {
   "cell_type": "markdown",
   "metadata": {
    "slideshow": {
     "slide_type": "slide"
    }
   },
   "source": [
    "## Inner join\n",
    "```sql\n",
    "SELECT\n",
    "    a.id id,\n",
    "    a.shape shape_a,\n",
    "    b.shape shape_b\n",
    "FROM\n",
    "    shape_a a\n",
    "INNER JOIN shape_b b ON a.id = b.id;\n",
    "```\n",
    "\n",
    "| id \t|   shape_a   \t|     shape_b     \t|\n",
    "|:--:\t|:-----------:\t|:---------------:\t|\n",
    "|  1 \t|  \"Triangle\" \t|     \"Square\"    \t|\n",
    "|  2 \t|   \"Square\"  \t|    \"Triangle\"   \t|\n",
    "|  3 \t|  \"Deltoid\"  \t|     \"Rhomb\"     \t|\n",
    "|  4 \t| \"Trapezoid\" \t| \"Parallelogram\" \t|\n"
   ]
  },
  {
   "cell_type": "markdown",
   "metadata": {
    "slideshow": {
     "slide_type": "slide"
    }
   },
   "source": [
    "## LEFT [ OUTER ] JOIN\n",
    "\n",
    "\n",
    "```sql\n",
    "SELECT\n",
    "    a.id id_a,\n",
    "    a.shape shape_a,\n",
    "    b.id id_b,\n",
    "    b.shape shape_b\n",
    "FROM\n",
    "    shape_a a\n",
    "LEFT JOIN shape_b b ON a.shape = b.shape;\n",
    "```\n",
    "\n",
    "\n",
    "| id_a \t|   shape_a   \t| id_b \t|   shape_b  \t|\n",
    "|:----:\t|:-----------:\t|:----:\t|:----------:\t|\n",
    "|   1  \t|  \"Triangle\" \t|   2  \t| \"Triangle\" \t|\n",
    "|   2  \t|   \"Square\"  \t|   1  \t|  \"Square\"  \t|\n",
    "|   3  \t|  \"Deltoid\"  \t| null \t|    null    \t|\n",
    "|   4  \t| \"Trapezoid\" \t| null \t|    null    \t|\n"
   ]
  },
  {
   "cell_type": "markdown",
   "metadata": {
    "slideshow": {
     "slide_type": "slide"
    }
   },
   "source": [
    "## RIGHT [ OUTER ] JOIN\n",
    "\n",
    "\n",
    "```sql\n",
    "SELECT\n",
    "    a.id id_a,\n",
    "    a.shape shape_a,\n",
    "    b.id id_b,\n",
    "    b.shape shape_b\n",
    "FROM\n",
    "    shape_a a\n",
    "RIGHT JOIN shape_b b ON a.shape = b.shape;\n",
    "```\n",
    "\n",
    "| id_a \t|   shape_a  \t| id_b \t|     shape_b     \t|\n",
    "|:----:\t|:----------:\t|:----:\t|:---------------:\t|\n",
    "|   2  \t|  \"Square\"  \t|   1  \t|     \"Square\"    \t|\n",
    "|   1  \t| \"Triangle\" \t|   2  \t|    \"Triangle\"   \t|\n",
    "| null \t|    null    \t|   3  \t|     \"Rhomb\"     \t|\n",
    "| null \t|    null    \t|   4  \t| \"Parallelogram\" \t|\n"
   ]
  },
  {
   "cell_type": "markdown",
   "metadata": {
    "slideshow": {
     "slide_type": "slide"
    }
   },
   "source": [
    "## FULL [ OUTER ]   JOIN\n",
    "\n",
    "```sql\n",
    "SELECT\n",
    "    a.id id_a,\n",
    "    a.shape shape_a,\n",
    "    b.id id_b,\n",
    "    b.shape shape_b\n",
    "FROM\n",
    "    shape_a a\n",
    "FULL JOIN shape_b b ON a.shape = b.shape;\n",
    "```\n",
    "| id_a \t|   shape_a   \t| id_b \t|     shape_b     \t|\n",
    "|:----:\t|:-----------:\t|:----:\t|:---------------:\t|\n",
    "|   1  \t|  \"Triangle\" \t|   2  \t|    \"Triangle\"   \t|\n",
    "|   2  \t|   \"Square\"  \t|   1  \t|     \"Square\"    \t|\n",
    "|   3  \t|  \"Deltoid\"  \t| null \t|       null      \t|\n",
    "|   4  \t| \"Trapezoid\" \t| null \t|       null      \t|\n",
    "| null \t|     null    \t|   3  \t|     \"Rhomb\"     \t|\n",
    "| null \t|     null    \t|   4  \t| \"Parallelogram\" \t|"
   ]
  },
  {
   "cell_type": "markdown",
   "metadata": {
    "slideshow": {
     "slide_type": "slide"
    }
   },
   "source": [
    "##  NATURAL  JOIN \n",
    "\n",
    "```sql\n",
    "SELECT \n",
    "    a.id id_a,\n",
    "    a.shape shape_a,\n",
    "    b.id id_b,\n",
    "    b.shape shape_b\n",
    "FROM shape_a a\n",
    "NATURAL JOIN shape_b b;\n",
    "```\n",
    "\n",
    "| id_a \t|   shape_a   \t| id_b \t|     shape_b     \t|\n",
    "|:----:\t|:-----------:\t|:----:\t|:---------------:\t|"
   ]
  },
  {
   "cell_type": "markdown",
   "metadata": {
    "slideshow": {
     "slide_type": "subslide"
    }
   },
   "source": [
    "##  NATURAL LEFT JOIN USING\n",
    "\n",
    "```sql\n",
    "SELECT \n",
    "    a.id id_a,\n",
    "    a.shape shape_a,\n",
    "    b.id id_b,\n",
    "    b.shape shape_b\n",
    "FROM shape_a a\n",
    "NATURAL LEFT JOIN shape_b b;\n",
    "```\n",
    "\n",
    "| id_a \t|   shape_a   \t| id_b \t| shape_b \t|\n",
    "|:----:\t|:-----------:\t|:----:\t|:-------:\t|\n",
    "|   1  \t|  \"Triangle\" \t| null \t|   null  \t|\n",
    "|   2  \t|   \"Square\"  \t| null \t|   null  \t|\n",
    "|   3  \t|  \"Deltoid\"  \t| null \t|   null  \t|\n",
    "|   4  \t| \"Trapezoid\" \t| null \t|   null  \t|"
   ]
  },
  {
   "cell_type": "markdown",
   "metadata": {
    "slideshow": {
     "slide_type": "subslide"
    }
   },
   "source": [
    "##  NATURAL RIGHT JOIN USING\n",
    "```sql\n",
    "SELECT \n",
    "    a.id id_a,\n",
    "    a.shape shape_a,\n",
    "    b.id id_b,\n",
    "    b.shape shape_b\n",
    "FROM shape_a a\n",
    "NATURAL RIGHT JOIN shape_b b;\n",
    "```\n",
    "| id_a \t| shape_a \t| id_b \t|     shape_b     \t|\n",
    "|:----:\t|:-------:\t|:----:\t|:---------------:\t|\n",
    "| null \t|   null  \t|   1  \t|     \"Square\"    \t|\n",
    "| null \t|   null  \t|   2  \t|    \"Triangle\"   \t|\n",
    "| null \t|   null  \t|   3  \t|     \"Rhomb\"     \t|\n",
    "| null \t|   null  \t|   4  \t| \"Parallelogram\" \t|"
   ]
  },
  {
   "cell_type": "markdown",
   "metadata": {
    "slideshow": {
     "slide_type": "slide"
    }
   },
   "source": [
    "## SELF JOIN\n",
    "\n",
    "```sql\n",
    "SELECT\n",
    "    f1.title film_1,\n",
    "    f2.title film_2,\n",
    "    f1. length\n",
    "FROM\n",
    "    film f1\n",
    "INNER JOIN film f2 ON f1.film_id <> f2.film_id\n",
    "AND f1.length> 100 AND  f1. length = f2. length;\n",
    "```\n",
    "|       film_1       \t|          film_2          \t| length \t|\n",
    "|:------------------:\t|:------------------------:\t|:------:\t|\n",
    "|  \"Chamber Italian\" \t| \"Resurrection Silverado\" \t|   117  \t|\n",
    "|  \"Chamber Italian\" \t|     \"Magic Mallrats\"     \t|   117  \t|\n",
    "|  \"Chamber Italian\" \t|      \"Graffiti Love\"     \t|   117  \t|\n",
    "|  \"Chamber Italian\" \t|    \"Affair Prejudice\"    \t|   117  \t|\n",
    "| \"Affair Prejudice\" \t| \"Resurrection Silverado\" \t|   117  \t|\n",
    "| \"Affair Prejudice\" \t|     \"Magic Mallrats\"     \t|   117  \t|\n",
    "| \"Affair Prejudice\" \t|     \"Chamber Italian\"    \t|   117  \t|\n",
    "|         ...        \t|            ...           \t|   ...  \t|"
   ]
  },
  {
   "cell_type": "markdown",
   "metadata": {
    "slideshow": {
     "slide_type": "slide"
    }
   },
   "source": [
    "## CROSS JOIN\n",
    "\n",
    "```sql\n",
    "CREATE TABLE name (name CHAR(6));\n",
    "CREATE TABLE value (value INT );\n",
    "INSERT INTO name (name)\n",
    "VALUES\n",
    "\t('Anna'),\n",
    "\t('Bert'),\n",
    "    ('Maick');\n",
    "INSERT INTO value (value)\n",
    "VALUES\n",
    "\t(1),\n",
    "\t(2);\n",
    " ```\n",
    " \n",
    " "
   ]
  },
  {
   "cell_type": "markdown",
   "metadata": {
    "slideshow": {
     "slide_type": "subslide"
    }
   },
   "source": [
    "## CROSS JOIN\n",
    "```sql\n",
    "SELECT\n",
    "\t*\n",
    "FROM\n",
    "\tname\n",
    "CROSS JOIN value;\n",
    "```\n",
    "|   name   \t| value \t|\n",
    "|:--------:\t|:-----:\t|\n",
    "|  \"Anna\"  \t|   1   \t|\n",
    "|   \"Bert  \t|   1   \t|\n",
    "| \"Maick \" \t|   1   \t|\n",
    "|   \"Anna  \t|   2   \t|\n",
    "|   \"Bert  \t|   2   \t|\n",
    "| \"Maick \" \t|   2   \t|"
   ]
  },
  {
   "cell_type": "markdown",
   "metadata": {
    "slideshow": {
     "slide_type": "slide"
    }
   },
   "source": [
    "## Merge  join\n",
    "\n",
    "```sql\n",
    "select a.first_name, a.last_name, f.title from actor a \n",
    "inner join film_actor fa on a.actor_id = fa.actor_id inner \n",
    "join film f on fa.film_id = f.film_id;\n",
    "```\n",
    "is equivalent: \n",
    "\n",
    "```sql\n",
    "select a.first_name, a.last_name, f.title \n",
    "from actor a, film f, film_actor fa \n",
    "where a.actor_id = fa.actor_id and fa.film_id = f.film_id;\n",
    "```"
   ]
  },
  {
   "cell_type": "markdown",
   "metadata": {
    "slideshow": {
     "slide_type": "slide"
    }
   },
   "source": [
    "## Result example mearge join\n",
    "\n",
    "| first_name \t| last_name \t|          title          \t|\n",
    "|:----------:\t|:---------:\t|:-----------------------:\t|\n",
    "| \"Penelope\" \t| \"Guiness\" \t|    \"Academy Dinosaur\"   \t|\n",
    "| \"Penelope\" \t| \"Guiness\" \t|  \"Anaconda Confessions\" \t|\n",
    "| \"Penelope\" \t| \"Guiness\" \t|      \"Angels Life\"      \t|\n",
    "| \"Penelope\" \t| \"Guiness\" \t| \"Bulworth Commandments\" \t|\n",
    "| \"Penelope\" \t| \"Guiness\" \t|     \"Cheaper Clyde\"     \t|\n",
    "| \"Penelope\" \t| \"Guiness\" \t|   \"Color Philadelphia\"  \t|\n",
    "| \"Penelope\" \t| \"Guiness\" \t|    \"Elephant Trojan\"    \t|\n",
    "| \"Penelope\" \t| \"Guiness\" \t|  \"Gleaming Jawbreaker\"  \t|\n",
    "|     ...    \t|    ...    \t|           ...           \t|"
   ]
  },
  {
   "cell_type": "markdown",
   "metadata": {
    "slideshow": {
     "slide_type": "subslide"
    }
   },
   "source": [
    "## Performeance join merginig tables\n",
    "\n",
    "<img src='./img/per_join.png'>\n"
   ]
  },
  {
   "cell_type": "markdown",
   "metadata": {
    "slideshow": {
     "slide_type": "subslide"
    }
   },
   "source": [
    "## Performeance where merginig tables\n",
    "\n",
    "<img src='./img/per_where.png'>\n"
   ]
  },
  {
   "cell_type": "markdown",
   "metadata": {
    "slideshow": {
     "slide_type": "slide"
    }
   },
   "source": [
    "## Join with sub query\n",
    "\n",
    "**Option 1:**\n",
    "```sql\n",
    "select a.first_name, a.last_name, f.title from actor a \n",
    "inner join film_actor fa on a.actor_id = fa.actor_id \n",
    "inner join film f on fa.film_id = f.film_id \n",
    "and \n",
    "length(a.first_name) < 3 and length(a.last_name)> 5 ;\n",
    "```\n",
    "\n",
    "**Option 2:**\n",
    "```sql\n",
    "select a.first_name, a.last_name, f.title from \n",
    "(select actor_id, first_name, last_name from actor where length(first_name) < 3 and length(last_name)> 5 ) as a \n",
    "inner join film_actor fa on a.actor_id = fa.actor_id \n",
    "inner join film f on fa.film_id = f.film_id;\n",
    "```\n",
    "\n",
    "**Option 3:**\n",
    "```sql\n",
    "select a.first_name, a.last_name, f.title from actor a \n",
    "inner join film_actor fa on a.actor_id = fa.actor_id \n",
    "and length(a.first_name) < 3 and length(a.last_name)> 5  \n",
    "inner join film f on fa.film_id = f.film_id;\n",
    "```"
   ]
  },
  {
   "cell_type": "markdown",
   "metadata": {
    "slideshow": {
     "slide_type": "subslide"
    }
   },
   "source": [
    "## Result:\n",
    "\n",
    "| first_name \t|  last_name  \t|          title          \t|\n",
    "|:----------:\t|:-----------:\t|:-----------------------:\t|\n",
    "|    \"Ed\"    \t| \"Mansfield\" \t|  \"Amelie Hellfighters\"  \t|\n",
    "|    \"Ed\"    \t| \"Mansfield\" \t|      \"Angels Life\"      \t|\n",
    "|    \"Ed\"    \t| \"Mansfield\" \t|      \"Apollo Teen\"      \t|\n",
    "|    \"Ed\"    \t| \"Mansfield\" \t|  \"Barefoot Manchurian\"  \t|\n",
    "|    \"Ed\"    \t| \"Mansfield\" \t|     \"Beauty Grease\"     \t|\n",
    "|    \"Ed\"    \t| \"Mansfield\" \t| \"Crossroads Casualties\" \t|\n",
    "|    \"Ed\"    \t| \"Mansfield\" \t|    \"Daughter Madigan\"   \t|\n",
    "|    \"Ed\"    \t| \"Mansfield\" \t|      \"Devil Desire\"     \t|\n",
    "|     ...    \t|     ...     \t|           ...           \t|"
   ]
  },
  {
   "cell_type": "markdown",
   "metadata": {
    "slideshow": {
     "slide_type": "subslide"
    }
   },
   "source": [
    "## Performance option 1\n",
    "\n",
    "<img src='./img/per_option1.png'>"
   ]
  },
  {
   "cell_type": "markdown",
   "metadata": {
    "slideshow": {
     "slide_type": "subslide"
    }
   },
   "source": [
    "## Performance option 2\n",
    "\n",
    "<img src='./img/per_option2.png'>"
   ]
  },
  {
   "cell_type": "markdown",
   "metadata": {
    "slideshow": {
     "slide_type": "subslide"
    }
   },
   "source": [
    "## Performance option 3\n",
    "\n",
    "<img src='./img/per_option3.png'>"
   ]
  },
  {
   "cell_type": "markdown",
   "metadata": {
    "slideshow": {
     "slide_type": "subslide"
    }
   },
   "source": [
    "## Performance in right join\n",
    "\n",
    "**Option 1:**\n",
    "```sql\n",
    "select a.first_name, a.last_name, f.title from actor a \n",
    "right join film_actor fa on a.actor_id = fa.actor_id \n",
    "right join film f on fa.film_id = f.film_id \n",
    "and \n",
    "length(a.first_name) < 3 and length(a.last_name)> 5 order by first_name DESC;\n",
    "```\n",
    "\n",
    "**Option 2:**\n",
    "```sql\n",
    "select a.first_name, a.last_name, f.title from \n",
    "(select actor_id, first_name, last_name from actor where length(first_name) < 3 and length(last_name)> 5 ) as a \n",
    "right join film_actor fa on a.actor_id = fa.actor_id \n",
    "right join film f on fa.film_id = f.film_id order by first_name DESC;\n",
    "```\n",
    "\n",
    "**Option 3:**\n",
    "```sql\n",
    "select a.first_name, a.last_name, f.title from actor a \n",
    "right join film_actor fa on a.actor_id = fa.actor_id \n",
    "and length(a.first_name) < 3 and length(a.last_name)> 5  \n",
    "right join film f on fa.film_id = f.film_id order by first_name DESC;\n",
    "```"
   ]
  },
  {
   "cell_type": "markdown",
   "metadata": {
    "slideshow": {
     "slide_type": "subslide"
    }
   },
   "source": [
    "## Performance right join option 1\n",
    "\n",
    "<img src='./img/per_option1_r.png'>"
   ]
  },
  {
   "cell_type": "markdown",
   "metadata": {
    "slideshow": {
     "slide_type": "subslide"
    }
   },
   "source": [
    "## Performance option 2\n",
    "\n",
    "<img src='./img/per_option2_r.png'>"
   ]
  },
  {
   "cell_type": "markdown",
   "metadata": {
    "slideshow": {
     "slide_type": "subslide"
    }
   },
   "source": [
    "## Performance option 3\n",
    "\n",
    "<img src='./img/per_option3_r.png'>"
   ]
  }
 ],
 "metadata": {
  "celltoolbar": "Slideshow",
  "jupytext": {
   "formats": "ipynb"
  },
  "kernelspec": {
   "display_name": "Python 3",
   "language": "python",
   "name": "python3"
  },
  "language_info": {
   "codemirror_mode": {
    "name": "ipython",
    "version": 3
   },
   "file_extension": ".py",
   "mimetype": "text/x-python",
   "name": "python",
   "nbconvert_exporter": "python",
   "pygments_lexer": "ipython3",
   "version": "3.7.6"
  },
  "rise": {
   "autolaunch": true,
   "backimage": "img/tlo_agh.png"
  }
 },
 "nbformat": 4,
 "nbformat_minor": 2
}
