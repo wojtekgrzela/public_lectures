{
 "cells": [
  {
   "cell_type": "markdown",
   "metadata": {
    "collapsed": true,
    "slideshow": {
     "slide_type": "slide"
    }
   },
   "source": [
    "# Advanced databases\n",
    "\n",
    "## Transaction - ACID \n",
    "### dr  inż. Waldemar Bauer"
   ]
  },
  {
   "cell_type": "markdown",
   "metadata": {
    "slideshow": {
     "slide_type": "slide"
    }
   },
   "source": [
    "## Transaction\n",
    "\n",
    "- A transaction, in the context of a database, is a logical unit that is independently executed for data retrieval or updates. \n",
    "\n",
    "- Is a basic mechanism in a database server on to guaranteed consistent the data. \n"
   ]
  },
  {
   "cell_type": "markdown",
   "metadata": {
    "slideshow": {
     "slide_type": "subslide"
    }
   },
   "source": [
    "## Tarnsaction schema\n",
    "\n",
    "<img src='img/transaction_schema.png'>"
   ]
  },
  {
   "cell_type": "markdown",
   "metadata": {
    "slideshow": {
     "slide_type": "slide"
    }
   },
   "source": [
    "## Transaction Controls\n",
    "\n",
    "- COMMIT − to save the changes.\n",
    "\n",
    "- ROLLBACK − to roll back the changes.\n",
    "\n",
    "- SAVEPOINT − creates points within the groups of transactions in which to ROLLBACK.\n",
    "\n",
    "- SET TRANSACTION − Places a name on a transaction.\n",
    "\n",
    "**Transactional control commands are only used with the DML Commands : INSERT, UPDATE and DELETE.**"
   ]
  },
  {
   "cell_type": "markdown",
   "metadata": {
    "slideshow": {
     "slide_type": "subslide"
    }
   },
   "source": [
    "## Example table\n",
    "<center>\n",
    "    \n",
    "| id \t|        name       \t|    surname    \t|   born_data  \t|\n",
    "|:--:\t|:-----------------:\t|:-------------:\t|:------------:\t|\n",
    "|  1 \t|     \"William\"     \t| \"Shakespeare\" \t| \"1564-04-26\" \t|\n",
    "|  2 \t|      \"Albert\"     \t|    \"Camus\"    \t| \"1913-11-07\" \t|\n",
    "|  3 \t|     \"Henryk \"     \t| \"Sienkiewicz\" \t| \"1846-05-05\" \t|\n",
    "|  4 \t|     \"Victor \"     \t|     \"Hugo\"    \t| \"1802-02-26\" \t|\n",
    "|  5 \t|   \"Edgar Allan\"   \t|     \"Poe\"     \t| \"1809-01-19\" \t|\n",
    "|  6 \t|      \"Oscar\"      \t|    \"Wilde\"    \t| \"1854-10-16\" \t|\n",
    "|  7 \t| \"Johann Wolfgang\" \t|    \"Goethe\"   \t| \"1749-08-28\" \t|\n",
    "|  8 \t|     \"Umberto \"    \t|      \"Eco     \t| \"1932-01-05\" \t|\n",
    "|  9 \t|      \"Edward\"     \t|   \"Stachura\"  \t| \"1937-08-18\" \t|\n",
    "| 10 \t| \"Krzysztof Kamil\" \t|  \"Baczyński\"  \t| \"1921-01-22\" \t|\n",
    "\n",
    "</center>"
   ]
  },
  {
   "cell_type": "markdown",
   "metadata": {
    "slideshow": {
     "slide_type": "subslide"
    }
   },
   "source": [
    "## Transaction COMMIT\n",
    "\n",
    "```sql\n",
    "update authors set id=100  where id = 10;\n",
    "update authors set id=90  where id = 9;\n",
    "commit;\n",
    "```\n",
    "Results:\n",
    "\n",
    "| id \t|        name       \t|    surname    \t|   born_data  \t|\n",
    "|:--:\t|:-----------------:\t|:-------------:\t|:------------:\t|\n",
    "|  1 \t|     \"William\"     \t| \"Shakespeare\" \t| \"1564-04-26\" \t|\n",
    "|  2 \t|      \"Albert\"     \t|    \"Camus\"    \t| \"1913-11-07\" \t|\n",
    "|  3 \t|     \"Henryk \"     \t| \"Sienkiewicz\" \t| \"1846-05-05\" \t|\n",
    "|  4 \t|     \"Victor \"     \t|     \"Hugo\"    \t| \"1802-02-26\" \t|\n",
    "|  5 \t|   \"Edgar Allan\"   \t|     \"Poe\"     \t| \"1809-01-19\" \t|\n",
    "|  6 \t|      \"Oscar\"      \t|    \"Wilde\"    \t| \"1854-10-16\" \t|\n",
    "|  7 \t| \"Johann Wolfgang\" \t|    \"Goethe\"   \t| \"1749-08-28\" \t|\n",
    "|  8 \t|     \"Umberto \"    \t|      \"Eco     \t| \"1932-01-05\" \t|\n",
    "|  90 \t|      \"Edward\"     \t|   \"Stachura\"  \t| \"1937-08-18\" \t|\n",
    "| 100 \t| \"Krzysztof Kamil\" \t|  \"Baczyński\"  \t| \"1921-01-22\" \t|"
   ]
  },
  {
   "cell_type": "markdown",
   "metadata": {
    "slideshow": {
     "slide_type": "subslide"
    }
   },
   "source": [
    "## Transaction ROLLBACK after COMMIT\n",
    "\n",
    "```sql\n",
    "update authors set id=10  where id = 100;\n",
    "update authors set id=9  where id = 90;\n",
    "\n",
    "commit;\n",
    "\n",
    "rollback;\n",
    "\n",
    "select * from authors where id in (100, 90) order by id ;\n",
    "\n",
    "```"
   ]
  },
  {
   "cell_type": "markdown",
   "metadata": {
    "slideshow": {
     "slide_type": "fragment"
    }
   },
   "source": [
    "Results:\n",
    "\n",
    "| id \t|        name       \t|    surname    \t|   born_data  \t|\n",
    "|:--:\t|:-----------------:\t|:-------------:\t|:------------:\t|\n",
    "| \t    |                    \t|               \t|           \t|"
   ]
  },
  {
   "cell_type": "markdown",
   "metadata": {
    "slideshow": {
     "slide_type": "subslide"
    }
   },
   "source": [
    "## Table state ROLLBACK after COMMIT\n",
    "```sql\n",
    "select * from authors order by id;\n",
    "```\n",
    "\n",
    "<center>\n",
    "    \n",
    "| id \t|        name       \t|    surname    \t|   born_data  \t|\n",
    "|:--:\t|:-----------------:\t|:-------------:\t|:------------:\t|\n",
    "|  1 \t|     \"William\"     \t| \"Shakespeare\" \t| \"1564-04-26\" \t|\n",
    "|  2 \t|      \"Albert\"     \t|    \"Camus\"    \t| \"1913-11-07\" \t|\n",
    "|  3 \t|     \"Henryk \"     \t| \"Sienkiewicz\" \t| \"1846-05-05\" \t|\n",
    "|  4 \t|     \"Victor \"     \t|     \"Hugo\"    \t| \"1802-02-26\" \t|\n",
    "|  5 \t|   \"Edgar Allan\"   \t|     \"Poe\"     \t| \"1809-01-19\" \t|\n",
    "|  6 \t|      \"Oscar\"      \t|    \"Wilde\"    \t| \"1854-10-16\" \t|\n",
    "|  7 \t| \"Johann Wolfgang\" \t|    \"Goethe\"   \t| \"1749-08-28\" \t|\n",
    "|  8 \t|     \"Umberto \"    \t|      \"Eco     \t| \"1932-01-05\" \t|\n",
    "|  9 \t|      \"Edward\"     \t|   \"Stachura\"  \t| \"1937-08-18\" \t|\n",
    "| 10 \t| \"Krzysztof Kamil\" \t|  \"Baczyński\"  \t| \"1921-01-22\" \t|\n",
    "\n",
    "</center>"
   ]
  },
  {
   "cell_type": "markdown",
   "metadata": {
    "slideshow": {
     "slide_type": "subslide"
    }
   },
   "source": [
    "## Transaction ROLLBACK befor COMMIT\n",
    "\n",
    "```sql\n",
    "update authors set id=100  where id = 10;\n",
    "update authors set id=90  where id = 9;\n",
    "\n",
    "rollback;\n",
    "\n",
    "commit;\n",
    "\n",
    "select * from authors where id in (100, 90) order by id ;\n",
    "\n",
    "```"
   ]
  },
  {
   "cell_type": "markdown",
   "metadata": {
    "slideshow": {
     "slide_type": "fragment"
    }
   },
   "source": [
    "### Results:\n",
    "\n",
    "| id \t|        name       \t|    surname    \t|   born_data  \t|\n",
    "|:--:\t|:-----------------:\t|:-------------:\t|:------------:\t|\n",
    "| \t    |                    \t|               \t|           \t|"
   ]
  },
  {
   "cell_type": "markdown",
   "metadata": {
    "slideshow": {
     "slide_type": "subslide"
    }
   },
   "source": [
    "## Table state after ROLLBACK befor COMMIT\n",
    "```sql\n",
    "select * from authors order by id;\n",
    "```\n",
    "\n",
    "<center>\n",
    "    \n",
    "| id \t|        name       \t|    surname    \t|   born_data  \t|\n",
    "|:--:\t|:-----------------:\t|:-------------:\t|:------------:\t|\n",
    "|  1 \t|     \"William\"     \t| \"Shakespeare\" \t| \"1564-04-26\" \t|\n",
    "|  2 \t|      \"Albert\"     \t|    \"Camus\"    \t| \"1913-11-07\" \t|\n",
    "|  3 \t|     \"Henryk \"     \t| \"Sienkiewicz\" \t| \"1846-05-05\" \t|\n",
    "|  4 \t|     \"Victor \"     \t|     \"Hugo\"    \t| \"1802-02-26\" \t|\n",
    "|  5 \t|   \"Edgar Allan\"   \t|     \"Poe\"     \t| \"1809-01-19\" \t|\n",
    "|  6 \t|      \"Oscar\"      \t|    \"Wilde\"    \t| \"1854-10-16\" \t|\n",
    "|  7 \t| \"Johann Wolfgang\" \t|    \"Goethe\"   \t| \"1749-08-28\" \t|\n",
    "|  8 \t|     \"Umberto \"    \t|      \"Eco     \t| \"1932-01-05\" \t|\n",
    "|  9 \t|      \"Edward\"     \t|   \"Stachura\"  \t| \"1937-08-18\" \t|\n",
    "| 10 \t| \"Krzysztof Kamil\" \t|  \"Baczyński\"  \t| \"1921-01-22\" \t|\n",
    "\n",
    "</center>"
   ]
  },
  {
   "cell_type": "markdown",
   "metadata": {
    "slideshow": {
     "slide_type": "subslide"
    }
   },
   "source": [
    "## Transaction SAVEPOINT\n",
    "\n",
    "```sql\n",
    "update authors set id=100  where id = 10;\n",
    "update authors set id=90  where id = 9;\n",
    "savepoint test_1;\n",
    "\n",
    "update authors set id=10  where id = 100;\n",
    "update authors set id=9  where id = 90;\n",
    "\n",
    "rollback to test_1;\n",
    "commit;\n",
    "\n",
    "select * from authors where id in (100, 90) order by id ;\n",
    "\n",
    "```\n",
    "### Results\n",
    "<center>\n",
    "    \n",
    "| id \t|        name       \t|    surname    \t|   born_data  \t|\n",
    "|:--:\t|:-----------------:\t|:-------------:\t|:------------:\t|\n",
    "|  90 \t|      \"Edward\"     \t|   \"Stachura\"  \t| \"1937-08-18\" \t|\n",
    "| 100 \t| \"Krzysztof Kamil\" \t|  \"Baczyński\"  \t| \"1921-01-22\" \t|\n",
    "\n",
    "</center>"
   ]
  },
  {
   "cell_type": "markdown",
   "metadata": {
    "slideshow": {
     "slide_type": "slide"
    }
   },
   "source": [
    "## ACID rule\n",
    "\n",
    "<center> <img src='img/acid_rule.png'> </center>"
   ]
  },
  {
   "cell_type": "markdown",
   "metadata": {
    "slideshow": {
     "slide_type": "slide"
    }
   },
   "source": [
    "## Atomicity\n",
    "\n",
    "- **''All or nothing rule''** = if any of the statements constituting a transaction fails to complete, the entire transaction fails and the database is left unchanged\n",
    "- Transactions are often composed of multiple statements.\n",
    "- An atomic system must guarantee atomicity in each and every situation.\n",
    "- Atomicity guarantees that each transaction is treated as a single \"unit\". "
   ]
  },
  {
   "cell_type": "markdown",
   "metadata": {
    "slideshow": {
     "slide_type": "subslide"
    }
   },
   "source": [
    "## Atomicity translaction example\n",
    "\n",
    "|  Begin  \t|   X = 200   \t|   Y = 300   \t|\n",
    "|:-------:\t|:-----------:\t|:-----------:\t|\n",
    "| Execute \t|   Read(X)   \t|   Read(Y)   \t|\n",
    "|         \t| X = X - 100 \t| Y = Y + 100 \t|\n",
    "|  Commit \t|   Write(X)  \t|   Write(Y)  \t|\n",
    "|  After  \t|   X = 100   \t|   Y = 400   \t|"
   ]
  },
  {
   "cell_type": "markdown",
   "metadata": {
    "slideshow": {
     "slide_type": "subslide"
    }
   },
   "source": [
    "## Consistency\n",
    "\n",
    "- Guarantee that any transaction in future see the effects of other transaction commited in the past.\n",
    "- Guarantee that database constraints are not violated by transaction commits.\n",
    "- Guarantee that operations in transactions are performed accurately, correctly, and with validity, with respect to database server rules.\n",
    "- This does not guarantee correctness of the transaction "
   ]
  },
  {
   "cell_type": "markdown",
   "metadata": {
    "slideshow": {
     "slide_type": "subslide"
    }
   },
   "source": [
    "## Consistency translaction example\n",
    "\n",
    "|  Begin  \t|   X = 200   \t|   Y = 300   \t| X + Y = 500 \t|\n",
    "|:-------:\t|:-----------:\t|:-----------:\t|-------------\t|\n",
    "| Execute \t|   Read(X)   \t|   Read(Y)   \t|             \t|\n",
    "|         \t| X = X - 100 \t| Y = Y + 100 \t|             \t|\n",
    "|  Commit \t|   Write(X)  \t|   Write(Y)  \t|             \t|\n",
    "|  After  \t|   X = 100   \t|   Y = 400   \t| X + Y = 500 \t|"
   ]
  },
  {
   "cell_type": "markdown",
   "metadata": {
    "slideshow": {
     "slide_type": "slide"
    }
   },
   "source": [
    "## Isolation\n",
    "- This property ensures that multiple transactions can occur concurrently without leading to inconsistency of database state. \n",
    "- Transactions occur independently without interference. \n",
    "- Changes occurring in a particular transaction will not be visible to any other transaction until that particular change in that transaction is written to memory or has been committed. \n",
    "- This property ensures that the execution of transactions concurrently will result in a state that is equivalent to a state achieved these were executed serially in some order."
   ]
  },
  {
   "cell_type": "markdown",
   "metadata": {
    "slideshow": {
     "slide_type": "subslide"
    }
   },
   "source": [
    "## Why do we need Isolation?\n",
    "\n",
    "|         \t| Transaction 1 \t| Transaction 2 \t|\n",
    "|:-------:\t|:-------------:\t|:-------------:\t|\n",
    "|  Begin  \t|       Y       \t|      X,Y      \t|\n",
    "| Execute \t|    Read(Y)    \t|    Read(X)    \t|\n",
    "|         \t|    Y = Y-50   \t|    Read(Y)    \t|\n",
    "|         \t|               \t|   X = X + Y   \t|\n",
    "|  Commit \t|    Write(Y)   \t|    Write(X)   \t|\n",
    "|  After  \t|    Y = ???    \t|    X = ???    \t|"
   ]
  },
  {
   "cell_type": "markdown",
   "metadata": {
    "slideshow": {
     "slide_type": "subslide"
    }
   },
   "source": [
    "## Isolation problems\n",
    "- Dirty Reads\n",
    "- Lost updates\t\n",
    "- Non-repeatable Reads\n",
    "- Phantom Reads\n"
   ]
  },
  {
   "cell_type": "markdown",
   "metadata": {
    "slideshow": {
     "slide_type": "subslide"
    }
   },
   "source": [
    "## Dirty Reads\n",
    "\n",
    "|              Transaction 1             \t|                   Transaction 2                  \t|\n",
    "|:--------------------------------------:\t|:------------------------------------------------:\t|\n",
    "|                 BEGIN;                 \t|                      BEGIN;                      \t|\n",
    "| SELECT name FROM authors WHERE id = 1; \t|                                                  \t|\n",
    "|            -- name = William           \t| UPDATE authors SET name = \"Willie\" WHERE id = 1; \t|\n",
    "|                                        \t|                 -- no commit here                \t|\n",
    "| SELECT name FROM authors WHERE id = 1; \t|                                                  \t|\n",
    "|            -- name = Willie            \t|                                                  \t|"
   ]
  },
  {
   "cell_type": "markdown",
   "metadata": {
    "slideshow": {
     "slide_type": "subslide"
    }
   },
   "source": [
    "## Non-repeatable Reads\n",
    "|              Transaction 1             \t|                   Transaction 2                  \t|\n",
    "|:--------------------------------------:\t|:------------------------------------------------:\t|\n",
    "|                 BEGIN;                 \t|                      BEGIN;                      \t|\n",
    "| SELECT name FROM authors WHERE id = 1; \t|                                                  \t|\n",
    "|            -- name = William           \t| UPDATE authors SET name = \"Willie\" WHERE id = 1; \t|\n",
    "|                                        \t|                      COMMIT;                     \t|\n",
    "| SELECT name FROM authors WHERE id = 1; \t|                                                  \t|\n",
    "|            -- name = Willie            \t|                                                  \t|"
   ]
  },
  {
   "cell_type": "markdown",
   "metadata": {
    "slideshow": {
     "slide_type": "subslide"
    }
   },
   "source": [
    "## Lost updates\n",
    "|                 Transaction 1                \t|                   Transaction 2                  \t|\n",
    "|:--------------------------------------------:\t|:------------------------------------------------:\t|\n",
    "|                    BEGIN;                    \t|                      BEGIN;                      \t|\n",
    "|    SELECT name FROM authors WHERE id = 1;    \t|      SELECT name FROM authors WHERE id = 1;      \t|\n",
    "|               -- name = William              \t|                 -- name = William                \t|\n",
    "|                                              \t| UPDATE authors SET name = \"Willie\" WHERE id = 1; \t|\n",
    "| UPDATE authors SET name = \"W.\" WHERE id = 1; \t|                                                  \t|\n",
    "|                    COMMIT                    \t|                                                  \t|\n",
    "|    SELECT name FROM authors WHERE id = 1;    \t|                                                  \t|\n",
    "|                  -- name = W                 \t|                      COMMIT                      \t|\n",
    "|                                              \t|      SELECT name FROM authors WHERE id = 1;      \t|\n",
    "|                                              \t|                 -- name = Willie                 \t|\n",
    "|    SELECT name FROM authors WHERE id = 1;    \t|                                                  \t|\n",
    "|               -- name = Willie               \t|                                                  \t|"
   ]
  },
  {
   "cell_type": "markdown",
   "metadata": {
    "slideshow": {
     "slide_type": "subslide"
    }
   },
   "source": [
    "## Phantom Reads\n",
    "|         Transaction 1         \t|                                      Transaction 2                                     \t|\n",
    "|:-----------------------------:\t|:--------------------------------------------------------------------------------------:\t|\n",
    "|             BEGIN;            \t|                                         BEGIN;                                         \t|\n",
    "| SELECT count(*) FROM authors; \t|                                                                                        \t|\n",
    "|          -- count= 10         \t| Insert into authors(name,surname,born_date) Values (\"A.\", \"Mickiewicz\", \"24.12.1798\"); \t|\n",
    "|                               \t|                                         COMMIT;                                        \t|\n",
    "| SELECT count(*) FROM authors; \t|                                                                                        \t|\n",
    "|          -- count= 11         \t|                                                                                        \t|"
   ]
  },
  {
   "cell_type": "markdown",
   "metadata": {
    "slideshow": {
     "slide_type": "subslide"
    }
   },
   "source": [
    "## Isolation levels \n",
    "\n",
    "| Isolation level  \t|                    Dirty reads                   \t|                   Lost updates                   \t|              Non-repeatable reads              \t|                  Phantoms reads                  \t|\n",
    "|------------------\t|:------------------------------------------------:\t|:------------------------------------------------:\t|:----------------------------------------------:\t|:------------------------------------------------:\t|\n",
    "| Read Uncommitted \t|    <span style=\"color:red\"> may occur </span>    \t|    <span style=\"color:red\"> may occur </span>    \t|   <span style=\"color:red\"> may occur </span>   \t|    <span style=\"color:red\"> may occur </span>    \t|\n",
    "| Read Committed   \t|  <span style=\"color:green\"> don't occur </span>  \t|    <span style=\"color:red\"> may occur </span>    \t|   <span style=\"color:red\"> may occur </span>   \t|    <span style=\"color:red\"> may occur </span>    \t|\n",
    "| Repeatable Read  \t| <span style=\"color:green\">  don't occur  </span> \t| <span style=\"color:green\">  don't occur  </span> \t| <span style=\"color:green\"> don't occur </span> \t|    <span style=\"color:red\"> may occur </span>    \t|\n",
    "| Serializable     \t| <span style=\"color:green\">  don't occur  </span> \t| <span style=\"color:green\">  don't occur  </span> \t| <span style=\"color:green\"> don't occur </span> \t| <span style=\"color:green\">  don't occur  </span> \t|"
   ]
  },
  {
   "cell_type": "markdown",
   "metadata": {
    "slideshow": {
     "slide_type": "slide"
    }
   },
   "source": [
    "## Durability\n",
    "- This property ensures that once the transaction has completed execution, the updates and modifications to the database are stored in and written to disk and they persist even if system failure occurs.\n",
    "- The effects of the transaction, thus, are never lost."
   ]
  }
 ],
 "metadata": {
  "celltoolbar": "Slideshow",
  "jupytext": {
   "formats": "ipynb"
  },
  "kernelspec": {
   "display_name": "Python 3",
   "language": "python",
   "name": "python3"
  },
  "language_info": {
   "codemirror_mode": {
    "name": "ipython",
    "version": 3
   },
   "file_extension": ".py",
   "mimetype": "text/x-python",
   "name": "python",
   "nbconvert_exporter": "python",
   "pygments_lexer": "ipython3",
   "version": "3.7.6"
  },
  "rise": {
   "autolaunch": true,
   "backimage": "img/tlo_agh.png"
  }
 },
 "nbformat": 4,
 "nbformat_minor": 2
}
