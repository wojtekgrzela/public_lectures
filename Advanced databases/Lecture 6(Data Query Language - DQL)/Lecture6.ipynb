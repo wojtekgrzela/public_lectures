{
 "cells": [
  {
   "cell_type": "markdown",
   "metadata": {
    "collapsed": true,
    "slideshow": {
     "slide_type": "slide"
    }
   },
   "source": [
    "# Advanced databases\n",
    "\n",
    "## Data Query Language - DQL\n",
    "### dr  inż. Waldemar Bauer"
   ]
  },
  {
   "cell_type": "markdown",
   "metadata": {
    "slideshow": {
     "slide_type": "slide"
    }
   },
   "source": [
    "## SQL Standard\n",
    "\n",
    "\n",
    "- Structure Query Language(SQL) is a database query language used for storing and managing data in Relational DBMS\n",
    "\n",
    "- SQL is an ANSI/ISO standard but exists different versions of the SQL language.\n",
    "\n",
    "- The major commands such as SELECT, UPDATE, WHERE, DELETE, etc. are similar.\n",
    "\n",
    "- Most of the SQL database engiones also have their own proprietary extensions in addition to the SQL standard."
   ]
  },
  {
   "cell_type": "markdown",
   "metadata": {
    "slideshow": {
     "slide_type": "subslide"
    }
   },
   "source": [
    "## SQL Command\n",
    "\n",
    "1. DDL: Data Definition Language\n",
    "    - create\n",
    "    - alter\n",
    "    - delete\n",
    "    - drop\n",
    "    - rename\n",
    "2. DML: Data Manipulation Language\n",
    "    - insert\t\n",
    "    - update\t\n",
    "    - delete\n",
    "3. TCL: Transaction Control Language\n",
    "    - commit\n",
    "    - rollback\n",
    "    - savepoint\n",
    "4. DQL: Data Query Language\n",
    "    - select"
   ]
  },
  {
   "cell_type": "markdown",
   "metadata": {
    "slideshow": {
     "slide_type": "slide"
    }
   },
   "source": [
    "## Select - basic form\n",
    "\n",
    "```sql\n",
    "SELECT [DISTINCT|ALL ] { * | [fieldExpression [AS newName]} \n",
    "FROM tableName [alias] \n",
    "[WHERE condition]\n",
    "[GROUP BY fieldName(s)]  \n",
    "[HAVING condition] ORDER BY fieldName(s)\n",
    "```"
   ]
  },
  {
   "cell_type": "markdown",
   "metadata": {
    "slideshow": {
     "slide_type": "subslide"
    }
   },
   "source": [
    "## Select - PostgreSQL form\n",
    "<img src=\"./img/select_pg.png\" width=\"40%\" height=\"40%\">\n",
    "\n",
    "[source](https://www.postgresql.org/docs/current/sql-select.html)"
   ]
  },
  {
   "cell_type": "markdown",
   "metadata": {
    "slideshow": {
     "slide_type": "slide"
    }
   },
   "source": [
    "## Tutorial database\n",
    "<img src='./img/dvd-rental-sample-database-diagram.png' width=\"30%\" height=\"30%\">"
   ]
  },
  {
   "cell_type": "markdown",
   "metadata": {
    "slideshow": {
     "slide_type": "slide"
    }
   },
   "source": [
    "## Select on the begin\n",
    "\n",
    "**Query 1**\n",
    "```sql\n",
    "select 'a'\n",
    "```\n",
    "**result:**\n",
    "\n",
    "| ??column??, text \t|\n",
    "|:---------------:\t|\n",
    "|       \"a\"       \t|\n",
    "\n",
    "**Query 2**\n",
    "```sql\n",
    "select 4-(4+4)*4\n",
    "```\n",
    "**result:**\n",
    "\n",
    "|  ??column??, integer \t|\n",
    "|:---------------------:|\n",
    "|         -28         \t|\n"
   ]
  },
  {
   "cell_type": "markdown",
   "metadata": {
    "slideshow": {
     "slide_type": "slide"
    }
   },
   "source": [
    "## Alias\n",
    "\n",
    "**Query 1**\n",
    "```sql\n",
    "select 'a' as \"char\"\n",
    "```\n",
    "**result:**\n",
    "\n",
    "| char, text \t|\n",
    "|:---------------:\t|\n",
    "|       \"a\"       \t|\n",
    "\n",
    "**Query 2**\n",
    "```sql\n",
    "select 4-(4+4)*4 as \"calculation\"\n",
    "```\n",
    "**result:**\n",
    "\n",
    "|  calculation, integer \t|\n",
    "|:---------------------:|\n",
    "|         -28         \t|"
   ]
  },
  {
   "cell_type": "markdown",
   "metadata": {
    "slideshow": {
     "slide_type": "slide"
    }
   },
   "source": [
    "## Select and function\n",
    "\n",
    "**Query 1**\n",
    "```sql\n",
    "select upper('Anneth')\n",
    "```\n",
    "**result:**\n",
    "\n",
    "|   **upper**, text  |\n",
    "|:-----------------:|\n",
    "|       \"ANNETH\"    |\n",
    "\n",
    "**Query 2**\n",
    "```sql\n",
    "select sqrt (4*4*4*4)\n",
    "```\n",
    "**result:**\n",
    "\n",
    "|  **sqrt**, double precision|\n",
    "|:-------------------------:|\n",
    "|         16            \t|"
   ]
  },
  {
   "cell_type": "markdown",
   "metadata": {
    "slideshow": {
     "slide_type": "slide"
    }
   },
   "source": [
    "## Select from table\n",
    "\n",
    "Select all column from table:\n",
    "\n",
    "```sql\n",
    "select * from actor\n",
    "```\n",
    "\n",
    "**result:**\n",
    "\n",
    "| actor_id \t|  first_name \t|   last_name  \t|       last_update      \t|\n",
    "|:--------:\t|:-----------:\t|:------------:\t|:----------------------:\t|\n",
    "|     1    \t|   Penelope  \t|    Guiness   \t| 2013-05-26 14:47:57.62 \t|\n",
    "|     2    \t|     Nick    \t|   Wahlberg   \t| 2013-05-26 14:47:57.62 \t|\n",
    "|     3    \t|      Ed     \t|     Chase    \t| 2013-05-26 14:47:57.62 \t|\n",
    "|     4    \t|   Jennifer  \t|     Davis    \t| 2013-05-26 14:47:57.62 \t|\n",
    "|     5    \t|    Johnny   \t| Lollobrigida \t| 2013-05-26 14:47:57.62 \t|\n",
    "|     6    \t|    Bette    \t|   Nicholson  \t| 2013-05-26 14:47:57.62 \t|\n",
    "|     7    \t|    Grace    \t|    Mostel    \t| 2013-05-26 14:47:57.62 \t|\n",
    "|     8    \t|   Matthew   \t|   Johansson  \t| 2013-05-26 14:47:57.62 \t|\n",
    "|     ...   |     ...     \t|     ...    \t|           ...         \t|"
   ]
  },
  {
   "cell_type": "markdown",
   "metadata": {
    "slideshow": {
     "slide_type": "subslide"
    }
   },
   "source": [
    "## Select from table chosen columns\n",
    "\n",
    "```sql\n",
    "select first_name, last_name from actor\n",
    "```\n",
    "**result:**\n",
    "\n",
    "|  first_name \t|   last_name  \t|\n",
    "|:-----------:\t|:------------:\t|\n",
    "|   Penelope  \t|    Guiness   \t|\n",
    "|     Nick    \t|   Wahlberg   \t|\n",
    "|      Ed     \t|     Chase    \t|\n",
    "|   Jennifer  \t|     Davis    \t|\n",
    "|    Johnny   \t| Lollobrigida \t|\n",
    "|    Bette    \t|   Nicholson  \t|\n",
    "|    Grace    \t|    Mostel    \t|\n",
    "|   Matthew   \t|   Johansson  \t|\n",
    "|     ...     \t|     ...    \t|"
   ]
  },
  {
   "cell_type": "markdown",
   "metadata": {
    "slideshow": {
     "slide_type": "subslide"
    }
   },
   "source": [
    "## Select from table chosen columns and concatenation results\n",
    "\n",
    "```sql\n",
    "select Concat('First Name: ',first_name, ' Last Name: ', last_name) as \"My text\"\n",
    "from actor\n",
    "```\n",
    "\n",
    "**result:**\n",
    "\n",
    "|             My text                      |\n",
    "|:-----------------------------------------|\n",
    "|First Name: Penelope Last Name: Guiness   |\n",
    "|First Name: Nick Last Name: Wahlberg      |\n",
    "|First Name: Ed Last Name: Chase           |\n",
    "|First Name: Jennifer Last Name: Davis     |\n",
    "|First Name: Johnny Last Name: Lollobrigida|\n",
    "|First Name: Bette Last Name: Nicholson    |\n",
    "|First Name: Grace Last Name: Mostel       |\n",
    "|First Name: Matthew Last Name: Johansson  |\n",
    "|                 ...                      |"
   ]
  },
  {
   "cell_type": "markdown",
   "metadata": {
    "slideshow": {
     "slide_type": "subslide"
    }
   },
   "source": [
    "##  Select from table chosen columns and concatenation part 2 \n",
    "\n",
    "```sql\n",
    "select Concat('First Name: ',first_name, ' Last Name: ', last_name) as \"My text\",\n",
    "\n",
    "last_update from actor\n",
    "```\n",
    "\n",
    "**result:**\n",
    "\n",
    "| My text                                     \t| last_update            \t|\n",
    "|:---------------------------------------------\t|:------------------------\t|\n",
    "| First Name: Penelope Last Name: Guiness     \t| 2013-05-26 14:47:57.62 \t|\n",
    "| First Name: Nick Last Name: Wahlberg        \t| 2013-05-26 14:47:57.62 \t|\n",
    "| First Name: Ed Last Name: Chase             \t| 2013-05-26 14:47:57.62 \t|\n",
    "| First Name: Jennifer Last Name: Davis       \t| 2013-05-26 14:47:57.62 \t|\n",
    "| First Name: Johnny Last Name: Lollobrigida  \t| 2013-05-26 14:47:57.62 \t|\n",
    "| First Name: Bette Last Name: Nicholson      \t| 2013-05-26 14:47:57.62 \t|\n",
    "| First Name: Grace Last Name: Mostel         \t| 2013-05-26 14:47:57.62 \t|\n",
    "| First Name: Matthew Last Name: Johansson    \t| 2013-05-26 14:47:57.62 \t|\n",
    "|...                                            |             ...           |"
   ]
  },
  {
   "cell_type": "markdown",
   "metadata": {
    "slideshow": {
     "slide_type": "slide"
    }
   },
   "source": [
    "## Select limit\n",
    "```sql\n",
    "select first_name, last_name from actor limit 10 \n",
    "```\n",
    "\n",
    "**result:**\n",
    "\n",
    "| first_name \t| last_name    \t |\n",
    "|:------------:\t|:--------------:|\n",
    "| Penelope   \t| Guiness      \t |\n",
    "| Nick       \t| Wahlberg     \t |\n",
    "| Ed         \t| Chase        \t |\n",
    "| Jennifer   \t| Davis        \t |\n",
    "| Johnny     \t| Lollobrigida \t |\n",
    "| Bette      \t| Nicholson    \t |\n",
    "| Grace      \t| Mostel       \t |\n",
    "| Matthew    \t| Johansson    \t |\n",
    "| Joe        \t| Swank        \t |\n",
    "| Christian  \t| Gable        \t |\n",
    "\n",
    "- the *limit* value must be positive "
   ]
  },
  {
   "cell_type": "markdown",
   "metadata": {
    "slideshow": {
     "slide_type": "subslide"
    }
   },
   "source": [
    "## Select limit and offset\n",
    "\n",
    "```sql\n",
    "select first_name, last_name from actor limit 5 offset 5\n",
    "```\n",
    "**result:**\n",
    "\n",
    "| first_name \t| last_name    \t |\n",
    "|:------------:\t|:--------------:|\n",
    "| Bette      \t| Nicholson    \t |\n",
    "| Grace      \t| Mostel       \t |\n",
    "| Matthew    \t| Johansson    \t |\n",
    "| Joe        \t| Swank        \t |\n",
    "| Christian  \t| Gable        \t |\n",
    "\n",
    "- the *offset* value must be positive "
   ]
  },
  {
   "cell_type": "markdown",
   "metadata": {
    "slideshow": {
     "slide_type": "slide"
    }
   },
   "source": [
    "## Order by \n",
    " \n",
    "- Used to sort the result-set in ascending (ASC) or descending order (DESC)\n",
    "- Must by use before limit\n",
    "- Defult order by work in ASC mode\n",
    "\n",
    "```sql\n",
    "select first_name, last_name from actor order by first_name ASC limit 10\n",
    "```\n",
    "**result:**\n",
    "\n",
    "| first_name \t|  last_name  \t|\n",
    "|:----------:\t|:-----------:\t|\n",
    "|    Adam    \t|    Grant    \t|\n",
    "|    Adam    \t|    Hopper   \t|\n",
    "|     Al     \t|   Garland   \t|\n",
    "|    Alan    \t|   Dreyfuss  \t|\n",
    "|   Albert   \t|  Johansson  \t|\n",
    "|   Albert   \t|    Nolte    \t|\n",
    "|    Alec    \t|    Wayne    \t|\n",
    "|   Angela   \t| Witherspoon \t|\n",
    "|   Angela   \t|    Hudson   \t|\n",
    "|  Angelina  \t|   Astaire   \t|"
   ]
  },
  {
   "cell_type": "markdown",
   "metadata": {
    "slideshow": {
     "slide_type": "slide"
    }
   },
   "source": [
    "## Select with distinct\n",
    "\n",
    "**Query 1**\n",
    "```sql\n",
    "SELECT first_name FROM actor\n",
    "```\n",
    "Return 200 first names \n",
    "\n",
    "**Query 2**\n",
    "```sql\n",
    "SELECT DISTINCT first_name FROM actor\n",
    "```\n",
    "Return 128 first names\n"
   ]
  },
  {
   "cell_type": "markdown",
   "metadata": {
    "slideshow": {
     "slide_type": "subslide"
    }
   },
   "source": [
    "## Select with distinct part 2\n",
    "\n",
    "**Query 1**\n",
    "```sql\n",
    "SELECT first_name, last_name FROM actor\n",
    "```\n",
    "Return 200 first names \n",
    "\n",
    "**Query 2**\n",
    "```sql\n",
    "SELECT DISTINCT (first_name, last_name) FROM actor\n",
    "```\n",
    "Return 199 first names "
   ]
  },
  {
   "cell_type": "markdown",
   "metadata": {
    "slideshow": {
     "slide_type": "slide"
    }
   },
   "source": [
    "## Query Explain\n",
    "\n",
    "- Returns the execution plan which PostgreSQL planner generates for a given statement.\n",
    "- Shows information about tables involed in the query, type of opperation on index, ordered, etc. and kind of join algorithm will be used\n",
    "- Most important result of Explain is is start-cost before the first row can be returned and the total cost to return the complete result set\n",
    "\n",
    "```sql\n",
    "EXPLAIN [ ( option [, ...] ) ] statement\n",
    "EXPLAIN [ ANALYZE ] [ VERBOSE ] statement\n",
    "```\n"
   ]
  },
  {
   "cell_type": "markdown",
   "metadata": {
    "slideshow": {
     "slide_type": "subslide"
    }
   },
   "source": [
    "## Explain option\n",
    "\n",
    "options:\n",
    "\n",
    "- ANALYZE [ boolean ] - defult FALSE\n",
    "- VERBOSE [ boolean ] - defult FALSE\n",
    "- COSTS [ boolean ] - defult TRUE\n",
    "- BUFFERS [ boolean ] - defult FALSE\n",
    "- TIMING [ boolean ] -  defult TRUE\n",
    "- SUMMARY [ boolean ] - defult TRUE\n",
    "- FORMAT { TEXT | XML | JSON | YAML } - defult TEXT"
   ]
  },
  {
   "cell_type": "markdown",
   "metadata": {
    "slideshow": {
     "slide_type": "subslide"
    }
   },
   "source": [
    "## Explain option part 2\n",
    "\n",
    "- Analyze\n",
    "    - Option causes the sql_statement to be executed first and then actual run-time statistics.\n",
    "    - Return: total elapsed time expended within each plan node, the number of rows it actually returned.\n",
    "- Verbose \n",
    "    - Display additional information regarding the plan\n",
    "    - Return: output column list for each node in the plan tree, schema-qualify table and function names, always label variables in expressions with their range table alias, and always print the name of each trigger for which statistics are displayed \n",
    "- COSTS\n",
    "    - estimated startup and total cost of each plan node, as well as the estimated number of rows (Index Scan) and the estimated width of each row (in bytes of the returned rows)"
   ]
  },
  {
   "cell_type": "markdown",
   "metadata": {
    "slideshow": {
     "slide_type": "subslide"
    }
   },
   "source": [
    "## Explain exampel 1\n",
    "\n",
    "```sql\n",
    "EXPLAIN\n",
    "select first_name, last_name from actor  order by first_name ASC limit 10\n",
    "```\n",
    "<img src=\"./img/explain_basic.png\">\n"
   ]
  },
  {
   "cell_type": "markdown",
   "metadata": {
    "slideshow": {
     "slide_type": "subslide"
    }
   },
   "source": [
    "## Explain exampel 2\n",
    "\n",
    "```sql\n",
    "EXPLAIN ANALYZE VERBOSE \n",
    "select first_name, last_name from actor  order by first_name ASC limit 10\n",
    "```\n",
    "<img src=\"./img/explain_pro.png\">\n"
   ]
  },
  {
   "cell_type": "markdown",
   "metadata": {
    "slideshow": {
     "slide_type": "subslide"
    }
   },
   "source": [
    "## Explain exampel 3\n",
    "\n",
    "```sql\n",
    "EXPLAIN (ANALYZE TRUE, VERBOSE True, BUFFERS TRUE)\n",
    "select first_name, last_name from actor  order by first_name ASC limit 10\n",
    "```\n",
    "<img src=\"./img/explain_full.png\">\n"
   ]
  }
 ],
 "metadata": {
  "celltoolbar": "Slideshow",
  "jupytext": {
   "formats": "ipynb"
  },
  "kernelspec": {
   "display_name": "Python 3",
   "language": "python",
   "name": "python3"
  },
  "language_info": {
   "codemirror_mode": {
    "name": "ipython",
    "version": 3
   },
   "file_extension": ".py",
   "mimetype": "text/x-python",
   "name": "python",
   "nbconvert_exporter": "python",
   "pygments_lexer": "ipython3",
   "version": "3.7.6"
  },
  "rise": {
   "autolaunch": true,
   "backimage": "img/tlo_agh.png"
  }
 },
 "nbformat": 4,
 "nbformat_minor": 2
}
