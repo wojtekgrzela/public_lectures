{
 "cells": [
  {
   "cell_type": "markdown",
   "metadata": {
    "slideshow": {
     "slide_type": "notes"
    }
   },
   "source": [
    "# <center>laboratory 1<br>Computing methods</center>"
   ]
  },
  {
   "cell_type": "markdown",
   "metadata": {
    "slideshow": {
     "slide_type": "notes"
    }
   },
   "source": [
    "Instruction:\n",
    "All the exercises from the laboratory must be implemented in [Spyder] (https://www.spyder-ide.org/). The report must be sent in [Jupyter Notebook] (https://jupyter-notebook.readthedocs.io/en/stable/)"
   ]
  },
  {
   "cell_type": "markdown",
   "metadata": {
    "slideshow": {
     "slide_type": "notes"
    }
   },
   "source": [
    "<a id='zad1'></a>\n",
    "***Exercies 1.***   \n",
    "Calculate:\n",
    "  \n",
    "$k = 1240\\cdot\\sqrt{7}$  \n",
    "$m = 4467$  \n",
    "$l = 2j$  \n",
    "$d = k+m$  \n",
    "$c = d+l$  \n",
    "  \n",
    "After calculation chec data type created variabels in the *Variable explorer*. \n",
    "  \n",
    "***Hint:*** To use the mathematical function in Python the best practice is the use of the standard libraries/packages. For the example to calculate sqrt we can use *[math](https://docs.python.org/3/library/math.html)* or *[numpy](http://www.numpy.org/)*:"
   ]
  },
  {
   "cell_type": "code",
   "execution_count": null,
   "metadata": {},
   "outputs": [],
   "source": [
    "import math\n",
    "math.sqrt(10)"
   ]
  },
  {
   "cell_type": "markdown",
   "metadata": {},
   "source": [
    "or import the only function:"
   ]
  },
  {
   "cell_type": "code",
   "execution_count": null,
   "metadata": {},
   "outputs": [],
   "source": [
    "from math import sqrt \n",
    "sqrt(10)"
   ]
  },
  {
   "cell_type": "code",
   "execution_count": null,
   "metadata": {},
   "outputs": [],
   "source": [
    "# MY CALCULATIONS\n",
    "#EX 1 and 2\n",
    "\n",
    "k = 1240 * math.sqrt(7)\n",
    "m = 4467\n",
    "l = 2j\n",
    "d = k+m\n",
    "c = d+l\n",
    "print(l)\n",
    "print(d)\n",
    "print(c)"
   ]
  },
  {
   "cell_type": "markdown",
   "metadata": {},
   "source": [
    "***Exercise 2.***  \n",
    "Using the *[print](https://docs.python.org/3/tutorial/inputoutput.html)* statement,display the result of the variable $d$ from [ex 1](#zad1) to the default accuracy, to three decimal places and to twenty decimal places."
   ]
  },
  {
   "cell_type": "markdown",
   "metadata": {},
   "source": [
    "***Exercise 3.***  \n",
    "Using Python to calculate field $S$ of roller with base radius $r = 17$ and height $h = 33$."
   ]
  },
  {
   "cell_type": "markdown",
   "metadata": {},
   "source": [
    "***Exercise 4.***  \n",
    "To make your script more clearly to you and another user add to him comments:"
   ]
  },
  {
   "cell_type": "code",
   "execution_count": null,
   "metadata": {},
   "outputs": [],
   "source": [
    "\"\"\"\n",
    "Multiline comments\n",
    "\"\"\""
   ]
  },
  {
   "cell_type": "markdown",
   "metadata": {},
   "source": [
    "line comments:"
   ]
  },
  {
   "cell_type": "code",
   "execution_count": null,
   "metadata": {},
   "outputs": [],
   "source": [
    "# line comments"
   ]
  },
  {
   "cell_type": "code",
   "execution_count": null,
   "metadata": {},
   "outputs": [],
   "source": [
    "# MY CALCULATIONS\n",
    "# Ex 3\n",
    "r = 17\n",
    "h = 33\n",
    "S = math.pi*math.pow(r,2)*h\n",
    "print(\"Field of the roller is: \" + str(S))\n",
    "\n",
    "# Ex 4:\n",
    "# Comments!\n",
    "'''\n",
    "Comments! :)\n",
    "'''"
   ]
  },
  {
   "cell_type": "markdown",
   "metadata": {},
   "source": [
    "***Exercise 5.***  \n",
    "For any variables $x_{1},t,r$ calculate:\n",
    "  \n",
    "$B = \\cfrac{x_{1}+r}{r\\cdot\\sin(2\\cdot x_{1})+3.3456}\\cdot x_{1}^{t\\cdot r}$,  \n",
    "  \n",
    "display result using *print*. "
   ]
  },
  {
   "cell_type": "code",
   "execution_count": null,
   "metadata": {},
   "outputs": [],
   "source": [
    "# MY CALCULATIONS\n",
    "# Ex 5\n",
    "\n",
    "x1 = 2\n",
    "r = 3\n",
    "t = 2\n",
    "\n",
    "B = ((x1+r)/(r* math.sin(2*x1) + 3.3456))*math.pow(x1, (t*r))\n",
    "\n",
    "print(\"B is: \" + str(B))"
   ]
  },
  {
   "cell_type": "markdown",
   "metadata": {},
   "source": [
    "***Exercise 6.***  \n",
    "Create matrix:  \n",
    "  \n",
    "$\\mathbf{M} =\\left[ \\begin{matrix}\n",
    "a & 1 & -a\\\\\n",
    "0 & 1 & 1\\\\\n",
    "-a & a & 1\n",
    "\\end{matrix}\\right]\n",
    "$    \n",
    "  \n",
    "where $a = \\sqrt{2}$.  \n",
    "   \n",
    "For the matrix $\\mathbf{M}$ calcualte invers matrix  $\\mathbf{Minv}$, transpose matrix $\\mathbf{Mt}$, calculate determinant of the matrix $\\mathbf{Mdet}$ and dispalay all results. \n",
    "  \n",
    "***Hint:*** To crate matrix in Python we use class *[array](https://docs.scipy.org/doc/numpy-1.15.1/reference/generated/numpy.array.html)* from *[numpy](http://www.numpy.org/)*, exampel of use:"
   ]
  },
  {
   "cell_type": "code",
   "execution_count": null,
   "metadata": {
    "scrolled": true
   },
   "outputs": [],
   "source": [
    "import numpy as np # keyword \"as\" created the alias of the package  \n",
    "a = np.array([1, 2, 3])\n",
    "b = np.array([[1], [2], [3]])\n",
    "A = np.array([[1,2],[3,4]])\n",
    "print(\"horizontal vector:\\n {0}\".format(a))\n",
    "print(\"Vertical vector:\\n {0}\".format(b))\n",
    "print(\"Matrix:\\n {0}\".format(A))"
   ]
  },
  {
   "cell_type": "markdown",
   "metadata": {},
   "source": [
    "To invert matrix use *[inv](https://docs.scipy.org/doc/numpy/reference/generated/numpy.linalg.inv.html)*, to calculate determinant of the matrix we can use *[det](https://docs.scipy.org/doc/numpy-1.15.0/reference/generated/numpy.linalg.det.html)*  from library *[linalg](https://docs.scipy.org/doc/numpy/reference/routines.linalg.html)*. Transposition of the matrix we can make at use function *[transpose](https://docs.scipy.org/doc/numpy-1.14.0/reference/generated/numpy.transpose.html)* form *numpy* or simply $M.T$. "
   ]
  },
  {
   "cell_type": "code",
   "execution_count": null,
   "metadata": {},
   "outputs": [],
   "source": [
    "# MY CALCULATIONS\n",
    "# Ex 6\n",
    "\n",
    "a = math.sqrt(2)\n",
    "\n",
    "M = np.array([[a, 1, -a],\n",
    "            [0, 1, 1],\n",
    "            [-a, a, 1]])\n",
    "\n",
    "print(\"Matrix M: \\n\" + str(M))\n",
    "\n",
    "Minv = np.linalg.inv(M)\n",
    "Mt = np.transpose(M)\n",
    "Mdet = np.linalg.det(M)\n",
    "\n",
    "print()\n",
    "print(\"Matrix Minv: \\n\" + str(Minv) + \"\\n\\nMatrix Mt: \\n\" + str(Mt) + \"\\n\\nMatrix Mdet: \" + str(Mdet))\n"
   ]
  },
  {
   "cell_type": "markdown",
   "metadata": {},
   "source": [
    "***Exercise 6.***  \n",
    "Use function *print* to display elemts of $\\mathbf{M}$: $\\mathbf{M}_{1,1},\\mathbf{M}_{3,3},\\mathbf{M}_{3,2}$. Create vector $\\mathbf{w1}$ as threest columns of $\\mathbf{M}$ and  vector $\\mathbf{w2}$ as second row of  $\\mathbf{M}$. Example: "
   ]
  },
  {
   "cell_type": "code",
   "execution_count": null,
   "metadata": {},
   "outputs": [],
   "source": [
    "# crate random matrix 4x4 \n",
    "P = np.array([np.random.randint(0,10,4),np.random.randint(0,10,4),np.random.randint(0,10,4),np.random.randint(0,10,4)])\n",
    "print(\"Random matrix 4x4:\\n {0}\".format(P))\n",
    "print(\"Element 3x2: {0}\".format(P[2,1]))"
   ]
  },
  {
   "cell_type": "markdown",
   "metadata": {},
   "source": [
    "To manipulate data in matrix we can use operator ':', for more deatails see [NumPy for Matlab users](https://docs.scipy.org/doc/numpy/user/numpy-for-matlab-users.html#numpy-for-matlab-users)."
   ]
  },
  {
   "cell_type": "code",
   "execution_count": null,
   "metadata": {},
   "outputs": [],
   "source": [
    "# get first column\n",
    "vector1 = P[:,0]\n",
    "# get firs row \n",
    "vector2 = P[0,:]\n",
    "print(\"Vector 1:\\n {0}\".format(vector1))\n",
    "print(\"Vector 2:\\n {0}\".format(vector2))"
   ]
  },
  {
   "cell_type": "code",
   "execution_count": null,
   "metadata": {},
   "outputs": [],
   "source": [
    "# MY CALCULATIONS\n",
    "# Ex 6\n",
    "\n",
    "print(\"Printing Matrix M from previous task\")\n",
    "print(\"Matrix M: \\n\" + str(M) + \"\\n\")\n",
    "\n",
    "print(\"M(1,1): \" + str(M[0,0]))\n",
    "print(\"M(3,3): \" + str(M[2,2]))\n",
    "print(\"M(3,2): \" + str(M[2,1]))\n",
    "\n",
    "w1 = M[:,0]\n",
    "w2 = M[1,:]\n",
    "\n",
    "print()\n",
    "print(\"Vector (first column): \" + str(w1))\n",
    "print(\"Vector (second row): \" + str(w2))"
   ]
  },
  {
   "cell_type": "markdown",
   "metadata": {},
   "source": [
    "***Exercise 7.***  \n",
    "Calculate numerical roots of the polynomial $W(x) = x^{5}-7x^{4}-3x^{3}-43x^{2}-28x-60$, you can use function *[roots](https://docs.scipy.org/doc/numpy/reference/generated/numpy.roots.html)* from *numpy*. Check the correctness of the results."
   ]
  },
  {
   "cell_type": "code",
   "execution_count": null,
   "metadata": {},
   "outputs": [],
   "source": [
    "# MY CALCULATIONS\n",
    "# Ex 7\n",
    "\n",
    "coeff = [1, -7, 3, 43, -28, -60]\n",
    "\n",
    "print(\"Numerical roots of the polynomial: \")\n",
    "print(np.roots(coeff))\n",
    "\n",
    "'''\n",
    "According to the wolfram alpha the result is correct!\n",
    "'''"
   ]
  },
  {
   "cell_type": "markdown",
   "metadata": {},
   "source": [
    "***Exercise 8.***  \n",
    "Generate arithmetic strings with a step diffrent from 1 and not being an integer. Use function *[arange](https://docs.scipy.org/doc/numpy/reference/generated/numpy.arange.html)* and *[linspace](https://docs.scipy.org/doc/numpy-1.10.0/reference/generated/numpy.linspace.html)*. Describe differences."
   ]
  },
  {
   "cell_type": "code",
   "execution_count": null,
   "metadata": {},
   "outputs": [],
   "source": [
    "# MY CALCULATIONS\n",
    "# Ex 8\n",
    "\n",
    "print(np.arange(0, 10, 0.1))\n",
    "\n",
    "print(np.linspace(0, 10, num=100, endpoint=False, retstep=False, dtype=None))\n",
    "\n",
    "'''\n",
    "Biggest difference is, that by using np.arange we may not get consistent results (according to the datasheet). \n",
    "Also the usage of these two functions is a little bit different. \n",
    "In the first case we set the step, in second case - the number of samples. \n",
    "Both have their benefits, depending on the needs of the user.\n",
    "'''"
   ]
  },
  {
   "cell_type": "markdown",
   "metadata": {},
   "source": [
    "***Exercise 9.***  \n",
    "Define the function $f(x)= x^{3} - 3x$ and draw her chart for the range:  \n",
    "1. $x\\in<-1,1>$  \n",
    "2. $x\\in<-5,5>$\n",
    "3. $x\\in<0,5>$\n",
    "  \n",
    "***Hint:***\n",
    "Definition of [function](https://www.w3schools.com/python/python_functions.asp) in Python:"
   ]
  },
  {
   "cell_type": "code",
   "execution_count": null,
   "metadata": {},
   "outputs": [],
   "source": [
    "def fun1(x):\n",
    "    return x**2-3*x-2 + 1"
   ]
  },
  {
   "cell_type": "markdown",
   "metadata": {},
   "source": [
    "In Python, code blocks (including functions) are highlighted with indentation. To visualize the results in Python, the package [Matplotlib](https://matplotlib.org/) is used. Basic chart example:"
   ]
  },
  {
   "cell_type": "code",
   "execution_count": null,
   "metadata": {
    "scrolled": true
   },
   "outputs": [],
   "source": [
    "import matplotlib.pyplot as plt\n",
    "\n",
    "x = np.linspace(-10,10)\n",
    "y = fun1(x)   \n",
    "plt.plot(x, y)\n",
    "plt.title('Example chart')\n",
    "plt.xlabel('x')\n",
    "plt.ylabel('y')\n",
    "plt.legend('Chart 1')\n",
    "plt.show()"
   ]
  },
  {
   "cell_type": "markdown",
   "metadata": {},
   "source": [
    "While supporting the documentation [Matplotlib](https://matplotlib.org/) add: the axis labels, chart titles and legends to the chart."
   ]
  },
  {
   "cell_type": "code",
   "execution_count": null,
   "metadata": {},
   "outputs": [],
   "source": [
    "# MY CALCULATIONS\n",
    "# Ex 9\n",
    "\n",
    "import matplotlib.pyplot as plt\n",
    "\n",
    "def function(x):\n",
    "    return (x**3 -3*x)\n",
    "\n",
    "x = np.linspace(-1,1)\n",
    "y = function(x)   \n",
    "plt.plot(x, y)\n",
    "plt.title('My chart of a function')\n",
    "plt.xlabel('x')\n",
    "plt.ylabel('y')\n",
    "plt.legend(\"My chart\")\n",
    "plt.show()\n",
    "\n",
    "x = np.linspace(-5,5)\n",
    "y = function(x)   \n",
    "plt.plot(x, y)\n",
    "plt.title('My chart of a function')\n",
    "plt.xlabel('x')\n",
    "plt.ylabel('y')\n",
    "plt.legend(\"My chart\")\n",
    "plt.show()\n",
    "\n",
    "x = np.linspace(0,5)\n",
    "y = function(x)   \n",
    "plt.plot(x, y)\n",
    "plt.title('My chart of a function')\n",
    "plt.xlabel('x')\n",
    "plt.ylabel('y')\n",
    "plt.legend(\"My chart\")\n",
    "plt.show()"
   ]
  },
  {
   "cell_type": "markdown",
   "metadata": {},
   "source": [
    "***Exercise 10.***  \n",
    "Calculate the amount of heat that will be released during braking if a dependency describes it:  \n",
    "  \n",
    "$Q = \\cfrac{mv^2}{2}$  \n",
    "  \n",
    "where $m = 2500g$, $v = 60km/h$, write the result and give in kilocalories and joules. Plot the graphs that show the change in the amount of heat in the process of chamfering a body with a weight of $3000g$ and the speed $v\\in <200,0>km/h$, showing the heat of chamfering on the first in the linear scale on the second logarithmic scale. \n",
    "\n",
    "***Tip:*** To create graphs with a logarithmic axis use the function: [semilog](https://matplotlib.org/api/_as_gen/matplotlib.pyplot.semilogy.html), [xlim](https://matplotlib.org/api/_as_gen/matplotlib.pyplot.xlim.html?highlight=xlim#matplotlib.pyplot.xlim) i [figure](https://matplotlib.org/api/_as_gen/matplotlib.pyplot.figure.html?highlight=figure#matplotlib.pyplot.figure) from *Matplotlib*. "
   ]
  },
  {
   "cell_type": "code",
   "execution_count": null,
   "metadata": {},
   "outputs": [],
   "source": [
    "# MY CALCULATIONS\n",
    "# Ex 10\n",
    "\n",
    "import matplotlib.pyplot as plt\n",
    "\n",
    "# 1 cal = 4,1868 J\n",
    "\n",
    "def heat(m, v):\n",
    "    return (m*v**2*0.5)\n",
    "\n",
    "v_start = 60000/3600    # 60km/h to m/s\n",
    "m = 2.5                 # 3.0kg\n",
    "print(str(v_start) + \" m/s\")\n",
    "x = np.linspace(v_start,0)\n",
    "y = heat(m, x)   \n",
    "plt.figure()\n",
    "plt.plot(x, y)\n",
    "plt.grid()\n",
    "plt.title('My chart of a function')\n",
    "plt.xlabel('x [m/s]')\n",
    "plt.ylabel('y [J]')\n",
    "plt.legend(\"My chart\")\n",
    "plt.show()\n",
    "\n",
    "dane = heat(m,(60000/3600))\n",
    "print(\"Released heat: \" + str(dane) + \" J or \" + str(dane/4186.8) + \" kcal\")\n",
    "\n",
    "v_start = 200000/3600    # 200km/h to m/s\n",
    "m = 3.0                 # 3.0kg\n",
    "print(str(v_start) + \" m/s\")\n",
    "x = np.linspace(v_start,0)\n",
    "y = heat(m, x)   \n",
    "plt.figure()\n",
    "plt.plot(x, y)\n",
    "plt.grid()\n",
    "plt.title('My chart of a function')\n",
    "plt.xlabel('x [m/s]')\n",
    "plt.ylabel('y [J]')\n",
    "plt.legend(\"My chart\")\n",
    "plt.show()\n",
    "\n",
    "plt.figure()\n",
    "plt.semilogy(x, y)\n",
    "plt.grid()\n",
    "plt.title('My chart of a function')\n",
    "plt.xlabel('x [m/s]')\n",
    "plt.ylabel('y [J]')\n",
    "plt.legend(\"My chart\")\n",
    "plt.show()\n"
   ]
  },
  {
   "cell_type": "markdown",
   "metadata": {},
   "source": [
    "## Classes in Python\n",
    "\n",
    "Python is an object-oriented programming language. Unlike procedure-oriented programming, where the main emphasis is on functions, object-oriented programming stress on objects.  \n",
    "\n",
    "The object is simply a collection of data (variables) and methods (functions) that act on those data. And, a class is a blueprint for the object.  \n",
    "\n",
    "We can think of a class as a sketch (prototype). It contains all the details about elements needed to construct the object.  \n",
    "\n",
    "We can create many objects from a class. An object is also called an instance of a class and the process of creating this object is called instantiation. \n",
    "\n",
    "## Python Objects (Instances)\n",
    "While the class is the blueprint, an instance is a copy of the class with actual values, literally an object belonging to a specific class. It’s not an idea anymore; it’s an actual animal, like a dog named Roger who’s eight years old.\n",
    "\n",
    "Put another way, a class is like a form or questionnaire. It defines the needed information. After you fill out the form, your specific copy is an instance of the class; it contains actual information relevant to you.\n",
    "\n",
    "You can fill out multiple copies to create many different instances, but without the form as a guide, you would be lost, not knowing what information is required. Thus, before you can create individual instances of an object, we must first specify what is needed by defining a class.  \n",
    "\n",
    "To define a class in Python we use construction:"
   ]
  },
  {
   "cell_type": "code",
   "execution_count": null,
   "metadata": {},
   "outputs": [],
   "source": [
    "class Animal:\n",
    "    def __init__(self, kind, place):\n",
    "        self.kind = kind\n",
    "        self.place = place\n",
    "        \n",
    "animal1 = Animal('Dog',' whole world')\n",
    "print('The {0} is living in {1}'.format(animal1.kind, animal1.place))\n",
    "\n",
    "animal2 = Animal('Dog', ['Africa', 'Asia', 'Europ', 'America', 'Australia'])\n",
    "print('The {0} is living in {1}'.format(animal2.kind, animal2.place)) "
   ]
  },
  {
   "cell_type": "markdown",
   "metadata": {},
   "source": [
    "All classes create objects, and all objects contain characteristics called attributes (referred to as properties in the opening paragraph). Use the __init__() method to initialize (e.g., specify) an object’s initial attributes by giving them their default value (or state). This method must have at least one argument as well as the self variable, which refers to the object itself. In class Animal we have two variable kind and place.\n",
    "\n",
    "## Instance Methods\n",
    "Instance methods are defined inside a class and are used to get the contents of an instance. They can also be used to perform operations with the attributes of our objects. Like the init method, the first argument is always self:"
   ]
  },
  {
   "cell_type": "code",
   "execution_count": null,
   "metadata": {},
   "outputs": [],
   "source": [
    "class Animal:\n",
    "    \n",
    "    def __init__(self, kind, place):\n",
    "        self.kind = kind\n",
    "        self.place = place\n",
    "        \n",
    "    def general_info(self):\n",
    "        print('The {0} is living in {1}'.format(self.kind, self.place))\n",
    "\n",
    "        \n",
    "animal1 = Animal('Dog',' whole world')\n",
    "animal2 =  Animal('Dog', ['Africa', 'Asia', 'Europ', 'America', 'Australia'])\n",
    "animal1.general_info()\n",
    "animal2.general_info()\n"
   ]
  },
  {
   "cell_type": "markdown",
   "metadata": {},
   "source": [
    "## Python Object Inheritance\n",
    "Inheritance is the process by which one class takes on the attributes and methods of another. Newly formed classes are called child classes, and the classes that child classes are derived from are called parent classes.\n",
    "\n",
    "It’s important to note that child classes override or extend the functionality (e.g., attributes and behaviors) of parent classes. In other words, child classes inherit all of the parent’s attributes and behaviors but can also specify different behavior to follow. The most basic type of class is an object, which generally all other classes inherit as their parent.\n",
    "\n",
    "When you define a new class, Python 3 it implicitly uses object as the parent class. So the following two definitions are equivalent:"
   ]
  },
  {
   "cell_type": "code",
   "execution_count": null,
   "metadata": {},
   "outputs": [],
   "source": [
    "from numpy import random \n",
    "\n",
    "class Animal:\n",
    "    \n",
    "    def __init__(self, kind, place):\n",
    "        self.kind = kind\n",
    "        self.place = place\n",
    "        \n",
    "    @classmethod    \n",
    "    def general_info(self):\n",
    "        print('The {0} is living in {1}'.format(self.kind, self.place))\n",
    "\n",
    "class Dog(Animal):\n",
    "    \n",
    "    def __init__(self, name, species, place):\n",
    "        self.name = name\n",
    "        self.species = species;\n",
    "        Animal.__init__(self, 'Dog', place)\n",
    "        \n",
    "    def general_info(self):\n",
    "        print('{0} is the {1} species {2} is living in {3}'.format(self.name, self.kind, self.species, self.place))\n",
    "        \n",
    "    @staticmethod\n",
    "    def make_sound():\n",
    "        print()\n",
    "        for i in range(1,random.randint(2,10,size = 1)[0]):\n",
    "            print('Hau')\n",
    "        \n",
    "dog = Dog('Alex', 'Terrier', 'Boston')\n",
    "dog.general_info()\n",
    "dog.make_sound()"
   ]
  },
  {
   "cell_type": "markdown",
   "metadata": {},
   "source": [
    "## Python Operator Overloading\n",
    "\n",
    "You have already seen you can use +  operator for adding numbers and at the same time to concatenate strings. It is possible because +  operator is overloaded by both int  class and str  class. The operators are actually methods defined in respective classes. Defining methods for operators is known as operator overloading. For e.g. To use +  operator with custom objects  you need to define a method called __add__  .  \n",
    "\n",
    "Let’s take an example to understand better:\n"
   ]
  },
  {
   "cell_type": "code",
   "execution_count": null,
   "metadata": {},
   "outputs": [],
   "source": [
    "import math\n",
    " \n",
    "class Circle:\n",
    " \n",
    "    def __init__(self, radius):\n",
    "        self.__radius = radius\n",
    " \n",
    "    def setRadius(self, radius):\n",
    "        self.__radius = radius\n",
    " \n",
    "    def getRadius(self):\n",
    "        return self.__radius\n",
    " \n",
    "    def area(self):\n",
    "        return math.pi * self.__radius ** 2\n",
    "    \n",
    "    def __str__(self):\n",
    "        return 'Circle radius is: {0}\\nArea is {1}'.format(self.__radius, self.area())\n",
    "        \n",
    "    def __add__(self, another_circle):\n",
    "        return Circle( self.__radius + another_circle.__radius )\n",
    " \n",
    "\n",
    "c1 = Circle(4)\n",
    "print('C1')\n",
    "print(c1) # This became possible because we have overloaded str operator by adding a    method named __str__\n",
    " \n",
    "c2 = Circle(5)\n",
    "print('C2')\n",
    "print(c2)\n",
    " \n",
    "c3 = c1 + c2 # This became possible because we have overloaded + operator by adding a    method named __add__\n",
    "print('C3')\n",
    "print(c3)"
   ]
  },
  {
   "cell_type": "markdown",
   "metadata": {},
   "source": [
    "***Exercise 11.***  \n",
    "Construct the class to describe [quaternion](https://en.wikipedia.org/wiki/Quaternion). In this class define methods to:\n",
    "- [Quaternion Arithmetic](http://www.euclideanspace.com/maths/algebra/realNormedAlgebra/quaternions/arithmetic/index.htm)\n",
    "    * Quaternion Addition\n",
    "    * Quaternion Subtraction\n",
    "    * Quaternion Multiplication\n",
    "    * Quaternion Division\n",
    "- [Quaternion Functions](http://www.euclideanspace.com/maths/algebra/realNormedAlgebra/quaternions/functions/index.htm)\n",
    "    - Conjugate\n",
    "    - Normalise\n",
    "    \n",
    "Use overloading of operators where is this possible.\n"
   ]
  },
  {
   "cell_type": "code",
   "execution_count": 133,
   "metadata": {},
   "outputs": [
    {
     "name": "stdout",
     "output_type": "stream",
     "text": [
      "Przykladowy obiekt klasy:\n",
      "5 -5i +5j +4k\n",
      "Sprzezenie:\n",
      "5 +5i -5j -4k\n"
     ]
    }
   ],
   "source": [
    "# MY CALCULATIONS\n",
    "# Ex 10\n",
    "\n",
    "import numpy as np\n",
    "\n",
    "class Quaternion:\n",
    " \n",
    "    def __init__(self, a, b, c, d):\n",
    "        self.a = a\n",
    "        self.b = b\n",
    "        self.c = c\n",
    "        self.d = d\n",
    "    \n",
    "    # Sprzezenie\n",
    "    def conjugate(self):\n",
    "        return Quaternion(self.a,\n",
    "                         -self.b,\n",
    "                         -self.c,\n",
    "                         -self.d)\n",
    "    \n",
    "    def Normalise(self):\n",
    "        return math.sqrt(self.__a**2 + self.__b**2 + self.__c**2 + self.__d^2)\n",
    "  \n",
    "    def __add__(self, anotherQuaternion):\n",
    "        return Quaternion(self.a + anotherQuaternion.a,\n",
    "                         self.b + anotherQuaternion.b,\n",
    "                         self.c + anotherQuaternion.c,\n",
    "                         self.d + anotherQuaternion.d)\n",
    "    \n",
    "    def __sub__(self, anotherQuaternion):\n",
    "        return Quaternion(self.a - anotherQuaternion.a,\n",
    "                         self.b - anotherQuaternion.b,\n",
    "                         self.c - anotherQuaternion.c,\n",
    "                         self.d - anotherQuaternion.d)\n",
    "    \n",
    "    def __mul__(self, other):\n",
    "        return np.array([self.a*other.a - self.b*other.b - self.c*other.c - self.d*other.d,\n",
    "                         self.b*other.a + self.a*other.b + self.c*other.d - self.d*other.c,\n",
    "                         self.a*other.c - self.b*other.d + self.c*other.a + self.d*other.b,\n",
    "                         self.a*other.d + self.b*other.c - self.c*other.b + self.d*other.a],\n",
    "                       dtype=np.float64)\n",
    "    \n",
    "    def __truediv__(self, other):\n",
    "        # q^(-1) = conj(q) OR q * conj(q) = 1\n",
    "        # q * q^(-1)\n",
    "        tmp = other.conjungate()\n",
    "        tmpQuanternion = Quaternion(tmp[0], tmp[1], tmp[2], tmp[3])\n",
    "        return self*tmpQuanternion\n",
    "    \n",
    "    def __str__(self):\n",
    "#          return 'Quaternion is: {0} + {1}i + {2}j + {3}k'.format(self.a, self.b, self.c, self.d)\n",
    "         return ('{0} {1}i {2}j {3}k'.format(self.a,\n",
    "                                            '+{0}'.format(self.b) if self.b>=0 else '{0}'.format(self.b),\n",
    "                                            '+{0}'.format(self.c) if self.c>=0 else '{0}'.format(self.c),\n",
    "                                            '+{0}'.format(self.d) if self.d>=0 else '{0}'.format(self.d)))\n",
    "\n",
    "data = Quaternion(5,-5,5,4)\n",
    "data2 = Quaternion(9,8,9,4)\n",
    "\n",
    "print(\"Przykladowy obiekt klasy:\")\n",
    "print(data)\n",
    "\n",
    "data.conjugate()\n",
    "print(\"Sprzezenie:\")\n",
    "print(data.conjugate())\n"
   ]
  },
  {
   "cell_type": "markdown",
   "metadata": {},
   "source": [
    "Supplementary materials:\n",
    "- [Introduction to Python from DataCamp](https://www.datacamp.com/courses/intro-to-python-for-data-science)\n",
    "- [Scipy Lecture Notes](http://www.scipy-lectures.org/index.html)\n",
    "- [NumPy for Matlab users](https://docs.scipy.org/doc/numpy/user/numpy-for-matlab-users.html#numpy-for-matlab-users)\n",
    "- [Python Tutorial - W3Schools](https://www.w3schools.com/python/default.asp)\n",
    "- [NumPy](https://www.numpy.org)\n",
    "- [Matplotlib](https://matplotlib.org/)\n",
    "- [Anaconda](https://www.anaconda.com/)\n",
    "- [Learn Python for Data Science](https://www.datacamp.com/learn-python-with-anaconda?utm_source=Anaconda_download&utm_campaign=datacamp_training&utm_medium=banner)\n",
    "- [Learn Python](https://www.learnpython.org/)\n",
    "- [Uncle  Google](https://google.pl) i [auntie Wikipedia](https://pl.wikipedia.org/wiki/Wikipedia:Strona_g%C5%82%C3%B3wna)"
   ]
  },
  {
   "cell_type": "code",
   "execution_count": null,
   "metadata": {},
   "outputs": [],
   "source": []
  }
 ],
 "metadata": {
  "celltoolbar": "Raw Cell Format",
  "kernelspec": {
   "display_name": "Python 3",
   "language": "python",
   "name": "python3"
  },
  "language_info": {
   "codemirror_mode": {
    "name": "ipython",
    "version": 3
   },
   "file_extension": ".py",
   "mimetype": "text/x-python",
   "name": "python",
   "nbconvert_exporter": "python",
   "pygments_lexer": "ipython3",
   "version": "3.7.4"
  }
 },
 "nbformat": 4,
 "nbformat_minor": 2
}
