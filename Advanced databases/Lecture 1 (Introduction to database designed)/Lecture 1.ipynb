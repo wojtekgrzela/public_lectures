{
 "cells": [
  {
   "cell_type": "markdown",
   "metadata": {
    "collapsed": true,
    "slideshow": {
     "slide_type": "slide"
    }
   },
   "source": [
    "# Advanced databases\n",
    "\n",
    "## Introduction to database designed\n",
    "\n",
    "### dr  inż. Waldemar Bauer"
   ]
  },
  {
   "cell_type": "markdown",
   "metadata": {
    "slideshow": {
     "slide_type": "slide"
    }
   },
   "source": [
    "## Organizational aspects\n",
    "- C3 216, office hours: Thu. 11:00- 12:30\n",
    "- bauer@agh.edu.pl\n",
    "- Final grade: 50% test, 50% project. Passing of laboratories required for attempting exam. \n",
    "- Course materials, including lecture slides are available on [Github](https://github.com/KAIR-ISZ/public_lectures/tree/master/Advanced%20databases), if you see something wrong - make an issue."
   ]
  },
  {
   "cell_type": "markdown",
   "metadata": {
    "slideshow": {
     "slide_type": "slide"
    }
   },
   "source": [
    "## Course outline\n",
    "- Introduction to databes designe\n",
    "- Normalization \n",
    "- Query optimalization \n",
    "- Spatial databases\n",
    "- Temporal databases\n",
    "- NoSQL databases "
   ]
  },
  {
   "cell_type": "markdown",
   "metadata": {
    "slideshow": {
     "slide_type": "subslide"
    }
   },
   "source": [
    "## Technical stock in the laboratory \n",
    "\n",
    "- [PostgreSQL 12.2](https://www.postgresql.org/)\n",
    "- [Anconda](https://www.anaconda.com/) \n",
    "- [SQLAlchemy](https://www.sqlalchemy.org/) "
   ]
  },
  {
   "cell_type": "markdown",
   "metadata": {
    "slideshow": {
     "slide_type": "slide"
    }
   },
   "source": [
    "## What is the point?\n",
    "- We are focusing on designed databas in the context of applications\n",
    "- Transparent and easy to analyze\n",
    "- Maximally performence\n",
    "- Flexible to reorganization "
   ]
  },
  {
   "cell_type": "markdown",
   "metadata": {
    "slideshow": {
     "slide_type": "slide"
    }
   },
   "source": [
    "## What does it mean?\n",
    "<img src=\"img/dvd-rental-sample-database-diagram.png\" width=\"500\">\n",
    "\n",
    "source: https://www.postgresqltutorial.com/postgresql-sample-database/"
   ]
  },
  {
   "cell_type": "markdown",
   "metadata": {
    "slideshow": {
     "slide_type": "slide"
    }
   },
   "source": [
    "## OLTP and OLAP\n",
    "- Online Transaction Processing\n",
    "- Online Analytical Processing"
   ]
  },
  {
   "cell_type": "markdown",
   "metadata": {
    "slideshow": {
     "slide_type": "subslide"
    }
   },
   "source": [
    "## OLTP and OLAP coperation \n",
    "<img src=\"img/oltp_olap.png\" width=\"500\">"
   ]
  },
  {
   "cell_type": "markdown",
   "metadata": {
    "slideshow": {
     "slide_type": "subslide"
    }
   },
   "source": [
    "## OLTP and OLAP difference\n",
    "- OLAP is a category of software tools that analyze data stored in a database whereas OLTP supports transaction-oriented applications in a 3-tier architecture.\n",
    "- OLAP creates a single platform for all type of business analysis (planning, budgeting, forecasting, and analysis) while OLTP is useful to administer day to day transactions of an organization.\n",
    "- OLAP is characterized by a large volume of data while OLTP is characterized by large numbers of short transactions.\n",
    "- In OLAP, data warehouse is created uniquely so that it can integrate different data sources for building a consolidated database whereas OLTP uses traditional DBMS."
   ]
  },
  {
   "cell_type": "markdown",
   "metadata": {
    "slideshow": {
     "slide_type": "subslide"
    }
   },
   "source": [
    "## OLTP\n",
    "- Support daily transactions\n",
    "- Application-oriented\n",
    "- Focus on operational data\n",
    "- Simple transactions & frequent updates\n",
    "- Mass users"
   ]
  },
  {
   "cell_type": "markdown",
   "metadata": {
    "slideshow": {
     "slide_type": "subslide"
    }
   },
   "source": [
    "## OLTP examples\n",
    "- Online banking\n",
    "- Online airline ticket booking\n",
    "- Sending a text message\n",
    "- Order entry\n",
    "- Add a book to shopping cart"
   ]
  },
  {
   "cell_type": "markdown",
   "metadata": {
    "slideshow": {
     "slide_type": "subslide"
    }
   },
   "source": [
    "## OLAP\n",
    "- Report and analyze data\n",
    "- Subject-oriented\n",
    "- Focuse on consolidated, historical data\n",
    "- Complex queries, aggregate queries & limited updates\n",
    "- Use by specialists"
   ]
  },
  {
   "cell_type": "markdown",
   "metadata": {
    "slideshow": {
     "slide_type": "subslide"
    }
   },
   "source": [
    "## OLAP examples\n",
    "- System to analyze something in a whole organization \n",
    "-  System to custom offers to a clients"
   ]
  },
  {
   "cell_type": "markdown",
   "metadata": {
    "slideshow": {
     "slide_type": "slide"
    }
   },
   "source": [
    "## The basic question before creating database\n",
    "- How should I organize my data logically? -> Schemas\n",
    "- Should my data have minimal dependency and redundancy? -> Normalization\n",
    "- What type of operation will be done most often? -> View\n",
    "- Who and how must have access to the data? -> Accses control\n",
    "- does my data have a natural realtion? -> SQL or noSQL"
   ]
  },
  {
   "cell_type": "markdown",
   "metadata": {
    "slideshow": {
     "slide_type": "slide"
    }
   },
   "source": [
    "## Methods to  storing data\n",
    "- Relational database\n",
    "- Data warehouses\n",
    "- Data lakes"
   ]
  },
  {
   "cell_type": "markdown",
   "metadata": {
    "slideshow": {
     "slide_type": "subslide"
    }
   },
   "source": [
    "## Structuring data\n",
    "1. Structured data\n",
    "    - Follows a schema\n",
    "    - Defined data types and realtionships\n",
    "    - e.g. SQL\n",
    "1. Semi-structured data\n",
    "    - Does not follow larger schema\n",
    "    - self-describing structure\n",
    "    - e.g. NoSQL, XML, JSON, KML\n",
    "1. Unstructured data\n",
    "    - photos, logs, music file etc.\n",
    "    - Makes up most of data in the world"
   ]
  },
  {
   "cell_type": "markdown",
   "metadata": {
    "slideshow": {
     "slide_type": "subslide"
    }
   },
   "source": [
    "## Relational database\n",
    "- The term \"relational database\" was invented by E. F. Codd at IBM in 1970. \n",
    "- One well-known definition of what constitutes a relational database system is composed of [Codd's 12 rules](https://en.wikipedia.org/wiki/Codd%27s_12_rules). \n",
    "- Minimal definition of relational database:\n",
    "    - Present the data to the user as relations (a presentation in tabular form, i.e. as a collection of tables with each table consisting of a set of rows and columns);\n",
    "    - Provide relational operators to manipulate the data in tabular form."
   ]
  },
  {
   "cell_type": "markdown",
   "metadata": {
    "slideshow": {
     "slide_type": "slide"
    }
   },
   "source": [
    "## Data warehouses\n",
    "- Optimized for OLAP task\n",
    "- Contains data from multiple sources\n",
    "- Massively Parallel Processing (MPP)\n",
    "- Typically uses a denormalized schema and dimensional modeling\n",
    "- Dedicated to specific tasks"
   ]
  },
  {
   "cell_type": "markdown",
   "metadata": {
    "slideshow": {
     "slide_type": "subslide"
    }
   },
   "source": [
    "## Data lakes\n",
    "- Store all types of data at a lower cost\n",
    "- Retains all data and can take up petabytes\n",
    "- Schema-on-read as opposed to schema-on-write\n",
    "- Need to catalog data otherwise becomes a data swamp\n",
    "- Run big data analytics using services "
   ]
  },
  {
   "cell_type": "markdown",
   "metadata": {
    "slideshow": {
     "slide_type": "slide"
    }
   },
   "source": [
    "## What is Database Design?\n",
    "- Database Design is a collection of processes that facilitate the designing, development, implementation and maintenance of enterprise data management systems.\n",
    "- The main objectives of database designing are to produce logical and physical designs models of the proposed database system.\n",
    "- Database designing is crucial to high performance database system."
   ]
  },
  {
   "cell_type": "markdown",
   "metadata": {
    "slideshow": {
     "slide_type": "subslide"
    }
   },
   "source": [
    "## Database development life cycle\n",
    "1. Requirements analysis\n",
    "    - Planning\n",
    "    - System definition \n",
    "2. Database designing\n",
    "    - Logical model\n",
    "    - Physical model\n",
    "1. Implementation\n",
    "    - Data conversion and loading\n",
    "    - Testing\n"
   ]
  },
  {
   "cell_type": "markdown",
   "metadata": {
    "slideshow": {
     "slide_type": "subslide"
    }
   },
   "source": [
    "## Data modeling\n",
    "Process of creating a data model for the data to be stored\n",
    "1. Conceptual data model: describes entities, relationships, and attributes\n",
    "2. Logical data model: describes tables, columns, relationships\n",
    "3. Physical data model: describes physical storage"
   ]
  }
 ],
 "metadata": {
  "celltoolbar": "Slideshow",
  "jupytext": {
   "formats": "ipynb"
  },
  "kernelspec": {
   "display_name": "Python 3",
   "language": "python",
   "name": "python3"
  },
  "language_info": {
   "codemirror_mode": {
    "name": "ipython",
    "version": 3
   },
   "file_extension": ".py",
   "mimetype": "text/x-python",
   "name": "python",
   "nbconvert_exporter": "python",
   "pygments_lexer": "ipython3",
   "version": "3.7.6"
  },
  "rise": {
   "autolaunch": true,
   "backimage": "img/tlo_agh.png"
  }
 },
 "nbformat": 4,
 "nbformat_minor": 2
}
