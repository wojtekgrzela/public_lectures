{
 "cells": [
  {
   "cell_type": "markdown",
   "metadata": {
    "collapsed": true,
    "slideshow": {
     "slide_type": "slide"
    }
   },
   "source": [
    "# Advanced databases\n",
    "\n",
    "## Like and Similar to, group by, aggregation function, set operations\n",
    "### dr  inż. Waldemar Bauer"
   ]
  },
  {
   "cell_type": "markdown",
   "metadata": {
    "slideshow": {
     "slide_type": "slide"
    }
   },
   "source": [
    "## Like and ILike\n",
    "\n",
    "1. It allows you to find simple patterns in strings.\n",
    "2. The Like match draws attention to characters and ILike does not.\n",
    "3. You can use it in the following forms:\n",
    "    - ~~ is equivalent to LIKE\n",
    "    - ~~* is equivalent to ILIKE\n",
    "    - !~~ is equivalent to NOT LIKE\n",
    "    - !~~* is equivalent to NOT ILIKE"
   ]
  },
  {
   "cell_type": "markdown",
   "metadata": {
    "slideshow": {
     "slide_type": "subslide"
    }
   },
   "source": [
    "## Like pattern \n",
    "\n",
    "- Percent ( %)  for matching any sequence of characters.\n",
    "- Underscore ( _)  for matching any single character.\n",
    "\n",
    "```sql\n",
    "SELECT\n",
    "\t'xyz' LIKE 'xyz', -- true\n",
    "\t'xyz' LIKE 'x%', -- true\n",
    "\t'xyz' LIKE '_y_', -- true\n",
    "\t'xyz' LIKE 'x_', -- false\n",
    "    'XYZ' LIKE 'xyz', -- false\n",
    "    'XYZ' ILIKE 'xyz' -- true\n",
    "    'xyz' ILIKE 'XYZ' -- true\n",
    "```"
   ]
  },
  {
   "cell_type": "markdown",
   "metadata": {
    "slideshow": {
     "slide_type": "subslide"
    }
   },
   "source": [
    "## Example Like\n",
    "\n",
    "```sql\n",
    "Select first_name, last_name from actor where first_name ~~ 'B%' and last_name ~~* '%S'\n",
    "```\n",
    "\n",
    "| first_name \t| last_name \t|\n",
    "|:----------:\t|:---------:\t|\n",
    "|   \"Burt\"   \t| \"Dukakis\" \t|\n",
    "|    \"Ben\"   \t|  \"Willis\" \t|\n",
    "|    \"Ben\"   \t|  \"Harris\" \t|"
   ]
  },
  {
   "cell_type": "markdown",
   "metadata": {
    "slideshow": {
     "slide_type": "subslide"
    }
   },
   "source": [
    "## Similar to\n",
    "\n",
    "1. SIMILAR TO operator succeeds only if its pattern matches the entire string; this is unlike common regular expression behavior where the pattern can match any part of the string. \n",
    "2. It uses _ and % as wildcard characters denoting any single character and any string.\n"
   ]
  },
  {
   "cell_type": "markdown",
   "metadata": {
    "slideshow": {
     "slide_type": "slide"
    }
   },
   "source": [
    "## Similar to pattern\n",
    "- | denotes alternation (either of two alternatives).\n",
    "- \\* denotes repetition of the previous item zero or more times.\n",
    "- \\+ denotes repetition of the previous item one or more times.\n",
    "- ? denotes repetition of the previous item zero or one time.\n",
    "- {m} denotes repetition of the previous item exactly m times.\n",
    "- {m,} denotes repetition of the previous item m or more times.\n",
    "- {m,n} denotes repetition of the previous item at least m and not more than n times.\n",
    "- Parentheses () can be used to group items into a single logical item.\n",
    "- A bracket expression [...] specifies a character class, just as in POSIX regular expressions."
   ]
  },
  {
   "cell_type": "markdown",
   "metadata": {},
   "source": [
    "## Similar to example of use\n",
    "```sql\n",
    "Select\n",
    "'xyz' SIMILAR TO 'xyz'      --true\n",
    "'xyz' SIMILAR TO 'x'        --false\n",
    "'xyz' SIMILAR TO '%(y|a)%'  --true\n",
    "'xyz' SIMILAR TO '(y|z)%'   --false\n",
    "```"
   ]
  },
  {
   "cell_type": "markdown",
   "metadata": {
    "slideshow": {
     "slide_type": "slide"
    }
   },
   "source": [
    "## Similar to example\n",
    "\n",
    "```sql\n",
    "Select first_name, last_name from actor where first_name similar to 'B%' \n",
    "and \n",
    "last_name similar to '%s'\n",
    "```\n",
    "| first_name \t| last_name \t|\n",
    "|:----------:\t|:---------:\t|\n",
    "|   \"Burt\"   \t| \"Dukakis\" \t|\n",
    "|    \"Ben\"   \t|  \"Willis\" \t|\n",
    "|    \"Ben\"   \t|  \"Harris\" \t|"
   ]
  },
  {
   "cell_type": "markdown",
   "metadata": {
    "slideshow": {
     "slide_type": "slide"
    }
   },
   "source": [
    "## Explain Like and Similar to\n",
    "\n",
    "Like\n",
    "```sql\n",
    "\"Seq Scan on actor  (cost=0.00..5.00 rows=1 width=13) (actual time=0.023..0.036 rows=3 loops=1)\"\n",
    "\"  Filter: (((first_name)::text ~~ 'B%'::text) AND ((last_name)::text ~~ '%s'::text))\"\n",
    "\"  Rows Removed by Filter: 197\"\n",
    "\"Planning Time: 0.121 ms\"\n",
    "\"Execution Time: 0.044 ms\"\n",
    "```\n",
    "\n",
    "Similar to:\n",
    "```sql\n",
    "\"Seq Scan on actor  (cost=0.00..5.00 rows=1 width=13) (actual time=0.304..0.859 rows=3 loops=1)\"\n",
    "\"  Filter: (((first_name)::text ~ '^(?:B.*)$'::text) AND ((last_name)::text ~ '^(?:.*s)$'::text))\"\n",
    "\"  Rows Removed by Filter: 197\"\n",
    "\"Planning Time: 1.621 ms\"\n",
    "\"Execution Time: 0.994 ms\"\n",
    "```"
   ]
  },
  {
   "cell_type": "markdown",
   "metadata": {
    "slideshow": {
     "slide_type": "slide"
    }
   },
   "source": [
    "## Group by\n",
    "\n",
    "- Divides the rows returned from the SELECT statement into groups.\n",
    "- For each group, you can apply an aggregate function\n",
    "\n",
    "```sql\n",
    "SELECT \n",
    "   column_1, \n",
    "   column_2,\n",
    "   aggregate_function(column_3)\n",
    "FROM \n",
    "   table_name\n",
    "GROUP BY \n",
    "   column_1,\n",
    "   column_2;\n",
    "```"
   ]
  },
  {
   "cell_type": "markdown",
   "metadata": {
    "slideshow": {
     "slide_type": "subslide"
    }
   },
   "source": [
    "##  Group by example\n",
    "\n",
    "```sql\n",
    "SELECT\n",
    "   actor_id\n",
    "FROM\n",
    "   film_actor\n",
    "GROUP BY\n",
    "   actor_id;\n",
    "```\n",
    "\n",
    "| actor_id \t|\n",
    "|:----:\t|\n",
    "|150|\n",
    "|140|\n",
    "|139|\n",
    "|193|\n",
    "|12|\n",
    "|164|\n",
    "|137|\n",
    "|...|\n"
   ]
  },
  {
   "cell_type": "markdown",
   "metadata": {
    "slideshow": {
     "slide_type": "subslide"
    }
   },
   "source": [
    "##  Group by example\n",
    "\n",
    "```sql\n",
    "SELECT\n",
    "   first_name, last_name, count(title) \n",
    "FROM\n",
    "   actor a join film_actor fa on a.actor_id = fa.actor_id join film f \n",
    "   on f.film_id = fa.film_id \n",
    "GROUP BY\n",
    "   first_name, last_name\n",
    "order by count;\n",
    "```\n",
    "\n",
    "| first_name \t|  last_name  \t| count \t|\n",
    "|:----------:\t|:-----------:\t|:-----:\t|\n",
    "|   \"Emily\"  \t|    \"Dee\"    \t|   14  \t|\n",
    "|   \"Julia\"  \t|  \"Fawcett\"  \t|   15  \t|\n",
    "|   \"Judy\"   \t|    \"Dean\"   \t|   15  \t|\n",
    "|   \"Julia\"  \t| \"Zellweger\" \t|   16  \t|\n",
    "|   \"Adam\"   \t|   \"Grant\"   \t|   18  \t|\n",
    "|   \"Sissy\"  \t|  \"Sobieski\" \t|   18  \t|\n",
    "| \"Penelope\" \t|  \"Guiness\"  \t|   19  \t|\n",
    "|     ...    \t|     ...     \t|   ..  \t|"
   ]
  },
  {
   "cell_type": "markdown",
   "metadata": {
    "slideshow": {
     "slide_type": "slide"
    }
   },
   "source": [
    "## Having\n",
    "\n",
    "- Clause in conjunction with the GROUP BY clause\n",
    "- Filter group rows that do not satisfy a specified condition\n",
    "\n",
    "```sql\n",
    "SELECT\n",
    "\tcolumn_1,\n",
    "\taggregate_function (column_2)\n",
    "FROM\n",
    "\ttbl_name\n",
    "GROUP BY\n",
    "\tcolumn_1\n",
    "HAVING\n",
    "\tcondition;\n",
    "```"
   ]
  },
  {
   "cell_type": "markdown",
   "metadata": {
    "slideshow": {
     "slide_type": "subslide"
    }
   },
   "source": [
    "## HAVING example\n",
    "\n",
    "```sql\n",
    "\n",
    "SELECT\n",
    "   actor_id \n",
    "FROM\n",
    "   film_actor\n",
    "GROUP BY\n",
    "   actor_id\n",
    "HAVING\n",
    "\tactor_id< 10 and actor_id > 5  \n",
    "```\n",
    "| actor_id \t|\n",
    "|:----:\t|\n",
    "|6|\n",
    "|9|\n",
    "|7|\n",
    "|8|\n"
   ]
  },
  {
   "cell_type": "markdown",
   "metadata": {
    "slideshow": {
     "slide_type": "subslide"
    }
   },
   "source": [
    "## HAVING example\n",
    "\n",
    "```sql\n",
    "SELECT\n",
    "   first_name, last_name, count(title) \n",
    "FROM\n",
    "   actor a join film_actor fa on a.actor_id = fa.actor_id join film f on \n",
    "   f.film_id = fa.film_id \n",
    "GROUP BY\n",
    "   first_name, last_name\n",
    "HAVING \n",
    "    count(title) > 40\n",
    "order by count;\n",
    "```\n",
    " \n",
    " | first_name \t|  last_name  \t| count \t|\n",
    "|:----------:\t|:-----------:\t|:-----:\t|\n",
    "|   \"Walter\"  \t|    \"Torn\"    \t|   41  \t|\n",
    "|   \"Gina\"  \t|  \"Degeneres\"  \t|   42  \t|\n",
    "|   \"Susan\"   \t|    \"Davis\"   \t|   54  \t|\n",
    "\n",
    " "
   ]
  },
  {
   "cell_type": "markdown",
   "metadata": {
    "slideshow": {
     "slide_type": "subslide"
    }
   },
   "source": [
    "## Equivalent example\n",
    " \n",
    "```sql\n",
    "SELECT\n",
    "   first_name, last_name, count(title) \n",
    "FROM\n",
    "   actor a join film_actor fa on a.actor_id = fa.actor_id join film f on f.film_id = fa.film_id \n",
    "GROUP BY\n",
    "   first_name, last_name\n",
    "HAVING \n",
    "    count > 40\n",
    "order by count;\n",
    "```\n",
    "\n",
    "is equivalent of \n",
    "\n",
    "```sql\n",
    "SELECT tab.first_name, tab.last_name, tab.count  from (SELECT\n",
    "   first_name, last_name, count(title) \n",
    "FROM\n",
    "   actor a join film_actor fa on a.actor_id = fa.actor_id join film f on f.film_id = fa.film_id \n",
    "GROUP BY\n",
    "   first_name, last_name) as tab\n",
    "WHERE tab.count > 40\n",
    "```"
   ]
  },
  {
   "cell_type": "markdown",
   "metadata": {
    "slideshow": {
     "slide_type": "subslide"
    }
   },
   "source": [
    "## Explain have\n",
    "\n",
    "```sql\n",
    "\"Sort  (cost=254.04..254.15 rows=43 width=21) (actual time=3.240..3.240 rows=3 loops=1)\"\n",
    "\"  Sort Key: (count(f.title))\"\n",
    "\"  Sort Method: quicksort  Memory: 25kB\"\n",
    "\"  ->  HashAggregate  (cost=251.27..252.87 rows=43 width=21) (actual time=3.223..3.231 rows=3 loops=1)\"\n",
    "\"        Group Key: a.first_name, a.last_name\"\n",
    "\"        Filter: (count(f.title) > 40)\"\n",
    "\"        Rows Removed by Filter: 196\"\n",
    "\"        ->  Hash Join  (cost=83.00..196.65 rows=5462 width=28) (actual time=0.291..2.182 rows=5462 loops=1)\"\n",
    "\"              Hash Cond: (fa.film_id = f.film_id)\"\n",
    "\"              ->  Hash Join  (cost=6.50..105.76 rows=5462 width=15) (actual time=0.060..1.208 rows=5462 loops=1)\"\n",
    "\"                    Hash Cond: (fa.actor_id = a.actor_id)\"\n",
    "\"                    ->  Seq Scan on film_actor fa  (cost=0.00..84.62 rows=5462 width=4) (actual time=0.008..0.312 rows=5462 loops=1)\"\n",
    "\"                    ->  Hash  (cost=4.00..4.00 rows=200 width=17) (actual time=0.046..0.047 rows=200 loops=1)\"\n",
    "\"                          Buckets: 1024  Batches: 1  Memory Usage: 18kB\"\n",
    "\"                          ->  Seq Scan on actor a  (cost=0.00..4.00 rows=200 width=17) (actual time=0.007..0.021 rows=200 loops=1)\"\n",
    "\"              ->  Hash  (cost=64.00..64.00 rows=1000 width=19) (actual time=0.226..0.226 rows=1000 loops=1)\"\n",
    "\"                    Buckets: 1024  Batches: 1  Memory Usage: 60kB\"\n",
    "\"                    ->  Seq Scan on film f  (cost=0.00..64.00 rows=1000 width=19) (actual time=0.004..0.122 rows=1000 loops=1)\"\n",
    "\"Planning Time: 0.311 ms\"\n",
    "\"Execution Time: 6.744 ms\"\n",
    "```"
   ]
  },
  {
   "cell_type": "markdown",
   "metadata": {
    "slideshow": {
     "slide_type": "subslide"
    }
   },
   "source": [
    "## Explain select with subquery\n",
    "\n",
    "```sql\n",
    "\"HashAggregate  (cost=251.27..252.87 rows=43 width=21) (actual time=11.709..11.737 rows=3 loops=1)\"\n",
    "\"  Group Key: a.first_name, a.last_name\"\n",
    "\"  Filter: (count(f.title) > 40)\"\n",
    "\"  Rows Removed by Filter: 196\"\n",
    "\"  ->  Hash Join  (cost=83.00..196.65 rows=5462 width=28) (actual time=1.168..7.836 rows=5462 loops=1)\"\n",
    "\"        Hash Cond: (fa.film_id = f.film_id)\"\n",
    "\"        ->  Hash Join  (cost=6.50..105.76 rows=5462 width=15) (actual time=0.198..4.220 rows=5462 loops=1)\"\n",
    "\"              Hash Cond: (fa.actor_id = a.actor_id)\"\n",
    "\"              ->  Seq Scan on film_actor fa  (cost=0.00..84.62 rows=5462 width=4) (actual time=0.026..1.040 rows=5462 loops=1)\"\n",
    "\"              ->  Hash  (cost=4.00..4.00 rows=200 width=17) (actual time=0.155..0.156 rows=200 loops=1)\"\n",
    "\"                    Buckets: 1024  Batches: 1  Memory Usage: 18kB\"\n",
    "\"                    ->  Seq Scan on actor a  (cost=0.00..4.00 rows=200 width=17) (actual time=0.015..0.063 rows=200 loops=1)\"\n",
    "\"        ->  Hash  (cost=64.00..64.00 rows=1000 width=19) (actual time=0.952..0.952 rows=1000 loops=1)\"\n",
    "\"              Buckets: 1024  Batches: 1  Memory Usage: 60kB\"\n",
    "\"              ->  Seq Scan on film f  (cost=0.00..64.00 rows=1000 width=19) (actual time=0.012..0.492 rows=1000 loops=1)\"\n",
    "\"Planning Time: 0.989 ms\"\n",
    "\"Execution Time: 11.897 ms\"\n",
    "```"
   ]
  },
  {
   "cell_type": "markdown",
   "metadata": {
    "slideshow": {
     "slide_type": "slide"
    }
   },
   "source": [
    "## Aggregate Functions\n",
    "\n",
    "| Aggregate function \t| Description                                                                                                                                           \t|\n",
    "|:------------------:\t|:-------------------------------------------------------------------------------------------------------------------------------------------------------\t|\n",
    "|         AVG        \t| The AVG() aggregate function calculates the average of non-NULL values in a set.                                                                      \t|\n",
    "|    CHECKSUM_AGG    \t| The CHECKSUM_AGG() function calculates a checksum value based on a group of rows.                                                                     \t|\n",
    "|        COUNT       \t| The COUNT() aggregate function returns the number of rows in a group, including rows with NULL values.                                                \t|\n",
    "|      COUNT_BIG     \t| The COUNT_BIG() aggregate function returns the number of rows (with BIGINT data type) in a group, including rows with NULL values.                    \t|\n",
    "|         MAX        \t| The MAX() aggregate function returns the highest value (maximum) in a set of non-NULL values.                                                         \t|\n",
    "|         MIN        \t| The MIN() aggregate function returns the lowest value (minimum) in a set of non-NULL values.                                                          \t|\n",
    "|        STDEV       \t| The STDEV() function returns the statistical standard deviation of all values provided in the expression based on a sample of the data population.    \t|\n",
    "|       STDEVP       \t| The STDEVP() function also returns the standard deviation for all values in the provided expression, but does so based on the entire data population. \t|\n",
    "|         SUM        \t| The SUM() aggregate function returns the summation of all non-NULL values a set.                                                                      \t|\n",
    "|         VAR        \t| The VAR() function returns the statistical variance of values in an expression based on a sample of the specified population.                         \t|\n",
    "|        VARP        \t| The VARP() function returns the statistical variance of values in an expression but does so based on the entire data population.                      \t|"
   ]
  },
  {
   "cell_type": "markdown",
   "metadata": {
    "slideshow": {
     "slide_type": "slide"
    }
   },
   "source": [
    "## Exampel of use AVG, MIN, MAX and SUM\n",
    "\n",
    "```sql\n",
    "select first_name, last_name, round(avg(length),2), sum(length), min(length), max(length)\n",
    "from actor a \n",
    "inner join  film_actor fa on a.actor_id = fa.actor_id \n",
    "inner join  film f on f.film_id = fa.actor_id\n",
    "group by first_name, last_name\n",
    "Having max(length) >= 180\n",
    "order by last_name, first_name;\n",
    "```\n",
    "\n",
    "| firs_name \t|   last_name   \t|   avg  \t|  sum \t| min \t| max \t|\n",
    "|:---------:\t|:-------------:\t|:------:\t|:----:\t|:---:\t|:---:\t|\n",
    "|  \"Debbie\" \t|    \"Akroyd\"   \t| 185.00 \t| 4440 \t| 185 \t| 185 \t|\n",
    "| \"Michael\" \t|    \"Bening\"   \t| 180.00 \t| 4320 \t| 180 \t| 180 \t|\n",
    "|   \"Fred\"  \t|   \"Costner\"   \t| 180.00 \t| 4860 \t| 180 \t| 180 \t|\n",
    "|   \"Cate\"  \t|    \"Harris\"   \t| 185.00 \t| 5180 \t| 185 \t| 185 \t|\n",
    "| \"Natalie\" \t|   \"Hopkins\"   \t| 182.00 \t| 5824 \t| 182 \t| 182 \t|\n",
    "|   \"Mary\"  \t|    \"Keitel\"   \t| 184.00 \t| 7360 \t| 184 \t| 184 \t|\n",
    "|   \"Cate\"  \t|   \"Mcqueen\"   \t| 183.00 \t| 5490 \t| 183 \t| 183 \t|\n",
    "|   \"Jeff\"  \t| \"Silverstone\" \t| 184.00 \t| 4600 \t| 184 \t| 184 \t|\n",
    "| \"Cameron\" \t|    \"Streep\"   \t| 181.00 \t| 4344 \t| 181 \t| 181 \t|"
   ]
  },
  {
   "cell_type": "markdown",
   "metadata": {
    "slideshow": {
     "slide_type": "slide"
    }
   },
   "source": [
    "## Any with subquery\n",
    "\n",
    "- The subquery must return exactly one column.\n",
    "- The ANY operator must be preceded by one of the following comparison operator =, <=, >, <, > and <>\n",
    "- The ANY operator returns true if any value of the subquery meets the condition, otherwise, it returns false.\n",
    "\n"
   ]
  },
  {
   "cell_type": "markdown",
   "metadata": {
    "slideshow": {
     "slide_type": "subslide"
    }
   },
   "source": [
    "## Any with subquery example\n",
    "\n",
    "```sql\n",
    "SELECT title, length, rating\n",
    "FROM film\n",
    "WHERE length >= ANY(\n",
    "    SELECT Count( length )\n",
    "    FROM film\n",
    "    INNER JOIN film_category USING(film_id)\n",
    "    GROUP BY  category_id )\n",
    "order by length;\n",
    "```\n",
    "\n",
    "Subquery result:\n",
    "\n",
    "| count \t|\n",
    "|:-----:\t|\n",
    "|   57  \t|\n",
    "|   61  \t|\n",
    "|   60  \t|\n",
    "|   61  \t|\n",
    "|   62  \t|\n",
    "|   63  \t|\n",
    "|   73  \t|\n",
    "|   64  \t|\n",
    "|   58  \t|\n",
    "|   ...  \t|\n",
    "\n",
    "\n"
   ]
  },
  {
   "cell_type": "markdown",
   "metadata": {
    "slideshow": {
     "slide_type": "subslide"
    }
   },
   "source": [
    "##  Any with subquery example result\n",
    "\n",
    "|         title         \t|  length  \t|  rating \t|\n",
    "|:---------------------:\t|:--------:\t|:-------:\t|\n",
    "|     \"Hall Cassidy\"    \t|    51    \t| \"NC-17\" \t|\n",
    "| \"Champion Flatliners\" \t|    51    \t|   \"PG\"  \t|\n",
    "|     \"Deep Crusade\"    \t|    51    \t| \"PG-13\" \t|\n",
    "|     \"Simon North\"     \t|    51    \t| \"NC-17\" \t|\n",
    "|   \"English Bulworth\"  \t|    51    \t| \"PG-13\" \t|\n",
    "|    \"Excitement Eve\"   \t|    51    \t|   \"G\"   \t|\n",
    "|    \"Frisco Forrest\"   \t|    51    \t|   \"PG\"  \t|\n",
    "|     \"Harper Dying\"    \t|    52    \t|   \"G\"   \t|\n",
    "|       ...       \t| ... \t|  ... \t|"
   ]
  },
  {
   "cell_type": "markdown",
   "metadata": {
    "slideshow": {
     "slide_type": "slide"
    }
   },
   "source": [
    "## All with subquery\n",
    "- The ALL operator must be followed by a subquery.\n",
    "- The ALL operator must be preceded by a comparison operator\n",
    "\n",
    "ALL operators works:\n",
    "1. column1 > ALL (subquery) - true if a value is greater than the biggest value returned by the subquery.\n",
    "1. column1 >= ALL (subquery) - true if a value is greater than or equal to the biggest value returned by the subquery.\n",
    "1. column1 < ALL (subquery) - true if a value is less than the smallest value returned by the subquery.\n",
    "1. column1 <= ALL (subquery) - true if a value is less than or equal to the smallest value returned by the subquery.\n",
    "1. column1 = ALL (subquery) - if a value is equal to any value returned by the subquery.\n",
    "1. column1 != ALL (subquery) - true if a value is not equal to any value returned by the subquery."
   ]
  },
  {
   "cell_type": "markdown",
   "metadata": {
    "slideshow": {
     "slide_type": "subslide"
    }
   },
   "source": [
    "## All example\n",
    "\n",
    "```sql\n",
    "SELECT\n",
    "    title, length\n",
    "FROM\n",
    "    film\n",
    "WHERE length > ALL (\n",
    "    SELECT AVG(length)\n",
    "    FROM film GROUP BY rating\n",
    "    )\n",
    "ORDER BY\n",
    "    length;\n",
    "```\n",
    "\n",
    "|        title        \t| length \t|\n",
    "|:-------------------:\t|:------:\t|\n",
    "|  \"Dangerous Uptown\" \t|   121  \t|\n",
    "|   \"Boogie Amelie\"   \t|   121  \t|\n",
    "|    \"Harry Idaho\"    \t|   121  \t|\n",
    "| \"Brannigan Sunrise\" \t|   121  \t|\n",
    "|    \"Pure Runner\"    \t|   121  \t|\n",
    "|    \"Arizona Bang\"   \t|   121  \t|\n",
    "|   \"Paris Weekend\"   \t|   121  \t|\n",
    "|         ...         \t|   ...  \t|\n"
   ]
  },
  {
   "cell_type": "markdown",
   "metadata": {
    "slideshow": {
     "slide_type": "slide"
    }
   },
   "source": [
    "## Exist\n",
    "\n",
    "- If the subquery returns at least one row, the result is true. \n",
    "- In othere case result is false.\n",
    "- EXISTS is often used with the correlated subquery.\n",
    "\n",
    "```sql\n",
    "SELECT \n",
    "    title \n",
    "FROM \n",
    "    film\n",
    "WHERE EXISTS( SELECT category_id \n",
    "     FROM \n",
    "       category \n",
    "     WHERE \n",
    "       name = 'Comedy');\n",
    "```\n",
    "\n",
    "**Returns all titles. Why?** "
   ]
  },
  {
   "cell_type": "markdown",
   "metadata": {
    "slideshow": {
     "slide_type": "slide"
    }
   },
   "source": [
    "## SQL set operation\n",
    "- Union\n",
    "- Intersect\n",
    "- Except\n",
    "\n",
    "General rules:\n",
    "- Both queries must return the same number of columns.\n",
    "- The corresponding columns in the queries must have compatible data types."
   ]
  },
  {
   "cell_type": "markdown",
   "metadata": {
    "slideshow": {
     "slide_type": "subslide"
    }
   },
   "source": [
    "## Union\n",
    "\n",
    "\n",
    "```sql\n",
    "(select  name, title \n",
    " from film f \n",
    " join film_category fa using(film_id) \n",
    " join category c using (category_id) \n",
    " where name = 'Comedy' order by title limit 5)\n",
    "Union\n",
    "(select  name, title from film f \n",
    " join film_category fa using(film_id) \n",
    " join category c using (category_id) \n",
    " where name = 'Animation' order by title limit 5)\n",
    "order by title\n",
    "```"
   ]
  },
  {
   "cell_type": "markdown",
   "metadata": {
    "slideshow": {
     "slide_type": "subslide"
    }
   },
   "source": [
    "## Union example result\n",
    "\n",
    "|   category  \t|         title          \t|\n",
    "|:-----------:\t|:----------------------:\t|\n",
    "|   \"Comedy\"  \t|    \"Airplane Sierra\"   \t|\n",
    "| \"Animation\" \t|     \"Alter Victory\"    \t|\n",
    "| \"Animation\" \t| \"Anaconda Confessions\" \t|\n",
    "|   \"Comedy\"  \t|      \"Anthem Luke\"     \t|\n",
    "| \"Animation\" \t|    \"Argonauts Town\"    \t|\n",
    "| \"Animation\" \t|   \"Bikini Borrowers\"   \t|\n",
    "| \"Animation\" \t|   \"Blackout Private\"   \t|\n",
    "|   \"Comedy\"  \t|  \"Bringing Hysterical\" \t|\n",
    "|   \"Comedy\"  \t|     \"Caper Motions\"    \t|\n",
    "|   \"Comedy\"  \t|     \"Cat Coneheads\"    \t|"
   ]
  },
  {
   "cell_type": "markdown",
   "metadata": {
    "slideshow": {
     "slide_type": "subslide"
    }
   },
   "source": [
    "## Intersect\n",
    "```sql\n",
    "(select  name, title \n",
    " from film f \n",
    " join film_category fa using(film_id) \n",
    " join category c using (category_id) \n",
    " where name = 'Comedy' order by title limit 5)\n",
    "Intersect\n",
    "(select  name, title from film f \n",
    " join film_category fa using(film_id) \n",
    " join category c using (category_id) \n",
    " where name = 'Animation' order by title limit 5)\n",
    "order by title\n",
    "```\n",
    "|   category  \t|         title          \t|\n",
    "|:-----------:\t|:----------------------:\t|\n"
   ]
  },
  {
   "cell_type": "markdown",
   "metadata": {
    "slideshow": {
     "slide_type": "subslide"
    }
   },
   "source": [
    "## Except\n",
    "```sql\n",
    "(select  name, title \n",
    " from film f \n",
    " join film_category fa using(film_id) \n",
    " join category c using (category_id) \n",
    " where name = 'Comedy' order by title limit 5)\n",
    "Except\n",
    "(select  name, title from film f \n",
    " join film_category fa using(film_id) \n",
    " join category c using (category_id) \n",
    " where name = 'Animation' order by title limit 5)\n",
    "order by title\n",
    "```\n",
    "\n",
    "| category \t|         title         \t|\n",
    "|:--------:\t|:---------------------:\t|\n",
    "| \"Comedy\" \t|   \"Airplane Sierra\"   \t|\n",
    "| \"Comedy\" \t|     \"Anthem Luke\"     \t|\n",
    "| \"Comedy\" \t| \"Bringing Hysterical\" \t|\n",
    "| \"Comedy\" \t|    \"Caper Motions\"    \t|\n",
    "| \"Comedy\" \t|    \"Cat Coneheads\"    \t|"
   ]
  },
  {
   "cell_type": "markdown",
   "metadata": {
    "slideshow": {
     "slide_type": "slide"
    }
   },
   "source": [
    "## Grouping sets\n",
    "\n",
    "- Define multiple grouping sets in the same query.\n",
    "- Query generated a single result set with the aggregates for all grouping sets.\n",
    "\n",
    "```sql \n",
    "SELECT name, title, round(avg(length),2), SUM (rental_duration)\n",
    "FROM film join film_category using (film_id) join category using (category_id)\n",
    "GROUP BY\n",
    "\tGROUPING SETS (\n",
    "\t\t(name, title), -- group by name, title\n",
    "\t\t(name),        -- or group by name\n",
    "\t\t(title)        -- or group by title\n",
    "\t)\n",
    "ORDER BY name, title;\n",
    "```"
   ]
  },
  {
   "cell_type": "markdown",
   "metadata": {
    "slideshow": {
     "slide_type": "subslide"
    }
   },
   "source": [
    "## Example results\n",
    "\n",
    "| category \t|         title         \t|  round \t| sum \t|\n",
    "|:--------:\t|:---------------------:\t|:------:\t|:---:\t|\n",
    "| \"Action\" \t|     \"Amadeus Holy\"    \t| 113.00 \t|  6  \t|\n",
    "| \"Action\" \t|   \"American Circus\"   \t| 129.00 \t|  3  \t|\n",
    "| \"Action\" \t|  \"Antitrust Tomatoes\" \t| 168.00 \t|  5  \t|\n",
    "| \"Action\" \t|    \"Ark Ridgemont\"    \t|  68.00 \t|  6  \t|\n",
    "| \"Action\" \t| \"Barefoot Manchurian\" \t| 129.00 \t|  6  \t|\n",
    "| \"Action\" \t|     \"Berets Agent\"    \t|  77.00 \t|  5  \t|\n",
    "|    ...   \t|          ...          \t|   ...  \t| ... \t|\n",
    "| \"Action\" \t|          null         \t|   111.6  \t|  317 \t|\n",
    "|    ...   \t|          ...          \t|   ...  \t| ... \t|\n",
    "|   null   \t|     \"Zhivago Core\"    \t| 105.00 \t|  6  \t|\n",
    "|    ...   \t|          ...          \t|   ...  \t| ... \t|"
   ]
  },
  {
   "cell_type": "markdown",
   "metadata": {
    "slideshow": {
     "slide_type": "slide"
    }
   },
   "source": [
    "## Cube\n",
    "\n",
    "- Generate multiple grouping sets.\n",
    "- Generate all posible grouping sets. \n",
    "\n",
    "```sql\n",
    "SELECT\n",
    "    c1,\n",
    "    c2,\n",
    "    c3,\n",
    "    aggregate (c4)\n",
    "FROM\n",
    "    table_name\n",
    "GROUP BY\n",
    "    CUBE (c1, c2, c3);\n",
    "```\n",
    "\n",
    "Explain:\n",
    "```sql\n",
    "CUBE(c1,c2,c3) <=> GROUPING SETS (\n",
    "    \n",
    "    (c1,c2,c3), \n",
    "    (c1,c2),\n",
    "    (c1,c3),\n",
    "    (c2,c3),\n",
    "    (c1),\n",
    "    (c2),\n",
    "    (c3), \n",
    "    ()\n",
    " ) \n",
    "```"
   ]
  },
  {
   "cell_type": "markdown",
   "metadata": {
    "slideshow": {
     "slide_type": "subslide"
    }
   },
   "source": [
    "## Cube example\n",
    "\n",
    "```sql \n",
    "SELECT name, title, round(avg(length),2), SUM (rental_duration)\n",
    "FROM\n",
    "\tfilm join film_category using (film_id) join category using (category_id)\n",
    "GROUP BY\n",
    "\tCUBE  (name, title)\n",
    "ORDER BY\n",
    "\tname,\n",
    "\ttitle;\n",
    "```"
   ]
  },
  {
   "cell_type": "markdown",
   "metadata": {
    "slideshow": {
     "slide_type": "subslide"
    }
   },
   "source": [
    "## Example results\n",
    "\n",
    "| category \t|         title         \t|  round \t| sum \t|\n",
    "|:--------:\t|:---------------------:\t|:------:\t|:---:\t|\n",
    "| \"Action\" \t|     \"Amadeus Holy\"    \t| 113.00 \t|  6  \t|\n",
    "| \"Action\" \t|   \"American Circus\"   \t| 129.00 \t|  3  \t|\n",
    "| \"Action\" \t|  \"Antitrust Tomatoes\" \t| 168.00 \t|  5  \t|\n",
    "| \"Action\" \t|    \"Ark Ridgemont\"    \t|  68.00 \t|  6  \t|\n",
    "| \"Action\" \t| \"Barefoot Manchurian\" \t| 129.00 \t|  6  \t|\n",
    "| \"Action\" \t|     \"Berets Agent\"    \t|  77.00 \t|  5  \t|\n",
    "|    ...   \t|          ...          \t|   ...  \t| ... \t|\n",
    "| \"Action\" \t|          null         \t|   111.6  \t|  317 \t|\n",
    "|    ...   \t|          ...          \t|   ...  \t| ... \t|\n",
    "|   null   \t|     \"Zhivago Core\"    \t| 105.00 \t|  6  \t|\n",
    "|    ...   \t|          ...          \t|   ...  \t| ... \t|\n",
    "|   null    |          null             |  115.27   | 4985  |"
   ]
  },
  {
   "cell_type": "markdown",
   "metadata": {
    "slideshow": {
     "slide_type": "slide"
    }
   },
   "source": [
    "## Roll up\n",
    "\n",
    "```sql\n",
    "SELECT\n",
    "    c1,\n",
    "    c2,\n",
    "    c3,\n",
    "    aggregate (c4)\n",
    "FROM\n",
    "    table_name\n",
    "GROUP BY\n",
    "    ROLLUP (c1, c2, c3);\n",
    "```\n",
    "\n",
    "Explain:\n",
    "```sql\n",
    "ROLLUP(c1,c2,c3) <=> GROUPING SETS (\n",
    "    \n",
    "    (c1, c2, c3)\n",
    "    (c1, c2)\n",
    "    (c1)\n",
    "    ()\n",
    " ) \n",
    "```"
   ]
  },
  {
   "cell_type": "markdown",
   "metadata": {
    "slideshow": {
     "slide_type": "subslide"
    }
   },
   "source": [
    "## ROLLUP example\n",
    "\n",
    "```sql \n",
    "SELECT name, title, round(avg(length),2),\n",
    "\tSUM (rental_duration)\n",
    "FROM\n",
    "\tfilm join film_category using (film_id) join category using (category_id)\n",
    "GROUP BY\n",
    "\tROLLUP  (name, title)\n",
    "ORDER BY\n",
    "\tname,\n",
    "\ttitle;\n",
    "```"
   ]
  },
  {
   "cell_type": "markdown",
   "metadata": {
    "slideshow": {
     "slide_type": "subslide"
    }
   },
   "source": [
    "## Example results\n",
    "\n",
    "| category \t|         title         \t|  round \t| sum \t|\n",
    "|:--------:\t|:---------------------:\t|:------:\t|:---:\t|\n",
    "| \"Action\" \t|     \"Amadeus Holy\"    \t| 113.00 \t|  6  \t|\n",
    "| \"Action\" \t|   \"American Circus\"   \t| 129.00 \t|  3  \t|\n",
    "| \"Action\" \t|  \"Antitrust Tomatoes\" \t| 168.00 \t|  5  \t|\n",
    "| \"Action\" \t|    \"Ark Ridgemont\"    \t|  68.00 \t|  6  \t|\n",
    "| \"Action\" \t| \"Barefoot Manchurian\" \t| 129.00 \t|  6  \t|\n",
    "| \"Action\" \t|     \"Berets Agent\"    \t|  77.00 \t|  5  \t|\n",
    "|    ...   \t|          ...          \t|   ...  \t| ... \t|\n",
    "| \"Action\" \t|          null         \t|   111.6  \t|  317 \t|\n",
    "|    ...   \t|          ...          \t|   ...  \t| ... \t|\n",
    "|   null    |          null             |  115.27   | 4985  |"
   ]
  }
 ],
 "metadata": {
  "celltoolbar": "Slideshow",
  "jupytext": {
   "formats": "ipynb"
  },
  "kernelspec": {
   "display_name": "Python 3",
   "language": "python",
   "name": "python3"
  },
  "language_info": {
   "codemirror_mode": {
    "name": "ipython",
    "version": 3
   },
   "file_extension": ".py",
   "mimetype": "text/x-python",
   "name": "python",
   "nbconvert_exporter": "python",
   "pygments_lexer": "ipython3",
   "version": "3.7.6"
  },
  "rise": {
   "autolaunch": true,
   "backimage": "img/tlo_agh.png"
  }
 },
 "nbformat": 4,
 "nbformat_minor": 2
}
