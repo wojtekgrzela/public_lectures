{
 "cells": [
  {
   "cell_type": "markdown",
   "metadata": {
    "collapsed": true,
    "slideshow": {
     "slide_type": "slide"
    }
   },
   "source": [
    "# Advanced databases\n",
    "\n",
    "## Creating database - constraints\n",
    "\n",
    "### dr  inż. Waldemar Bauer"
   ]
  },
  {
   "cell_type": "markdown",
   "metadata": {
    "slideshow": {
     "slide_type": "slide"
    }
   },
   "source": [
    "## Table constraints \n",
    "Database constraints are restrictions on the contents of the database or on database operations\n",
    " \n",
    "Database constraints provide a way to guarantee that:\n",
    "\n",
    "- rows in a table have valid primary key values,\n",
    "\n",
    "- rows in a dependent table have valid foreign key values,\n",
    "\n",
    "- individual column values are valid ."
   ]
  },
  {
   "cell_type": "markdown",
   "metadata": {
    "slideshow": {
     "slide_type": "slide"
    }
   },
   "source": [
    "## Modification of existing table\n",
    "```sql\n",
    "ALTER TABLE table_name action;\n",
    "```\n",
    "### Action\n",
    "- add column\n",
    "- add constraint\n",
    "- drop column\n",
    "- drop constraint\n",
    "- rename column\n",
    "- rename table\n",
    "- alter column to DEFAULT and NULL constraints "
   ]
  },
  {
   "cell_type": "markdown",
   "metadata": {
    "slideshow": {
     "slide_type": "slide"
    }
   },
   "source": [
    "## Constraints on the columns\n",
    "\n",
    "- PRIMARY Key − Uniquely identifies each row/record in a database table, can't be NULL value.\n",
    "\n",
    "- FOREIGN Key − Uniquely identifies a row/record in any of the given database table, can be NULL value.\n",
    "\n",
    "- NOT NULL − Ensures that a column cannot have NULL value.\n",
    "\n",
    "- UNIQUE  − Ensures that all values in a column are different.\n",
    "\n",
    "- DEFAULT − Provides a default value for a column when none is specified.\n",
    "\n",
    "- CHECK  − The CHECK constraint ensures that all the values in a column satisfies certain conditions.\n",
    "\n",
    "- INDEX − Used to create and retrieve data from the database very quickly."
   ]
  },
  {
   "cell_type": "markdown",
   "metadata": {
    "slideshow": {
     "slide_type": "subslide"
    }
   },
   "source": [
    "## Example table\n",
    "Table definition:\n",
    "```sql\n",
    "CREATE TABLE users\n",
    "(\n",
    "    id integer,\n",
    "    name character varying(20),\n",
    ")\n",
    "```"
   ]
  },
  {
   "cell_type": "markdown",
   "metadata": {
    "slideshow": {
     "slide_type": "subslide"
    }
   },
   "source": [
    "## SQL Null and NOT NULL\n",
    "- A field with a NULL value is a field with no value.\n",
    "- The NULL value is different from a zero value or a field that contains spaces.\n",
    "- The NULL type is used then a field in a table is optional. \n",
    "- If a column doesn't have constraint NOT NULL it is possible to insert a new record or update a record without adding a value to this field."
   ]
  },
  {
   "cell_type": "markdown",
   "metadata": {
    "slideshow": {
     "slide_type": "fragment"
    }
   },
   "source": [
    "## ADD NOT NULL and PRIMARY Key\n",
    "```sql\n",
    "alter table users alter column id set NOT NULL; \n",
    "alter table users add PRIMARY KEY (id)\n",
    "```\n",
    "updated table definition:\n",
    "\n",
    "```sql\n",
    "CREATE TABLE users\n",
    "(\n",
    "    id integer NOT NULL,\n",
    "    name character varying(20),\n",
    "    CONSTRAINT users_pkey PRIMARY KEY (id)\n",
    ")\n",
    "```"
   ]
  },
  {
   "cell_type": "markdown",
   "metadata": {
    "slideshow": {
     "slide_type": "slide"
    }
   },
   "source": [
    "## UNIQUE\n",
    "\n",
    "- In columns  with this constraint, all values must be unique in the table\n",
    "\n",
    "- Doesn't have to be defined with Not Null, that mean column can have many null values"
   ]
  },
  {
   "cell_type": "markdown",
   "metadata": {
    "slideshow": {
     "slide_type": "subslide"
    }
   },
   "source": [
    "## Add UNIQUE\n",
    "```sql\n",
    "alter table users add constraint unique_users unique (id);\n",
    "```\n",
    "\n",
    "Add value:\n",
    "```sql \n",
    "insert into users(1)\n",
    "insert into users(2)\n",
    "insert into users(3, 'Monika')\n",
    "\n",
    "```\n",
    "Table values:\n",
    "\n",
    "| id \t|  name  \t|\n",
    "|:--:\t|:------:\t|\n",
    "|  1 \t|  Null  \t|\n",
    "|  2 \t|  Null  \t|\n",
    "|  3 \t| Monika \t|"
   ]
  },
  {
   "cell_type": "markdown",
   "metadata": {
    "slideshow": {
     "slide_type": "slide"
    }
   },
   "source": [
    "## DEFAULT\n",
    "- Assigned a default value to a column.\n",
    "- Can be used by serial and function.\n",
    "\n",
    "### Example:\n",
    "```sql \n",
    "-- Add the column to the table \n",
    "alter table users add nickname character varying(30);\n",
    "alter table users add card_number int;\n",
    "\n",
    "-- Add default nickname\n",
    "alter table users alter column nickname set default '';\n",
    "\n",
    "-- Create sequence\n",
    "create SEQUENCE card_number_seq;\n",
    "\n",
    "-- Add default value of card_number as null\n",
    "alter table users alter column card_number set default nextval('card_number_seq');\n",
    "\n",
    "-- Insert now data without columns with default value definition\n",
    "insert into users (id, name) values \n",
    "(4, 'Dawid'),\n",
    "(5, 'Krzyś');\n",
    "```"
   ]
  },
  {
   "cell_type": "markdown",
   "metadata": {
    "slideshow": {
     "slide_type": "slide"
    }
   },
   "source": [
    "## Results\n",
    "\n",
    "### Table definition:\n",
    "```sql\n",
    "\n",
    "CREATE TABLE users\n",
    "(\n",
    "    id integer NOT NULL,\n",
    "    name character varying(20),\n",
    "    card_number integer DEFAULT nextval('card_number_seq'),\n",
    "    nickname character varying(30) DEFAULT '',\n",
    "    CONSTRAINT users_pkey PRIMARY KEY (id),\n",
    "    CONSTRAINT unique_name UNIQUE (name)\n",
    "\n",
    ")\n",
    "```\n",
    "\n",
    "### All records:\n",
    "| id \t|   name   \t| card_number \t| nickname \t|\n",
    "|:--:\t|:--------:\t|:-----------:\t|:---------:\t|\n",
    "|  1 \t|   Null   \t|     Null    \t|    Null   \t|\n",
    "|  2 \t|   Null   \t|     Null    \t|    Null   \t|\n",
    "|  3 \t| \"Monika\" \t|     Null    \t|    Null   \t|\n",
    "|  4 \t|  \"Dawid\" \t|      2      \t|      \"\"     \t|\n",
    "|  5 \t|  \"Krzyś\" \t|      3      \t|      \"\"     \t|\n"
   ]
  },
  {
   "cell_type": "markdown",
   "metadata": {
    "slideshow": {
     "slide_type": "subslide"
    }
   },
   "source": [
    "## Problems with defults value\n",
    "\n",
    "Add data:\n",
    "\n",
    "```sql\n",
    "insert into users (id, name, card_number, nickname) values \n",
    "(6, 'Mirek', 1, 'Misiek'),\n",
    "(7, 'Daniel', 2, 'Kot');\n",
    "```\n",
    "Result:\n",
    "\n",
    "| id \t|   name   \t| card_number \t| nickname \t|\n",
    "|:--:\t|:--------:\t|:-----------:\t|:---------:\t|\n",
    "|  1 \t|   Null   \t|     Null    \t|    Null   \t|\n",
    "|  2 \t|   Null   \t|     Null    \t|    Null   \t|\n",
    "|  3 \t| \"Monika\" \t|     Null    \t|    Null   \t|\n",
    "|  4 \t|  \"Dawid\" \t|      2      \t|     \"\"    \t|\n",
    "|  5 \t|  \"Krzyś\" \t|      3      \t|     \"\"    \t|\n",
    "|  6 \t|  \"Mirek\" \t|      1      \t|  \"Misiek\" \t|\n",
    "|  7 \t| \"Daniel\" \t|      2      \t|   \"Kot\"   \t|"
   ]
  },
  {
   "cell_type": "markdown",
   "metadata": {
    "slideshow": {
     "slide_type": "slide"
    }
   },
   "source": [
    "## CHECK\n",
    "\n",
    "- Used to enforce the validity of column values. \n",
    "- A check constraint can compare a column to a constant or result of function\n",
    "\n",
    "### Example:\n",
    "```sql\n",
    "alter table users add constraint chcek_nick_name_len check ( length(nickname) = 0 or length(nickname) >=3 )\n",
    "```\n",
    "\n",
    "### Table definition:\n",
    "```sql\n",
    "CREATE TABLE users\n",
    "(\n",
    "    id integer NOT NULL,\n",
    "    name character varying(20) ,\n",
    "    card_number integer DEFAULT nextval('card_number_seq'),\n",
    "    nickname character varying(30) DEFAULT '',\n",
    "    CONSTRAINT users_pkey PRIMARY KEY (id),\n",
    "    CONSTRAINT unique_name UNIQUE (name),\n",
    "    CONSTRAINT chcek_nick_name_len CHECK (length(nickname) = 0 OR length(nickname::text) >= 3)\n",
    ")\n",
    "```\n"
   ]
  },
  {
   "cell_type": "markdown",
   "metadata": {
    "slideshow": {
     "slide_type": "subslide"
    }
   },
   "source": [
    "## Exercise\n",
    "\n",
    "Add data set 1:\n",
    "    \n",
    "```sql \n",
    "insert into users (id, name) values \n",
    "(8, 'Waldemar'),\n",
    "(9, 'Anna');\n",
    "```\n",
    "Add data set 2:\n",
    "```sql\n",
    "insert into users (id, name, nickname) values \n",
    "(10, 'Krysia', NULL),\n",
    "(11, 'Zosia', 'Milka' );\n",
    "```\n",
    "Add data set 3:\n",
    "```sql\n",
    "insert into users (id, name, nickname) values \n",
    "(12, 'Tomasz', 'as'),\n",
    "(13, 'Wiola', 'Ala' );\n",
    "```\n",
    "\n",
    "###  <center> Which queries will go through and why?</center>\n"
   ]
  },
  {
   "cell_type": "markdown",
   "metadata": {
    "slideshow": {
     "slide_type": "subslide"
    }
   },
   "source": [
    "## Results\n",
    "\n",
    "| id \t|    name    \t| card_number \t| nick_name \t|\n",
    "|:--:\t|:----------:\t|:-----------:\t|:---------:\t|\n",
    "|  1 \t|    Null    \t|     Null    \t|    Null   \t|\n",
    "|  2 \t|    Null    \t|     Null    \t|    Null   \t|\n",
    "|  3 \t|  \"Monika\"  \t|     Null    \t|    Null   \t|\n",
    "|  4 \t|   \"Dawid\"  \t|      2      \t|     \"\"    \t|\n",
    "|  5 \t|   \"Krzyś\"  \t|      3      \t|     \"\"    \t|\n",
    "|  6 \t|   \"Mirek\"  \t|      1      \t|  \"Misiek\" \t|\n",
    "|  7 \t|  \"Daniel\"  \t|      2      \t|   \"Kot\"   \t|\n",
    "|  8 \t| \"Waldemar\" \t|      4      \t|     \"\"     \t|\n",
    "|  9 \t|   \"Anna\"   \t|      5      \t|     \"\"      \t|\n",
    "| 10 \t|  \"Krysia\"  \t|      6      \t|    Null   \t|\n",
    "| 11 \t|   \"Zosia\"  \t|      7      \t|  \"Milka\"  \t|"
   ]
  },
  {
   "cell_type": "markdown",
   "metadata": {
    "slideshow": {
     "slide_type": "slide"
    }
   },
   "source": [
    "## Edit constraint\n",
    "\n",
    "- We can't edit constraint directly\n",
    "- On the beginning, we need to drop constraint from a table\n",
    "- After that, we define a new constraint\n",
    "\n",
    "### Drop by type\n",
    "```sql\n",
    "alter table table_name alter column column_name drop constraint_type;\n",
    "```\n",
    "\n",
    "### Drop by constraint name\n",
    "```sql\n",
    "alter table table_name drop constraint constraint_name;\n",
    "```"
   ]
  },
  {
   "cell_type": "markdown",
   "metadata": {
    "slideshow": {
     "slide_type": "subslide"
    }
   },
   "source": [
    "## Example:\n",
    "```sql\n",
    "-- by type\n",
    "alter table users alter column nickname drop Default;\n",
    "\n",
    "-- by name\n",
    "alter table users drop constraint chcek_nick_name_len;\n",
    "```\n",
    "### Table definition:\n",
    "```sql\n",
    "CREATE TABLE users\n",
    "(\n",
    "    id integer NOT NULL,\n",
    "    name character varying(20),\n",
    "    card_number integer DEFAULT nextval('card_number_seq'::regclass),\n",
    "    nickname character varying(30),\n",
    "    CONSTRAINT users_pkey PRIMARY KEY (id),\n",
    "    CONSTRAINT unique_name UNIQUE (name)\n",
    ")\n",
    "```"
   ]
  },
  {
   "cell_type": "markdown",
   "metadata": {
    "slideshow": {
     "slide_type": "slide"
    }
   },
   "source": [
    "## Foreign Key Constraints \n",
    "\n",
    "- A foreign key constraint specifies how records in different tables are related and how should handle row insert, delete, and update operations that might violate the relationship. \n",
    "\n",
    "- With a relational DBMS, the relationship between rows in two tables is expressed by a foreign key in the dependent table. \n",
    "\n",
    "- A foreign key is one or more columns that contain a value identical to a primary key (or unique key) value in some row in the parent table (i.e., the referenced table)"
   ]
  },
  {
   "cell_type": "markdown",
   "metadata": {
    "slideshow": {
     "slide_type": "subslide"
    }
   },
   "source": [
    "## Define Foreign Key\n",
    "```sql\n",
    "alter table child_table add constraint constraint_name \n",
    "FOREIGN KEY (column_name1, column_name2,... ) \n",
    "REFERENCES parent_table (column_name1, column_name2, ... ) \n",
    "[ON DELETE {RESTRICT | CASCADE | SET NULL | NO ACTION}]\n",
    "[ON UPDATE {RESTRICT | CASCADE | SET NULL | NO ACTION}] ;\n",
    "```\n",
    "\n",
    "### DELETE/UPDATE action:\n",
    "- RESTRICT - if in child table exist reference to parents record we can modified parent record.\n",
    "- CASCADE - change the referencing rows in the child table when the referenced row is modified.\n",
    "- SET NULL - set null in child table if it is posible\n",
    "- NO ACTION -  if any referencing rows still exist when the constraint is checked, an error is raised"
   ]
  },
  {
   "cell_type": "markdown",
   "metadata": {
    "slideshow": {
     "slide_type": "subslide"
    }
   },
   "source": [
    "## Example\n",
    "\n",
    "### Table post\n",
    "\n",
    "```sql\n",
    "CREATE TABLE posts\n",
    "(\n",
    "    id integer NOT NULL,\n",
    "    text character varying(30),\n",
    "    user_id integer,\n",
    "    CONSTRAINT post_pkey PRIMARY KEY (id)\n",
    ")\n",
    "```\n",
    "\n",
    "### Connect post with user\n",
    "```sql\n",
    "alter table post add constraint fk_users FOREIGN KEY (user_id) REFERENCES users (id) on update restrict on delete cascade;\n",
    "```\n",
    "\n",
    "### Result\n",
    "\n",
    "```sql\n",
    "CREATE TABLE post\n",
    "(\n",
    "    id integer NOT NULL,\n",
    "    text \"char\"[],\n",
    "    user_id integer,\n",
    "    CONSTRAINT post_pkey PRIMARY KEY (id),\n",
    "    CONSTRAINT fk_users FOREIGN KEY (user_id)\n",
    "        REFERENCES public.users (id) MATCH SIMPLE\n",
    "        ON UPDATE RESTRICT\n",
    "        ON DELETE CASCADE\n",
    ")\n",
    "```"
   ]
  }
 ],
 "metadata": {
  "celltoolbar": "Slideshow",
  "jupytext": {
   "formats": "ipynb"
  },
  "kernelspec": {
   "display_name": "Python 3",
   "language": "python",
   "name": "python3"
  },
  "language_info": {
   "codemirror_mode": {
    "name": "ipython",
    "version": 3
   },
   "file_extension": ".py",
   "mimetype": "text/x-python",
   "name": "python",
   "nbconvert_exporter": "python",
   "pygments_lexer": "ipython3",
   "version": "3.7.4"
  },
  "rise": {
   "autolaunch": true,
   "backimage": "img/tlo_agh.png"
  }
 },
 "nbformat": 4,
 "nbformat_minor": 2
}
