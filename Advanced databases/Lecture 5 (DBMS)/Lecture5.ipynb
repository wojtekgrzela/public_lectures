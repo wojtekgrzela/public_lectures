{
 "cells": [
  {
   "cell_type": "markdown",
   "metadata": {
    "collapsed": true,
    "slideshow": {
     "slide_type": "slide"
    }
   },
   "source": [
    "# Advanced databases\n",
    "\n",
    "## Database Managment Systems \n",
    "### dr  inż. Waldemar Bauer"
   ]
  },
  {
   "cell_type": "markdown",
   "metadata": {
    "slideshow": {
     "slide_type": "slide"
    }
   },
   "source": [
    "## Database Managment Systems (DBMS)\n",
    "\n",
    "- software for creating and managing databases. \n",
    "\n",
    "- DBMS essentially serves as an interface between databases and end users.\n"
   ]
  },
  {
   "cell_type": "markdown",
   "metadata": {
    "slideshow": {
     "slide_type": "subslide"
    }
   },
   "source": [
    "## DBMS schema\n",
    "\n",
    "<img src='img/DBMS.gif'>"
   ]
  },
  {
   "cell_type": "markdown",
   "metadata": {
    "slideshow": {
     "slide_type": "slide"
    }
   },
   "source": [
    "## Types of DBMS technologies\n",
    "\n",
    "- Relational database management system (RDBMS)\n",
    "- NoSQL DBMS \n",
    "- In-memory database management system (IMDBMS)\n",
    "- Columnar database management system (CDBMS) \n",
    "- Cloud-based database management system"
   ]
  },
  {
   "cell_type": "markdown",
   "metadata": {
    "slideshow": {
     "slide_type": "slide"
    }
   },
   "source": [
    "## DBMS goals\n",
    "- Centralization\n",
    "- Data independenc\n",
    "- Keeping consistency of data\n",
    "- Standardization\n",
    "- Optimalization"
   ]
  },
  {
   "cell_type": "markdown",
   "metadata": {
    "slideshow": {
     "slide_type": "subslide"
    }
   },
   "source": [
    "## DBMS goals part 2\n",
    "- Multi access\n",
    "- Selective access\n",
    "- Parallel access \n",
    "- Views"
   ]
  },
  {
   "cell_type": "markdown",
   "metadata": {
    "slideshow": {
     "slide_type": "slide"
    }
   },
   "source": [
    "## DMS functionality \n",
    "\n",
    "1. Allowing design and implementation of a new database using tools and Data Definition Language (DDL).\n",
    "1. Enabling selective access to data using the query language and queries created in it.\n",
    "1. Enabling specific data operations using language data manipulation (Data Manipulation Language, DML).\n",
    "1. Support for the storage of large data sets, ensuring reliability and efficiency, handling operations on data files on the disk.\n",
    "1. Ensuring the integrity of data (at the table level, at the database level).\n"
   ]
  },
  {
   "cell_type": "markdown",
   "metadata": {
    "slideshow": {
     "slide_type": "subslide"
    }
   },
   "source": [
    "## DMS functionality part 2\n",
    "\n",
    "6. Protection of access to data - different areas and access levels (keeping user accounts, assigning rights).\n",
    "6. Providing multi-user access and synchronization of access in the case of co-operative access.\n",
    "6. Ensuring the possibility of communication with other systems.\n",
    "6. Providing description and documentation (scheme and structure).\n",
    "6. Work optimization (minimization of access time or service of tasks), access optimization for individual users (perspectives), optimization of resource management and database organization."
   ]
  },
  {
   "cell_type": "markdown",
   "metadata": {
    "slideshow": {
     "slide_type": "subslide"
    }
   },
   "source": [
    "##  Problems of DBMS \n",
    "\n",
    "- Cost of hardware and software if we use dedicated/sophisticated solution\n",
    "- Complexity of DBMS\n",
    "- Samtimes specialization in one engine of database\n",
    "- DBMS can't perform sophisticated calculations\n",
    "\n"
   ]
  },
  {
   "cell_type": "code",
   "execution_count": null,
   "metadata": {},
   "outputs": [],
   "source": []
  }
 ],
 "metadata": {
  "celltoolbar": "Slideshow",
  "jupytext": {
   "formats": "ipynb"
  },
  "kernelspec": {
   "display_name": "Python 3",
   "language": "python",
   "name": "python3"
  },
  "language_info": {
   "codemirror_mode": {
    "name": "ipython",
    "version": 3
   },
   "file_extension": ".py",
   "mimetype": "text/x-python",
   "name": "python",
   "nbconvert_exporter": "python",
   "pygments_lexer": "ipython3",
   "version": "3.7.6"
  },
  "rise": {
   "autolaunch": true,
   "backimage": "img/tlo_agh.png"
  }
 },
 "nbformat": 4,
 "nbformat_minor": 2
}
