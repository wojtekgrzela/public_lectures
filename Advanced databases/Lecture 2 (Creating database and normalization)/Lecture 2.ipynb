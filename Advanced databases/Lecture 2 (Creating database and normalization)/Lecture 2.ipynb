{
 "cells": [
  {
   "cell_type": "markdown",
   "metadata": {
    "collapsed": true,
    "slideshow": {
     "slide_type": "slide"
    }
   },
   "source": [
    "# Advanced databases\n",
    "\n",
    "## Creating database and introdaction to normalization\n",
    "\n",
    "### dr  inż. Waldemar Bauer"
   ]
  },
  {
   "cell_type": "markdown",
   "metadata": {
    "slideshow": {
     "slide_type": "slide"
    }
   },
   "source": [
    "## Create databse\n",
    "- SQL\n",
    "    - \n",
    "    ```sql\n",
    "    createdb [option...] [dbname [description]]\n",
    "    ```\n",
    "**Example**: \n",
    "```sql\n",
    "createdb -h localhost -p 5432 -U postgres Testdb\n",
    "```\n",
    "- PostgreSQL\n",
    "    - \n",
    "    ```sql\n",
    "    CREATE DATABASE name\n",
    "    [ [ WITH ] [ OWNER [=] user_name ]\n",
    "           [ TEMPLATE [=] template ]\n",
    "           [ ENCODING [=] encoding ]\n",
    "           [ LC_COLLATE [=] lc_collate ]\n",
    "           [ LC_CTYPE [=] lc_ctype ]\n",
    "           [ TABLESPACE [=] tablespace ]\n",
    "           [ CONNECTION LIMIT [=] connlimit ] ]\n",
    "     ```"
   ]
  },
  {
   "cell_type": "markdown",
   "metadata": {
    "slideshow": {
     "slide_type": "slide"
    }
   },
   "source": [
    "## Create table\n",
    "```sql\n",
    "CREATE TABLE [database_name.][schema_name.]table_name (\n",
    "    column_name_0 data_type Constraints,\n",
    "    column_name_1 data_type Constraints,\n",
    "    column_name_2 data_type Constraints,\n",
    "    ...,\n",
    "    table_constraints\n",
    ");\n",
    "```"
   ]
  },
  {
   "cell_type": "markdown",
   "metadata": {
    "slideshow": {
     "slide_type": "subslide"
    }
   },
   "source": [
    "## Constraints\n",
    "\n",
    "- NOT NULL − Ensures that a column cannot have NULL value.\n",
    "\n",
    "- DEFAULT − Provides a default value for a column when none is specified.\n",
    "\n",
    "- UNIQUE  − Ensures that all values in a column are different.\n",
    "\n",
    "- PRIMARY Key − Uniquely identifies each row/record in a database table.\n",
    "\n",
    "- FOREIGN Key − Uniquely identifies a row/record in any of the given database table.\n",
    "\n",
    "- CHECK  − The CHECK constraint ensures that all the values in a column satisfies certain conditions.\n",
    "\n",
    "- INDEX − Used to create and retrieve data from the database very quickly."
   ]
  },
  {
   "cell_type": "markdown",
   "metadata": {
    "slideshow": {
     "slide_type": "subslide"
    }
   },
   "source": [
    "## Create table example\n",
    "\n",
    "```sql\n",
    "CREATE TABLE school(\n",
    "   ID             INT      NOT NULL,\n",
    "   NAME           TEXT     NOT NULL,\n",
    "   ADDRESS        CHAR(50) NOT NULL,\n",
    "   SIZE           REAL\n",
    ");\n",
    "```"
   ]
  },
  {
   "cell_type": "markdown",
   "metadata": {
    "slideshow": {
     "slide_type": "slide"
    }
   },
   "source": [
    "## Key in database\n",
    "\n",
    "- **Super Key** is defined as a set of attributes within a table that can uniquely identify each record within a table. Super Key is a superset of Candidate key.\n",
    "\n",
    "- **Candidate keys** are defined as the minimal set of fields which can uniquely identify each record in a table. It is an attribute or a set of attributes that can act as a Primary Key for a table to uniquely identify each record in that table. There can be more than one candidate key.\n",
    "\n",
    "- **Primary key** is a candidate key that is most appropriate to become the main key for any table. It is a key that can uniquely identify each record in a table."
   ]
  },
  {
   "cell_type": "markdown",
   "metadata": {
    "slideshow": {
     "slide_type": "subslide"
    }
   },
   "source": [
    "## Key in database\n",
    "- **Composite key** that consists of two or more attributes that uniquely identify any record in a table\n",
    "- **Secondary keys** or **alternative keys** which are not selected as primary key\n",
    "- **Non-key attributes** are the attributes or fields of a table, other than candidate key attributes/fields in a table.\n",
    "- **Non-prime attributes** are attributes other than Primary Key attribute(s)."
   ]
  },
  {
   "cell_type": "markdown",
   "metadata": {
    "slideshow": {
     "slide_type": "subslide"
    }
   },
   "source": [
    "## Problems with data set\n",
    "- Insertion Anomaly\n",
    "- Updat Anomaly\n",
    "- Deletion Anomaly"
   ]
  },
  {
   "cell_type": "markdown",
   "metadata": {
    "slideshow": {
     "slide_type": "slide"
    }
   },
   "source": [
    "## What is Normalization?\n",
    "Normalization is a database design technique which organizes tables in a manner that reduces redundancy and dependency of data.\n",
    "\n",
    "Theory of Data Normalization in SQL is still being developed further.\n",
    "\n",
    "**However, in most practical applications, normalization achieves its best in 3$^{rd}$/3.5$^{rd}$ Normal Form.**\n",
    "\n",
    "<img src=\"img/normal_form.png\" width=\"1000\">"
   ]
  },
  {
   "cell_type": "markdown",
   "metadata": {
    "slideshow": {
     "slide_type": "slide"
    }
   },
   "source": [
    "## Example data set\n",
    "|    name   \t|    surname    \t|  born_date \t| original_title \t| publication_date \t| original_language \t| translation_language \t| translation_date \t| translator_name \t| translator_surname \t| translated_title \t|\n",
    "|:---------:\t|:-------------:\t|:----------:\t|:--------------:\t|:----------------:\t|:-----------------:\t|:--------------------:\t|:----------------:\t|:---------------:\t|:------------------:\t|:----------------:\t|\n",
    "| William   \t| Shakespeare   \t| 26.04.1564 \t|     Hamlet     \t|       1603       \t|      english      \t|        polish        \t|       1990       \t|    Stanisław    \t|      Barańczak     \t|      Hamlet      \t|\n",
    "| William   \t| Shakespeare   \t| 26.04.1564 \t|     Hamlet     \t|       1603       \t|      english      \t|        french        \t|       1830       \t|    François     \t|      Guizot        \t|      Hamlet      \t|\n",
    "| William   \t| Shakespeare   \t| 26.04.1564 \t|     Hamlet     \t|       1603       \t|      english      \t|         welsh        \t|       1960       \t|     J. T.       \t|        Jonse       \t|      Hamlet      \t|\n",
    "| William   \t| Shakespeare   \t| 26.04.1564 \t|    King Lear   \t|       1606       \t|      english      \t|        polish        \t|       1991       \t|    Stanisław    \t|      Barańczak     \t|     Król Lear    \t|\n",
    "| William   \t| Shakespeare   \t| 26.04.1564 \t|    King Lear   \t|       1606       \t|      english      \t|        freanch       \t|       1831       \t|    François     \t|      Guizot        \t|   Le roi Lear    \t|\n",
    "| William   \t| Shakespeare   \t| 26.04.1564 \t|    King Lear   \t|       1606       \t|      english      \t|         welsh        \t|       1949       \t|     D. J.       \t|       Thomas       \t|   Y Brenin Llyr  \t|\n",
    "| William   \t| Shakespeare   \t| 26.04.1564 \t|    King Lear   \t|       1606       \t|      english      \t|         welsh        \t|       1949       \t|     W. J.       \t|      Gruffydd      \t|   Y Brenin Llyr  \t|\n",
    "|   Albert  \t|     Camus     \t|  7.11.1913 \t|    La Peste    \t|       1947       \t|       french      \t|        polish        \t|       1997       \t|     Joanna      \t|        Guze        \t|       Dżuma      \t|\n",
    "|   Albert  \t|     Camus     \t|  7.11.1913 \t|    La Peste    \t|       1947       \t|       french      \t|        english       \t|       1948       \t|      Hamish     \t|      Hamilton      \t|    The Plague    \t|\n",
    "|   Albert  \t|     Camus     \t|  7.11.1913 \t|    La Peste    \t|       1947       \t|       french      \t|       italiano       \t|       2019       \t|      B. Dal     \t|       Fabbro       \t|     La peste     \t|\n",
    "| William   \t| Shakespeare   \t| 26.04.1564 \t|     Hamlet     \t|       1603       \t|      english      \t|        polish        \t|       1990       \t|    Stanisław    \t|      Barańczak     \t|      Hamlet      \t|"
   ]
  },
  {
   "cell_type": "markdown",
   "metadata": {
    "slideshow": {
     "slide_type": "slide"
    }
   },
   "source": [
    "## First Normal Form (1NF)\n",
    "\n",
    "For a table to be in the First Normal Form, it should follow the following:\n",
    "1. It should only have single valued attributes.\n",
    "1. Values stored in a column should be of the same type (domain)\n",
    "1. All the columns in a table should have unique names.\n",
    "1.  Each record needs to be unique\n",
    "\n",
    "That the example data set meets the conditions?\n"
   ]
  },
  {
   "cell_type": "markdown",
   "metadata": {
    "slideshow": {
     "slide_type": "subslide"
    }
   },
   "source": [
    "## Example data set in 1NF, solution 1:\n",
    "|    name   \t|    surname    \t|  born_date \t| original_title \t| publication_date \t| original_language \t| translation_language \t| translation_date \t| translator_name \t| translator_surname \t| translated_title \t|\n",
    "|:---------:\t|:-------------:\t|:----------:\t|:--------------:\t|:----------------:\t|:-----------------:\t|:--------------------:\t|:----------------:\t|:---------------:\t|:------------------:\t|:----------------:\t|\n",
    "| William   \t| Shakespeare   \t| 26.04.1564 \t|     Hamlet     \t|       1603       \t|      english      \t|        polish        \t|       1990       \t|    Stanisław    \t|      Barańczak     \t|      Hamlet      \t|\n",
    "| William   \t| Shakespeare   \t| 26.04.1564 \t|     Hamlet     \t|       1603       \t|      english      \t|        french        \t|       1830       \t|    François     \t|      Guizot        \t|      Hamlet      \t|\n",
    "| William   \t| Shakespeare   \t| 26.04.1564 \t|     Hamlet     \t|       1603       \t|      english      \t|         welsh        \t|       1960       \t|     J. T.       \t|        Jonse       \t|      Hamlet      \t|\n",
    "| William   \t| Shakespeare   \t| 26.04.1564 \t|    King Lear   \t|       1606       \t|      english      \t|        polish        \t|       1991       \t|    Stanisław    \t|      Barańczak     \t|     Król Lear    \t|\n",
    "| William   \t| Shakespeare   \t| 26.04.1564 \t|    King Lear   \t|       1606       \t|      english      \t|        freanch       \t|       1831       \t|    François     \t|      Guizot        \t|   Le roi Lear    \t|\n",
    "| William   \t| Shakespeare   \t| 26.04.1564 \t|    King Lear   \t|       1606       \t|      english      \t|         welsh        \t|       1949       \t|     D. J.       \t|       Thomas       \t|   Y Brenin Llyr  \t|\n",
    "| William   \t| Shakespeare   \t| 26.04.1564 \t|    King Lear   \t|       1606       \t|      english      \t|         welsh        \t|       1949       \t|     W. J.       \t|      Gruffydd      \t|   Y Brenin Llyr  \t|\n",
    "|   Albert  \t|     Camus     \t|  7.11.1913 \t|    La Peste    \t|       1947       \t|       french      \t|        polish        \t|       1997       \t|     Joanna      \t|        Guze        \t|       Dżuma      \t|\n",
    "|   Albert  \t|     Camus     \t|  7.11.1913 \t|    La Peste    \t|       1947       \t|       french      \t|        english       \t|       1948       \t|      Hamish     \t|      Hamilton      \t|    The Plague    \t|\n",
    "|   Albert  \t|     Camus     \t|  7.11.1913 \t|    La Peste    \t|       1947       \t|       french      \t|       italiano       \t|       2019       \t|      B. Dal     \t|       Fabbro       \t|     La peste     \t|"
   ]
  },
  {
   "cell_type": "markdown",
   "metadata": {
    "slideshow": {
     "slide_type": "subslide"
    }
   },
   "source": [
    "## Example data set in 1NF, solution 2:\n",
    "| id \t|    name   \t|    surname    \t|  born_date \t| original_title \t| publication_date \t| original_language \t| translation_language \t| translation_date \t| translator_name \t| translator_surname \t| translated_title \t|\n",
    "|:--:\t|:---------:\t|:-------------:\t|:----------:\t|:--------------:\t|:----------------:\t|:-----------------:\t|:--------------------:\t|:----------------:\t|:---------------:\t|:------------------:\t|:----------------:\t|\n",
    "|  1 \t| William   \t| Shakespeare   \t| 26.04.1564 \t|     Hamlet     \t|       1603       \t|      english      \t|        polish        \t|       1990       \t|    Stanisław    \t|      Barańczak     \t|      Hamlet      \t|\n",
    "|  2 \t| William   \t| Shakespeare   \t| 26.04.1564 \t|     Hamlet     \t|       1603       \t|      english      \t|        french        \t|       1830       \t|    François     \t|      Guizot        \t|      Hamlet      \t|\n",
    "|  3 \t| William   \t| Shakespeare   \t| 26.04.1564 \t|     Hamlet     \t|       1603       \t|      english      \t|         welsh        \t|       1960       \t|     J. T.       \t|        Jonse       \t|      Hamlet      \t|\n",
    "|  4 \t| William   \t| Shakespeare   \t| 26.04.1564 \t|    King Lear   \t|       1606       \t|      english      \t|        polish        \t|       1991       \t|    Stanisław    \t|      Barańczak     \t|     Król Lear    \t|\n",
    "|  5 \t| William   \t| Shakespeare   \t| 26.04.1564 \t|    King Lear   \t|       1606       \t|      english      \t|        freanch       \t|       1831       \t|    François     \t|      Guizot        \t|   Le roi Lear    \t|\n",
    "|  6 \t| William   \t| Shakespeare   \t| 26.04.1564 \t|    King Lear   \t|       1606       \t|      english      \t|         welsh        \t|       1949       \t|     D. J.       \t|       Thomas       \t|   Y Brenin Llyr  \t|\n",
    "|  7 \t| William   \t| Shakespeare   \t| 26.04.1564 \t|    King Lear   \t|       1606       \t|      english      \t|         welsh        \t|       1949       \t|     W. J.       \t|      Gruffydd      \t|   Y Brenin Llyr  \t|\n",
    "|  8 \t|   Albert  \t|     Camus     \t|  7.11.1913 \t|    La Peste    \t|       1947       \t|       french      \t|        polish        \t|       1997       \t|     Joanna      \t|        Guze        \t|       Dżuma      \t|\n",
    "|  9 \t|   Albert  \t|     Camus     \t|  7.11.1913 \t|    La Peste    \t|       1947       \t|       french      \t|        english       \t|       1948       \t|      Hamish     \t|      Hamilton      \t|    The Plague    \t|\n",
    "| 10 \t|   Albert  \t|     Camus     \t|  7.11.1913 \t|    La Peste    \t|       1947       \t|       french      \t|       italiano       \t|       2019       \t|      B. Dal     \t|       Fabbro       \t|     La peste     \t|\n",
    "| 11 \t|  William  \t|  Shakespeare  \t| 26.04.1564 \t|     Hamlet     \t|       1603       \t|      english      \t|        polish        \t|       1990       \t|    Stanisław    \t|      Barańczak     \t|      Hamlet      \t|"
   ]
  },
  {
   "cell_type": "markdown",
   "metadata": {
    "slideshow": {
     "slide_type": "slide"
    }
   },
   "source": [
    "## Second Normal Form (2NF)\n",
    "\n",
    "For a table to be in the Second Normal Form, it should follow the following:\n",
    "- table is in the First Normal Form,\n",
    "- And, it should not have Partial Dependency or simply in table must exists Single Primary Key to identification the data only from this table."
   ]
  },
  {
   "cell_type": "markdown",
   "metadata": {
    "slideshow": {
     "slide_type": "subslide"
    }
   },
   "source": [
    "## Authors \n",
    "| id \t|    name   \t|    surname    \t|  born_date \t|\n",
    "|:--:\t|:---------:\t|:-------------:\t|:----------:\t|\n",
    "|  1 \t| William   \t| Shakespeare   \t| 26.04.1564 \t|\n",
    "| 2 \t|   Albert  \t|     Camus     \t|  7.11.1913 \t|"
   ]
  },
  {
   "cell_type": "markdown",
   "metadata": {
    "slideshow": {
     "slide_type": "subslide"
    }
   },
   "source": [
    "## Books with translations\n",
    "| id \t| id_autor \t| original_title \t| publication_date \t| original_language \t| translation_language \t| translation_date \t| translator_name \t| translator_surname \t| translated_title \t|\n",
    "|:--:\t|:--------:\t|:--------------:\t|:----------------:\t|-------------------\t|----------------------\t|------------------\t|-----------------\t|--------------------\t|------------------\t|\n",
    "|  1 \t|     1    \t|     Hamlet     \t|       1603       \t| english           \t| polish               \t| 1990             \t| Stanisław       \t| Barańczak          \t| Hamlet           \t|\n",
    "|  2 \t|     1    \t|     Hamlet     \t|       1603       \t| english           \t| french               \t| 1830             \t| François        \t| Guizot             \t| Hamlet           \t|\n",
    "|  3 \t|     1    \t|     Hamlet     \t|       1603       \t| english           \t| welsh                \t| 1960             \t| J. T.           \t| Jonse              \t| Hamlet           \t|\n",
    "| 4  \t| 1        \t| King Lear      \t| 1606             \t| english           \t| polish               \t| 1991             \t| Stanisław       \t| Barańczak          \t| Król Lear        \t|\n",
    "| 5  \t| 1        \t| King Lear      \t| 1606             \t| english           \t| freanch              \t| 1831             \t| François        \t| Guizot             \t| Le roi Lear      \t|\n",
    "| 6  \t| 1        \t| King Lear      \t| 1606             \t| english           \t| welsh                \t| 1949             \t| D. J.           \t| Thomas             \t| Y Brenin Llyr    \t|\n",
    "| 7  \t| 1        \t| King Lear      \t| 1606             \t| english           \t| welsh                \t| 1949             \t| W. J.           \t| Gruffydd           \t| Y Brenin Llyr    \t|\n",
    "| 8  \t| 2        \t|  La Peste      \t| 1947             \t| french            \t| polish               \t| 1997             \t| Joanna          \t| Guze               \t| Dżuma            \t|\n",
    "| 9  \t| 2        \t|  La Peste      \t| 1947             \t| french            \t| english              \t| 1948             \t| Hamish          \t| Hamilton           \t| The Plague       \t|\n",
    "| 10 \t| 2        \t|  La Peste      \t| 1947             \t| french            \t| italiano             \t| 2019             \t|  B. Dal         \t| Fabbro             \t|  La peste        \t|"
   ]
  },
  {
   "cell_type": "markdown",
   "metadata": {
    "slideshow": {
     "slide_type": "subslide"
    }
   },
   "source": [
    "## Books\n",
    "| id \t| original_title \t| publication_date \t| original_language \t|\n",
    "|:--:\t|:--------------:\t|:----------------:\t|:-----------------:\t|\n",
    "|  1 \t|     Hamlet     \t|       1603       \t|      english      \t|\n",
    "|  2 \t|    King Lear   \t|       1606       \t|      english      \t|\n",
    "|  3 \t|    La Peste    \t|       1947       \t|       french      \t|"
   ]
  },
  {
   "cell_type": "markdown",
   "metadata": {
    "slideshow": {
     "slide_type": "subslide"
    }
   },
   "source": [
    "## Translations\n",
    "| id \t| id_book \t| translation_language \t| translation_date \t| translator_name \t| translator_surname \t| translated_title \t|\n",
    "|:--:\t|:-------:\t|:--------------------:\t|:----------------:\t|:---------------:\t|:------------------:\t|:----------------:\t|\n",
    "|  1 \t|    1    \t|        polish        \t|       1990       \t|    Stanisław    \t|      Barańczak     \t|      Hamlet      \t|\n",
    "|  2 \t|    1    \t|        french        \t|       1830       \t|    François     \t|      Guizot        \t|      Hamlet      \t|\n",
    "|  3 \t|    1    \t|         welsh        \t|       1960       \t|     J. T.       \t|        Jonse       \t|      Hamlet      \t|\n",
    "|  4 \t|    2    \t|        polish        \t|       1991       \t|    Stanisław    \t|      Barańczak     \t|     Król Lear    \t|\n",
    "|  5 \t|    2    \t|        freanch       \t|       1831       \t|    François     \t|      Guizot        \t|   Le roi Lear    \t|\n",
    "|  6 \t|    2    \t|         welsh        \t|       1949       \t|     D. J.       \t|       Thomas       \t|   Y Brenin Llyr  \t|\n",
    "|  7 \t|    2    \t|         welsh        \t|       1949       \t|     W. J.       \t|      Gruffydd      \t|   Y Brenin Llyr  \t|\n",
    "|  8 \t|    3    \t|        polish        \t|       1997       \t|     Joanna      \t|        Guze        \t|       Dżuma      \t|\n",
    "|  9 \t|    3    \t|        english       \t|       1948       \t|      Hamish     \t|      Hamilton      \t|    The Plague    \t|\n",
    "| 10 \t|    3    \t|       italiano       \t|       2019       \t|      B. Dal     \t|       Fabbro       \t|     La peste     \t|"
   ]
  },
  {
   "cell_type": "markdown",
   "metadata": {
    "slideshow": {
     "slide_type": "slide"
    }
   },
   "source": [
    "## Third Normal Form (3NF)\n",
    "A table is said to be in the Third Normal Form when,\n",
    "-  is in the Second Normal Form.\n",
    "- and, it doesn't have Transitive Dependency."
   ]
  },
  {
   "cell_type": "markdown",
   "metadata": {
    "slideshow": {
     "slide_type": "subslide"
    }
   },
   "source": [
    "## Boyce and Codd Normal Form\n",
    "\n",
    "Values in a record that are not part of that record's key do not belong in the table. In general, anytime the contents of a group of fields may apply to more than a single record in the table, consider placing those fields in a separate table. \n",
    "\n",
    "For a table to be in BCNF, following conditions must be satisfied\n",
    "- Is in the Third Normal Form.\n",
    "- And, for any dependency A → B, A should be a super key."
   ]
  },
  {
   "cell_type": "markdown",
   "metadata": {
    "slideshow": {
     "slide_type": "subslide"
    }
   },
   "source": [
    "## Translators\n",
    "| id \t| translator_name \t| translator_surname \t|\n",
    "|:--:\t|:---------------:\t|:------------------:\t|\n",
    "|  1 \t|    Stanisław    \t|      Barańczak     \t|\n",
    "|  2 \t|    François     \t|      Guizot        \t|\n",
    "|  3 \t|     J. T.       \t|        Jonse       \t|\n",
    "|  4 \t|     D. J.       \t|       Thomas       \t|\n",
    "|  5 \t|     W. J.       \t|      Gruffydd      \t|\n",
    "|  6 \t|     Joanna      \t|        Guze        \t|\n",
    "|  7 \t|      Hamish     \t|      Hamilton      \t|\n",
    "|  8 \t|      B. Dal     \t|       Fabbro       \t|"
   ]
  },
  {
   "cell_type": "markdown",
   "metadata": {
    "slideshow": {
     "slide_type": "subslide"
    }
   },
   "source": [
    "## Languges\n",
    "| id \t|  languge \t|\n",
    "|:--:\t|:--------:\t|\n",
    "|  1 \t|  english \t|\n",
    "|  2 \t|  french  \t|\n",
    "|  3 \t|   welsh  \t|\n",
    "|  4 \t|  polish  \t|\n",
    "|  5 \t| italiano \t|"
   ]
  },
  {
   "cell_type": "markdown",
   "metadata": {
    "slideshow": {
     "slide_type": "subslide"
    }
   },
   "source": [
    "## Translations\n",
    "| id \t| id_book \t| translation_language \t| translator_id \t| translation_date \t|\n",
    "|:--:\t|:-------:\t|:--------------------:\t|---------------\t|:----------------:\t|\n",
    "|  1 \t|    1    \t|           1          \t| 1             \t|       1990       \t|\n",
    "|  2 \t|    1    \t|           2          \t| 2             \t|       1830       \t|\n",
    "|  3 \t|    1    \t|           3          \t| 3             \t|       1960       \t|\n",
    "|  4 \t|    2    \t|           4          \t| 1             \t|       1991       \t|\n",
    "|  5 \t|    2    \t|           2          \t| 2             \t|       1831       \t|\n",
    "|  6 \t|    2    \t|           3          \t| 4             \t|       1949       \t|\n",
    "|  7 \t|    2    \t|           3          \t| 5             \t|       1949       \t|\n",
    "|  8 \t|    3    \t|           4          \t| 6             \t|       1997       \t|\n",
    "|  9 \t|    3    \t|           1          \t| 7             \t|       1948       \t|\n",
    "| 10 \t|    3    \t|           5          \t| 8             \t|       2019       \t|"
   ]
  }
 ],
 "metadata": {
  "celltoolbar": "Slideshow",
  "jupytext": {
   "formats": "ipynb"
  },
  "kernelspec": {
   "display_name": "Python 3",
   "language": "python",
   "name": "python3"
  },
  "language_info": {
   "codemirror_mode": {
    "name": "ipython",
    "version": 3
   },
   "file_extension": ".py",
   "mimetype": "text/x-python",
   "name": "python",
   "nbconvert_exporter": "python",
   "pygments_lexer": "ipython3",
   "version": "3.7.4"
  },
  "rise": {
   "autolaunch": true,
   "backimage": "img/tlo_agh.png"
  }
 },
 "nbformat": 4,
 "nbformat_minor": 2
}
