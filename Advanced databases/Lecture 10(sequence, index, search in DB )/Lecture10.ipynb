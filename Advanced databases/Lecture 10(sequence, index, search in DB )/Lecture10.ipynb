{
 "cells": [
  {
   "cell_type": "markdown",
   "metadata": {
    "collapsed": true,
    "slideshow": {
     "slide_type": "slide"
    }
   },
   "source": [
    "# Advanced databases\n",
    "\n",
    "## Sequence, index, search in DB \n",
    "### dr  inż. Waldemar Bauer"
   ]
  },
  {
   "cell_type": "markdown",
   "metadata": {
    "slideshow": {
     "slide_type": "slide"
    }
   },
   "source": [
    "## Sequences\n",
    "\n",
    "Sequence is a user-defined automatic way of generating subsequent numbers\n",
    "\n",
    "```sql\n",
    "CREATE SEQUENCE [ IF NOT EXISTS ] sequence_name\n",
    "    [ AS { SMALLINT | INT | BIGINT } ]\n",
    "    [ INCREMENT [ BY ] increment ]\n",
    "    [ MINVALUE minvalue | NO MINVALUE ] \n",
    "    [ MAXVALUE maxvalue | NO MAXVALUE ]\n",
    "    [ START [ WITH ] start ] \n",
    "    [ CACHE cache ] \n",
    "    [ [ NO ] CYCLE ]\n",
    "    [ OWNED BY { table_name.column_name | NONE } ]\n",
    "```"
   ]
  },
  {
   "cell_type": "markdown",
   "metadata": {
    "slideshow": {
     "slide_type": "subslide"
    }
   },
   "source": [
    "## Sequence examples\n",
    "\n",
    "**Example 1**:\n",
    "```sql\n",
    "CREATE SEQUENCE seq_lec1\n",
    "INCREMENT 50\n",
    "MAXVALUE 300\n",
    "START 200;\n",
    "```\n",
    "\n",
    "**Example 2**:\n",
    "```sql\n",
    "CREATE SEQUENCE seq_lec2\n",
    "INCREMENT -3\n",
    "MINVALUE 0 \n",
    "MAXVALUE 10\n",
    "START 10\n",
    "CYCLE;\n",
    "```\n",
    "\n",
    "**Get next value**\n",
    "```sql\n",
    "select nextval('sequence_name');\n",
    "```"
   ]
  },
  {
   "cell_type": "markdown",
   "metadata": {
    "slideshow": {
     "slide_type": "subslide"
    }
   },
   "source": [
    "## Add sequence to table\n",
    "\n",
    "```sql\n",
    "CREATE SEQUENCE ex_table_id_seq;\n",
    "\n",
    "CREATE TABLE ex_table (\n",
    "    id integer DEFAULT nextval('ex_table_id_seq'),\n",
    "    name varchar\n",
    ");\n",
    "```"
   ]
  },
  {
   "cell_type": "markdown",
   "metadata": {
    "slideshow": {
     "slide_type": "subslide"
    }
   },
   "source": [
    "## Drop sequence\n",
    "```sql\n",
    "DROP SEQUENCE [ IF EXISTS ] name [, ...] [ CASCADE | RESTRICT ]\n",
    "```"
   ]
  },
  {
   "cell_type": "markdown",
   "metadata": {
    "slideshow": {
     "slide_type": "slide"
    }
   },
   "source": [
    "## SERIAL \n",
    "\n",
    "- is pseudo-type\n",
    "- automatically creates sequences\n",
    "\n",
    "**Create SERIAL**\n",
    "```sql\n",
    "CREATE TABLE table_name(\n",
    "    id SERIAL\n",
    "    );\n",
    "```"
   ]
  },
  {
   "cell_type": "markdown",
   "metadata": {
    "slideshow": {
     "slide_type": "subslide"
    }
   },
   "source": [
    "## SERIAL Exampel \n",
    "```sql\n",
    "CREATE TABLE ex2_table(\n",
    "    id {SMALLSERIAL, SERIAL, BIGSERIAL} [constraint],\n",
    "    name varchar\n",
    ");\n",
    "```\n",
    "is \n",
    "\n",
    "\n",
    "```sql\n",
    "CREATE SEQUENCE ex2_table_id_seq;\n",
    "\n",
    "CREATE TABLE ex2_table (\n",
    "    id integer DEFAULT nextval('ex2_table_id_seq'),\n",
    "    name varchar\n",
    ");\n",
    "```"
   ]
  },
  {
   "cell_type": "markdown",
   "metadata": {
    "slideshow": {
     "slide_type": "slide"
    }
   },
   "source": [
    "## Comaprison SERIAL and SEQUENCE \n",
    "- Sequence has more setting options\n",
    "- Series is easier to define\n",
    "\n",
    "| Data type   \t| Storeg size \t| Range                                       \t|\n",
    "|-------------\t|-------------\t|---------------------------------------------\t|\n",
    "| smallint    \t| 2 bytes     \t| -32768 to +32767                            \t|\n",
    "| integer     \t| 4 bytes     \t| -2147483648 to +2147483647                  \t|\n",
    "| bigint      \t| 8 bytes     \t| -9223372036854775808 to 9223372036854775807 \t|\n",
    "| smallserial \t| 2 bytes     \t| 1 to 32767                                  \t|\n",
    "| serial      \t| 4 bytes     \t| 1 to 2147483647                             \t|\n",
    "| bigserial   \t| 8 bytes     \t| 1 to 9223372036854775807                    \t|\n"
   ]
  },
  {
   "cell_type": "markdown",
   "metadata": {
    "slideshow": {
     "slide_type": "slide"
    }
   },
   "source": [
    "## INDEX\n",
    "\n",
    "- special lookup tables to speed up database searches\n",
    "- a pointer to data in a table\n",
    "- indexes can also be unique\n",
    "\n",
    "```sql\n",
    "CREATE [UNIQUE] INDEX  index_name  ON table_name \n",
    "[USING method]\n",
    "(\n",
    "    column_name [ASC | DESC] [NULLS {FIRST | LAST }],\n",
    "    ...\n",
    "    expresion\n",
    ")\n",
    "[WHERE condition];\n",
    "```\n",
    "\n",
    "```sql\n",
    "DROP INDEX  [ CONCURRENTLY] [ IF EXISTS ]  index_name  [ CASCADE | RESTRICT ];\n",
    "```"
   ]
  },
  {
   "cell_type": "markdown",
   "metadata": {
    "slideshow": {
     "slide_type": "subslide"
    }
   },
   "source": [
    "## Index example\n",
    "\n",
    "```sql\n",
    "EXPLAIN SELECT\n",
    "    *\n",
    "FROM\n",
    "    city\n",
    "WHERE\n",
    "    name = 'Yerevan';\n",
    "\n",
    "CREATE INDEX idx_city_city \n",
    "ON city(city);\n",
    "\n",
    "\n",
    "EXPLAIN SELECT\n",
    "    *\n",
    "FROM\n",
    "    city\n",
    "WHERE\n",
    "    name = 'Yerevan';\n",
    "```\n"
   ]
  },
  {
   "cell_type": "markdown",
   "metadata": {
    "slideshow": {
     "slide_type": "subslide"
    }
   },
   "source": [
    "## Index type (method)\n",
    "\n",
    "1. **B-tree indexes** - self-balancing tree that maintains sorted data and allows searches, insertions, deletions, and sequential access in logarithmic time. Index może porownywać operatorami `=,<,>,BETWEEN, IN, IS NULL, IS NOT NULL, Like, similar to`\n",
    "2. **Hash index** - an index based on hash tables, it can only compare values with `=`\n",
    "3. **GIN indexes** -  **Generalized inverted indexes**, is usefull if we have multiple values stored in one columns.\n",
    "4. **BRIN** - **Block Range Indexes** - is smaller and less costly to maintain in comparison to a B-tree, but to fast work needed  ordering of the key values follows the organization of blocks in the storage layer.  \n",
    "5. **GiST** - **Generalized Search Tree** - indexes are useful in indexing geometric data types and full-text search.\n",
    "6. **SP-GiST Indexes** - index to data with natural clastering elements, like , GIS, multimedia, phone routing, and IP routing."
   ]
  },
  {
   "cell_type": "code",
   "execution_count": null,
   "metadata": {},
   "outputs": [],
   "source": []
  }
 ],
 "metadata": {
  "celltoolbar": "Slideshow",
  "jupytext": {
   "formats": "ipynb"
  },
  "kernelspec": {
   "display_name": "Python 3",
   "language": "python",
   "name": "python3"
  },
  "language_info": {
   "codemirror_mode": {
    "name": "ipython",
    "version": 3
   },
   "file_extension": ".py",
   "mimetype": "text/x-python",
   "name": "python",
   "nbconvert_exporter": "python",
   "pygments_lexer": "ipython3",
   "version": "3.7.6"
  },
  "rise": {
   "autolaunch": true,
   "backimage": "img/tlo_agh.png"
  }
 },
 "nbformat": 4,
 "nbformat_minor": 2
}
