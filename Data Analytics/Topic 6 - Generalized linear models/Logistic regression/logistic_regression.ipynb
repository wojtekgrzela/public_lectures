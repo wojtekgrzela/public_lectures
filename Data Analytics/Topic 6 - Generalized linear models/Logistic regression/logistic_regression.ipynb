{
 "cells": [
  {
   "cell_type": "markdown",
   "metadata": {},
   "source": [
    "# Logistic regression"
   ]
  },
  {
   "cell_type": "code",
   "execution_count": null,
   "metadata": {},
   "outputs": [],
   "source": [
    "import sys\n",
    "sys.path.append('../../Utilities/src')\n",
    "sys.path.append('../../Utilities')\n",
    "\n",
    "import pystan\n",
    "import stan_utility\n",
    "\n",
    "import arviz as az\n",
    "import numpy as np\n",
    "import scipy.stats as stats\n",
    "\n",
    "import pandas as pd\n"
   ]
  },
  {
   "cell_type": "code",
   "execution_count": null,
   "metadata": {},
   "outputs": [],
   "source": [
    "import matplotlib.pyplot as plt\n",
    "import matplotlib as mpl\n",
    "plt.style.context('seaborn-white')\n",
    "mpl.rcParams['figure.dpi']= 200"
   ]
  },
  {
   "cell_type": "code",
   "execution_count": null,
   "metadata": {},
   "outputs": [],
   "source": [
    "from DA_tools.DA_tools import ribbon_plot\n",
    "from DA_tools.DA_colors import *\n"
   ]
  },
  {
   "cell_type": "code",
   "execution_count": null,
   "metadata": {},
   "outputs": [],
   "source": [
    "data = pd.read_csv('log_reg_data.csv',index_col=0)"
   ]
  },
  {
   "cell_type": "code",
   "execution_count": null,
   "metadata": {},
   "outputs": [],
   "source": [
    "data.head()"
   ]
  },
  {
   "cell_type": "code",
   "execution_count": null,
   "metadata": {},
   "outputs": [],
   "source": [
    "data.describe()"
   ]
  },
  {
   "cell_type": "markdown",
   "metadata": {},
   "source": [
    "### Prior selection\n"
   ]
  },
  {
   "cell_type": "code",
   "execution_count": null,
   "metadata": {},
   "outputs": [],
   "source": [
    "with open('logistic_regression_ppc.stan', 'r') as file:\n",
    "    print(file.read())\n",
    "model_ppc1 = stan_utility.compile_model('logistic_regression_ppc.stan')"
   ]
  },
  {
   "cell_type": "code",
   "execution_count": null,
   "metadata": {},
   "outputs": [],
   "source": [
    "with open('logistic_regression_ppc2.stan', 'r') as file:\n",
    "    print(file.read())\n",
    "model_ppc2 = stan_utility.compile_model('logistic_regression_ppc2.stan')"
   ]
  },
  {
   "cell_type": "code",
   "execution_count": null,
   "metadata": {},
   "outputs": [],
   "source": [
    "R=1000\n",
    "data_ppc= dict(N = data.shape[0],\n",
    "                 M = 5,\n",
    "                 X = data.iloc[:,0:5],\n",
    "                 sigma=10)\n",
    "sim_ppc1=model_ppc1.sampling(data=data_ppc, \n",
    "                           iter=R, warmup=0, \n",
    "                           chains=1, \n",
    "                           refresh=R,\n",
    "                           algorithm='Fixed_param',\n",
    "                           seed=29042020)\n",
    "sim_ppc2=model_ppc2.sampling(data=data_ppc, \n",
    "                           iter=R, warmup=0, \n",
    "                           chains=1, \n",
    "                           refresh=R,\n",
    "                           algorithm='Fixed_param',\n",
    "                           seed=29042020)"
   ]
  },
  {
   "cell_type": "code",
   "execution_count": null,
   "metadata": {},
   "outputs": [],
   "source": [
    "fig, axes = plt.subplots(3, 2, figsize=(7, 6),sharex=True)\n",
    "sigmas=[10,2,0.75]\n",
    "for k in range(3):\n",
    "    data_ppc['sigma']=sigmas[k]\n",
    "    sim_ppc1=model_ppc1.sampling(data=data_ppc, \n",
    "                           iter=R, warmup=0, \n",
    "                           chains=1, \n",
    "                           refresh=R,\n",
    "                           algorithm='Fixed_param',\n",
    "                           seed=29042020)\n",
    "    sim_ppc2=model_ppc2.sampling(data=data_ppc, \n",
    "                           iter=R, warmup=0, \n",
    "                           chains=1, \n",
    "                           refresh=R,\n",
    "                           algorithm='Fixed_param',\n",
    "                           seed=29042020)\n",
    "    axes[k,0].hist(sim_ppc1.extract()['prob_ppc'].flatten(),bins=100,color=DARK,edgecolor=DARK_HIGHLIGHT,density=True)\n",
    "    axes[k,0].set_yticks([])\n",
    "    axes[k,0].set_title(r'$\\beta\\sim Normal(0,{})$'.format(sigmas[k]))    \n",
    "    axes[k,1].hist(sim_ppc2.extract()['prob_ppc'].flatten(),bins=100,color=DARK,edgecolor=DARK_HIGHLIGHT,density=True)\n",
    "    axes[k,1].set_yticks([])\n",
    "    axes[k,1].set_title(r'$\\beta\\sim t_5(0,{})$'.format(sigmas[k]))\n",
    "axes[2,0].set_xlabel(r'$\\theta$')\n",
    "axes[2,1].set_xlabel(r'$\\theta$')\n",
    "\n",
    "fig.tight_layout()\n",
    "plt.show()"
   ]
  },
  {
   "cell_type": "markdown",
   "metadata": {},
   "source": [
    "### Posterior inference and simulation"
   ]
  },
  {
   "cell_type": "code",
   "execution_count": null,
   "metadata": {},
   "outputs": [],
   "source": [
    "with open('logistic_regression.stan', 'r') as file:\n",
    "    print(file.read())"
   ]
  },
  {
   "cell_type": "code",
   "execution_count": null,
   "metadata": {},
   "outputs": [],
   "source": [
    "model = stan_utility.compile_model('logistic_regression.stan')"
   ]
  },
  {
   "cell_type": "code",
   "execution_count": null,
   "metadata": {},
   "outputs": [],
   "source": [
    "data_dict = dict(N = data.shape[0],\n",
    "                 M = 5,\n",
    "                 X = data.iloc[:,0:5],\n",
    "                 y = data.y.values,\n",
    "                 N_hand = 2,\n",
    "                 hand = data.hand)\n",
    "fit = model.sampling(data=data_dict, seed=4938483)"
   ]
  },
  {
   "cell_type": "code",
   "execution_count": null,
   "metadata": {},
   "outputs": [],
   "source": [
    "params1 = fit.extract()\n",
    "pars_mat=np.concatenate((params1['beta'],np.expand_dims(params1['alpha'],axis=1)),axis=1)"
   ]
  },
  {
   "cell_type": "code",
   "execution_count": null,
   "metadata": {},
   "outputs": [],
   "source": [
    "fig, axes = plt.subplots(2, 3, figsize=(7, 6))\n",
    "axes_flat=axes.flatten()\n",
    "names_of_pars = [r'$\\beta_1$',r'$\\beta_2$',r'$\\beta_3$',r'$\\beta_4$',r'$\\beta_5$',r'$\\alpha$']\n",
    "for k in range(len(axes_flat)):\n",
    "    ax = axes_flat[k]\n",
    "    ax.hist(pars_mat[:,k],bins=20,color=DARK,edgecolor=DARK_HIGHLIGHT,density=True)\n",
    "    ax.set_title(names_of_pars[k])\n",
    "    ax.set_yticks([])\n",
    "fig.tight_layout()\n",
    "\n",
    "plt.show()"
   ]
  },
  {
   "cell_type": "markdown",
   "metadata": {},
   "source": [
    "### Estimation of group parameters"
   ]
  },
  {
   "cell_type": "code",
   "execution_count": null,
   "metadata": {},
   "outputs": [],
   "source": [
    "counts = len(data['y'])\n",
    "bin_delta = 1.0 / counts\n",
    "bins = np.arange(0 - 0.5 * bin_delta, 1 + 1.5 * bin_delta, bin_delta)\n",
    "\n"
   ]
  },
  {
   "cell_type": "code",
   "execution_count": null,
   "metadata": {},
   "outputs": [],
   "source": [
    "fig, axes = plt.subplots(1, 3, figsize=(7, 3))\n",
    "ax1=axes[0]\n",
    "group_mean = data.y.mean()\n",
    "h_counts = ax1.hist(params1['p_hat_ppc'],bins=bins,color=DARK,edgecolor=DARK_HIGHLIGHT,density=True,zorder=0)\n",
    "y_max = np.max(h_counts[0])\n",
    "ax1.vlines(group_mean,0,y_max+1,color='black',linestyle='--',linewidth=1.5,zorder=2)\n",
    "ax1.set_title(\"Aggregate PPC\")\n",
    "ax1.set_xlim([-bin_delta, 1 + bin_delta])\n",
    "ax1.set_ylim([0, y_max + 1])\n",
    "ax1.set_xticks([0,group_mean,1])\n",
    "ax1.set_xticklabels([0,'{0:1.2f}'.format(group_mean),1])\n",
    "ax1.set_yticks([])\n",
    "\n",
    "ax2=axes[1]\n",
    "left_mean = data[data.hand==1].y.mean()\n",
    "h_counts = ax2.hist(params1['p_hat_left_ppc'],bins=bins,color=DARK,edgecolor=DARK_HIGHLIGHT,density=True,zorder=0)\n",
    "y_max = np.max(h_counts[0])\n",
    "ax2.vlines(left_mean,0,y_max+1,color='black',linestyle='--',linewidth=1.5,zorder=2)\n",
    "ax2.set_title(\"Left PPC\")\n",
    "ax2.set_xlim([-bin_delta, 1 + bin_delta])\n",
    "ax2.set_ylim([0, y_max + 1])\n",
    "ax2.set_xticks([0,left_mean,1])\n",
    "ax2.set_xticklabels([0,'{0:1.2f}'.format(left_mean),1])\n",
    "ax2.set_yticks([])\n",
    "\n",
    "\n",
    "ax3=axes[2]\n",
    "right_mean = data[data.hand==2].y.mean()\n",
    "h_counts = ax3.hist(params1['p_hat_right_ppc'],bins=bins,color=DARK,edgecolor=DARK_HIGHLIGHT,density=True,zorder=0)\n",
    "y_max = np.max(h_counts[0])\n",
    "ax3.vlines(right_mean,0,y_max+1,color='black',linestyle='--',linewidth=1.5,zorder=2)\n",
    "ax3.set_title(\"Right PPC\")\n",
    "ax3.set_xlim([-bin_delta, 1 + bin_delta])\n",
    "ax3.set_ylim([0, y_max + 1])\n",
    "ax3.set_xticks([0,right_mean,1])\n",
    "ax3.set_xticklabels([0,'{0:1.2f}'.format(right_mean),1])\n",
    "\n",
    "ax3.set_yticks([])\n",
    "\n",
    "fig.tight_layout()\n",
    "\n",
    "plt.show()"
   ]
  },
  {
   "cell_type": "markdown",
   "metadata": {},
   "source": [
    "### Individual predictions"
   ]
  },
  {
   "cell_type": "code",
   "execution_count": null,
   "metadata": {},
   "outputs": [],
   "source": [
    "med_prob_ppc = np.percentile(params1['prob_ppc'],[25,50,75],axis=0)\n",
    "estimate_ppc_df = pd.DataFrame(med_prob_ppc.T,columns = ['lo','med','hi'])\n",
    "estimate_ppc_df['y'] = data.y\n",
    "estimate_ppc_df.sort_values(by='med',inplace=True)\n",
    "estimate_ppc_df\n",
    "\n",
    "error_bar=np.array((\n",
    "                    (estimate_ppc_df['med']-estimate_ppc_df['lo']).values,\n",
    "                    (estimate_ppc_df['hi']-estimate_ppc_df['med']).values))\n"
   ]
  },
  {
   "cell_type": "code",
   "execution_count": null,
   "metadata": {},
   "outputs": [],
   "source": [
    "fig, axes = plt.subplots(1,1, figsize=(7, 4),sharex=True)\n",
    "\n",
    "axes.scatter([*range(500)],estimate_ppc_df.med,marker='.',c=[(1.*k,1.*k,1.*k) for k in estimate_ppc_df.y])\n",
    "axes.errorbar([*range(500)],estimate_ppc_df.med,yerr=error_bar,fmt='none',zorder=0,ecolor=DARK)\n",
    "axes.set_title('Probability of individual outcome is not well captured')\n",
    "axes.set_ylabel(r'$\\theta_i$',rotation=0)\n",
    "axes.set_yticks([estimate_ppc_df['lo'].min(),estimate_ppc_df['hi'].max()])\n",
    "axes.set_yticklabels(['{0:1.2}'.format(estimate_ppc_df['lo'].min()),'{0:1.2}'.format(estimate_ppc_df['hi'].max())])\n",
    "axes.set_xlabel('i (sorted)')\n",
    "plt.show()"
   ]
  },
  {
   "cell_type": "markdown",
   "metadata": {},
   "source": [
    "### Introduction of grouping"
   ]
  },
  {
   "cell_type": "code",
   "execution_count": null,
   "metadata": {},
   "outputs": [],
   "source": [
    "with open('grouped_logistic_regression.stan', 'r') as file:\n",
    "    print(file.read())\n",
    "model2 = stan_utility.compile_model('grouped_logistic_regression.stan')"
   ]
  },
  {
   "cell_type": "code",
   "execution_count": null,
   "metadata": {},
   "outputs": [],
   "source": [
    "fit2 = model2.sampling(data=data_dict, seed=4938483)"
   ]
  },
  {
   "cell_type": "code",
   "execution_count": null,
   "metadata": {},
   "outputs": [],
   "source": [
    "params2 = fit2.extract()\n",
    "pars_mat2=np.concatenate((params2['beta'],params2['alpha']),axis=1)\n",
    "\n"
   ]
  },
  {
   "cell_type": "code",
   "execution_count": null,
   "metadata": {},
   "outputs": [],
   "source": [
    "fig, axes = plt.subplots(3, 3, figsize=(7, 6))\n",
    "axes_flat = axes.flatten()\n",
    "axes_sort = np.concatenate((axes_flat[:5],axes_flat[6:8]))\n",
    "names_of_pars = [r'$\\beta_1$',r'$\\beta_2$',r'$\\beta_3$',r'$\\beta_4$',r'$\\beta_5$',r'$\\alpha_\\mathrm{left}$', r'$\\alpha_\\mathrm{right}$']\n",
    "for k in range(pars_mat2.shape[1]):\n",
    "    ax = axes_sort[k]\n",
    "    ax.hist(pars_mat2[:,k],bins=20,color=DARK,edgecolor=DARK_HIGHLIGHT,density=True)\n",
    "    ax.set_title(names_of_pars[k])\n",
    "    ax.set_yticks([])\n",
    "fig.delaxes(axes[1,2])\n",
    "fig.delaxes(axes[2,2])\n",
    "\n",
    "fig.tight_layout()\n",
    "\n",
    "plt.show()"
   ]
  },
  {
   "cell_type": "code",
   "execution_count": null,
   "metadata": {},
   "outputs": [],
   "source": [
    "fig, axes = plt.subplots(1, 3, figsize=(7, 3))\n",
    "ax1=axes[0]\n",
    "group_mean = data.y.mean()\n",
    "h_counts = ax1.hist(params2['p_hat_ppc'],bins=bins,color=DARK,edgecolor=DARK_HIGHLIGHT,density=True,zorder=0)\n",
    "y_max = np.max(h_counts[0])\n",
    "ax1.vlines(group_mean,0,y_max+1,color='black',linestyle='--',linewidth=1.5,zorder=2)\n",
    "ax1.set_title(\"Aggregate PPC\")\n",
    "ax1.set_xlim([-bin_delta, 1 + bin_delta])\n",
    "ax1.set_ylim([0, y_max + 1])\n",
    "ax1.set_xticks([0,group_mean,1])\n",
    "ax1.set_xticklabels([0,'{0:1.2f}'.format(group_mean),1])\n",
    "ax1.set_yticks([])\n",
    "\n",
    "ax2=axes[1]\n",
    "left_mean = data[data.hand==1].y.mean()\n",
    "h_counts = ax2.hist(params2['p_hat_left_ppc'],bins=bins,color=DARK,edgecolor=DARK_HIGHLIGHT,density=True,zorder=0)\n",
    "y_max = np.max(h_counts[0])\n",
    "ax2.vlines(left_mean,0,y_max+1,color='black',linestyle='--',linewidth=1.5,zorder=2)\n",
    "ax2.set_title(\"Left PPC\")\n",
    "ax2.set_xlim([-bin_delta, 1 + bin_delta])\n",
    "ax2.set_ylim([0, y_max + 1])\n",
    "ax2.set_xticks([0,left_mean,1])\n",
    "ax2.set_xticklabels([0,'{0:1.2f}'.format(left_mean),1])\n",
    "ax2.set_yticks([])\n",
    "\n",
    "\n",
    "ax3=axes[2]\n",
    "right_mean = data[data.hand==2].y.mean()\n",
    "h_counts = ax3.hist(params2['p_hat_right_ppc'],bins=bins,color=DARK,edgecolor=DARK_HIGHLIGHT,density=True,zorder=0)\n",
    "y_max = np.max(h_counts[0])\n",
    "ax3.vlines(right_mean,0,y_max+1,color='black',linestyle='--',linewidth=1.5,zorder=2)\n",
    "ax3.set_title(\"Right PPC\")\n",
    "ax3.set_xlim([-bin_delta, 1 + bin_delta])\n",
    "ax3.set_ylim([0, y_max + 1])\n",
    "ax3.set_xticks([0,right_mean,1])\n",
    "ax3.set_xticklabels([0,'{0:1.2f}'.format(right_mean),1])\n",
    "\n",
    "ax3.set_yticks([])\n",
    "\n",
    "fig.tight_layout()\n",
    "\n",
    "plt.show()"
   ]
  },
  {
   "cell_type": "code",
   "execution_count": null,
   "metadata": {},
   "outputs": [],
   "source": [
    "med_prob_ppc = np.percentile(params2['prob_ppc'],[25,50,75],axis=0)\n",
    "estimate_ppc_df = pd.DataFrame(med_prob_ppc.T,columns = ['lo','med','hi'])\n",
    "estimate_ppc_df['y'] = data.y\n",
    "estimate_ppc_df.sort_values(by='med',inplace=True)\n",
    "estimate_ppc_df\n",
    "\n",
    "error_bar=np.array((\n",
    "                    (estimate_ppc_df['med']-estimate_ppc_df['lo']).values,\n",
    "                    (estimate_ppc_df['hi']-estimate_ppc_df['med']).values))\n"
   ]
  },
  {
   "cell_type": "code",
   "execution_count": null,
   "metadata": {},
   "outputs": [],
   "source": [
    "#plt.scatter([*range(500)],estimate_ppc_df.med,marker='.',c=[(1.*k,1.*k,1.*k) for k in estimate_ppc_df.y])\n",
    "#plt.errorbar([*range(500)],estimate_ppc_df.med,yerr=error_bar,fmt='none',zorder=0,ecolor=DARK)\n",
    "\n",
    "\n",
    "fig, axes = plt.subplots(1,1, figsize=(7, 4),sharex=True)\n",
    "\n",
    "axes.scatter([*range(500)],estimate_ppc_df.med,marker='.',c=[(1.*k,1.*k,1.*k) for k in estimate_ppc_df.y])\n",
    "axes.errorbar([*range(500)],estimate_ppc_df.med,yerr=error_bar,fmt='none',zorder=0,ecolor=DARK)\n",
    "axes.set_title('Grouping by handness improves individual predictions')\n",
    "axes.set_ylabel(r'$\\theta_i$',rotation=0)\n",
    "axes.set_yticks([estimate_ppc_df['lo'].min(),.37,estimate_ppc_df['hi'].max()])\n",
    "axes.set_yticklabels(['{0:1.2}'.format(estimate_ppc_df['lo'].min()),'0.37','{0:1.2}'.format(estimate_ppc_df['hi'].max())])\n",
    "axes.set_xlabel('i (sorted)')\n",
    "plt.show()"
   ]
  }
 ],
 "metadata": {
  "kernelspec": {
   "display_name": "Python 3",
   "language": "python",
   "name": "python3"
  },
  "language_info": {
   "codemirror_mode": {
    "name": "ipython",
    "version": 3
   },
   "file_extension": ".py",
   "mimetype": "text/x-python",
   "name": "python",
   "nbconvert_exporter": "python",
   "pygments_lexer": "ipython3",
   "version": "3.7.7"
  }
 },
 "nbformat": 4,
 "nbformat_minor": 4
}
