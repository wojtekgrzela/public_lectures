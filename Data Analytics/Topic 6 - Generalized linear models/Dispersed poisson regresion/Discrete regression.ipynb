{
 "cells": [
  {
   "cell_type": "markdown",
   "metadata": {},
   "source": [
    "### Discrete regression"
   ]
  },
  {
   "cell_type": "code",
   "execution_count": null,
   "metadata": {},
   "outputs": [],
   "source": [
    "import sys\n",
    "sys.path.append('../../Utilities/src')\n",
    "sys.path.append('../../Utilities')\n",
    "\n",
    "import pystan\n",
    "import stan_utility\n",
    "\n",
    "import arviz as az\n",
    "import numpy as np\n",
    "import scipy.stats as stats\n",
    "\n",
    "import pandas as pd\n"
   ]
  },
  {
   "cell_type": "code",
   "execution_count": null,
   "metadata": {},
   "outputs": [],
   "source": [
    "import matplotlib.pyplot as plt\n",
    "import matplotlib as mpl\n",
    "plt.style.context('seaborn-white')\n",
    "mpl.rcParams['figure.dpi']= 200"
   ]
  },
  {
   "cell_type": "code",
   "execution_count": null,
   "metadata": {},
   "outputs": [],
   "source": [
    "from DA_tools.DA_tools import ribbon_plot\n",
    "from DA_tools.DA_colors import *\n"
   ]
  },
  {
   "cell_type": "code",
   "execution_count": null,
   "metadata": {},
   "outputs": [],
   "source": [
    "def integer_histogram_matrix(max_y,y_ppc):\n",
    "    if len(y_ppc.shape)==1:\n",
    "        y_ppc=np.expand_dims(y_ppc,axis=0)\n",
    "    B=max_y+1\n",
    "    bins = np.array([*range(B+1)])-0.5\n",
    "    counts = [np.histogram(y_ppc[n], bins=bins)[0] for n in range(y_ppc.shape[0])]\n",
    "    return bins, np.array(counts)\n",
    "\n",
    "def pad_hist_for_plot(bins,counts):\n",
    "    if len(counts.shape)==1:\n",
    "        ax=0\n",
    "    else: ax=1\n",
    "        \n",
    "    xs = (np.repeat(bins,repeats=2))[1:-1]\n",
    "    pad_counts = np.repeat(counts,repeats=2,axis=ax)\n",
    "    return xs, pad_counts"
   ]
  },
  {
   "cell_type": "code",
   "execution_count": null,
   "metadata": {},
   "outputs": [],
   "source": [
    "df = pd.read_csv('discrete_regression_data.csv',index_col=0)"
   ]
  },
  {
   "cell_type": "code",
   "execution_count": null,
   "metadata": {},
   "outputs": [],
   "source": [
    "df.describe()"
   ]
  },
  {
   "cell_type": "markdown",
   "metadata": {},
   "source": [
    "### Prior predictive checks"
   ]
  },
  {
   "cell_type": "code",
   "execution_count": null,
   "metadata": {},
   "outputs": [],
   "source": [
    "with open('poisson_ppc.stan', 'r') as file:\n",
    "    print(file.read())\n",
    "model_ppc = stan_utility.compile_model('poisson_ppc.stan')\n"
   ]
  },
  {
   "cell_type": "code",
   "execution_count": null,
   "metadata": {},
   "outputs": [],
   "source": [
    "data_ppc = dict(M=3, N=1000,X=df.loc[:,'x_1':'x_3'].values,sigma=10)\n",
    "\n",
    "\n",
    "R = 1000\n",
    "sim_ppc=model_ppc.sampling(data=data_ppc, \n",
    "                           iter=R, warmup=0, \n",
    "                           chains=1, \n",
    "                           refresh=R,\n",
    "                           algorithm='Fixed_param',\n",
    "                           seed=29042020)"
   ]
  },
  {
   "cell_type": "markdown",
   "metadata": {},
   "source": [
    "#### Exception warning\n",
    "Setting too high $\\sigma$ in priors results in following exceptions\n",
    "\n",
    "```\n",
    "Exception: poisson_log_rng: Log rate parameter[1] is 22.5551, but must be less than 20.7944  (in 'unknown file name' at line 17)\n",
    "\n",
    "Exception: poisson_log_rng: Log rate parameter[13] is 22.6184, but must be less than 20.7944  (in 'unknown file name' at line 17)\n",
    "\n",
    "Exception: poisson_log_rng: Log rate parameter[1] is 27.0051, but must be less than 20.7944  (in 'unknown file name' at line 17)\n",
    "\n",
    "Exception: poisson_log_rng: Log rate parameter[16] is 25.1868, but must be less than 20.7944  (in 'unknown file name' at line 17)\n",
    "\n",
    "Exception: poisson_log_rng: Log rate parameter[9] is 25.1681, but must be less than 20.7944  (in 'unknown file name' at line 17)\n",
    "\n",
    "Exception: poisson_log_rng: Log rate parameter[8] is 26.3585, but must be less than 20.7944  (in 'unknown file name' at line 17)\n",
    "\n",
    "Exception: poisson_log_rng: Log rate parameter[2] is 21.3792, but must be less than 20.7944  (in 'unknown file name' at line 17)\n",
    "\n",
    "Exception: poisson_log_rng: Log rate parameter[13] is 23.3107, but must be less than 20.7944  (in 'unknown file name' at line 17)\n",
    "\n",
    "Exception: poisson_log_rng: Log rate parameter[9] is 27.6798, but must be less than 20.7944  (in 'unknown file name' at line 17)\n",
    "\n",
    "Exception: poisson_log_rng: Log rate parameter[9] is 22.5301, but must be less than 20.7944  (in 'unknown file name' at line 17)\n",
    "```"
   ]
  },
  {
   "cell_type": "markdown",
   "metadata": {},
   "source": [
    "#### What is going on?\n",
    "\n",
    "```poisson_log_rng ``` and consequently ```poison_log``` are operating as Poisson distribution in the form\n",
    "$$\n",
    "y\\sim\\mathrm{Poisson}(\\exp(\\theta))\n",
    "$$\n",
    "where $\\theta$ is the parametr of interest. And what is the interpretation of this parameter value of ```20.7944```? It is the rate of Poisson distribution:\n"
   ]
  },
  {
   "cell_type": "code",
   "execution_count": null,
   "metadata": {},
   "outputs": [],
   "source": [
    "lam = np.exp(20.7944)\n",
    "print(lam)"
   ]
  },
  {
   "cell_type": "markdown",
   "metadata": {},
   "source": [
    "But this is just a number, however lets take its base 2 logarithm"
   ]
  },
  {
   "cell_type": "code",
   "execution_count": null,
   "metadata": {},
   "outputs": [],
   "source": [
    "np.log2(lam)"
   ]
  },
  {
   "cell_type": "markdown",
   "metadata": {},
   "source": [
    "This is almost 30, and $2^{30}$ is a limit of ```int32``` capacity. \n",
    "\n",
    "#### Prior tuning\n",
    "Setting $\\sigma=10$ would be fine on linear scale, but in GLMs we generally need to be careful. \n",
    "If we choose $\\sigma=2$ having predictors bounded to $[-1,1]$ it still has a possibility to cover relatively very large numbers if needed, but without warnings. \n",
    "\n",
    "\n",
    "Our data was limited to 28, but to stay on the safe side let us limit our priors to keep us under few thousand. For $\\sigma=2$ there is around 1% probability (assuming all predictors at maximum), that \n",
    "$$ X\\beta+\\alpha > 8 $$\n",
    "\n",
    "And this corresponds to $\\lambda$"
   ]
  },
  {
   "cell_type": "code",
   "execution_count": null,
   "metadata": {},
   "outputs": [],
   "source": [
    "lam_ub=np.exp(8)\n",
    "print('Lambda upper bound: {0:4.2f}'.format(lam_ub))"
   ]
  },
  {
   "cell_type": "markdown",
   "metadata": {},
   "source": [
    "Using familiar formula, we have $y_\\mathrm{bound}$ of  to be \n",
    "$$ \\lambda +3\\sqrt{\\lambda}=y_\\mathrm{bound}$$"
   ]
  },
  {
   "cell_type": "code",
   "execution_count": null,
   "metadata": {},
   "outputs": [],
   "source": [
    "y_bound=np.int(lam_ub+3*np.sqrt(lam_ub))\n",
    "print('Upper value of y:{}'.format(y_bound))\n",
    "\n",
    "\n"
   ]
  },
  {
   "cell_type": "markdown",
   "metadata": {},
   "source": [
    "### Prior predictions"
   ]
  },
  {
   "cell_type": "code",
   "execution_count": null,
   "metadata": {},
   "outputs": [],
   "source": [
    "data_ppc = dict(M=3, N=1000,X=df.loc[:,'x_1':'x_3'].values,sigma=2)\n",
    "\n",
    "\n",
    "R = 1000\n",
    "sim_ppc=model_ppc.sampling(data=data_ppc, \n",
    "                           iter=R, warmup=0, \n",
    "                           chains=1, \n",
    "                           refresh=R,\n",
    "                           algorithm='Fixed_param',\n",
    "                           seed=29042020)\n",
    "\n",
    "params = sim_ppc.extract()\n",
    "pars_mat=np.concatenate((params['beta'],np.expand_dims(params['alpha'],axis=1)),axis=1)"
   ]
  },
  {
   "cell_type": "code",
   "execution_count": null,
   "metadata": {},
   "outputs": [],
   "source": [
    "fig, axes = plt.subplots(2, 2, figsize=(7, 8), squeeze=False,sharex=True)\n",
    "axes_flat=axes.flatten()\n",
    "names_of_pars = [r'$\\beta_1$',r'$\\beta_2$',r'$\\beta_3$',r'$\\alpha$',r'$\\phi$',r'$\\psi=\\phi^{-1}$']\n",
    "for k in range(len(axes_flat)):\n",
    "    ax = axes_flat[k]\n",
    "    ax.hist(pars_mat[:,k],bins=20,color=DARK,edgecolor=DARK_HIGHLIGHT,density=True)\n",
    "    ax.set_title(names_of_pars[k])\n",
    "    ax.set_yticks([])\n",
    "fig.tight_layout()\n",
    "\n",
    "plt.show()"
   ]
  },
  {
   "cell_type": "code",
   "execution_count": null,
   "metadata": {},
   "outputs": [],
   "source": [
    "np.max(params['lambda'][0])"
   ]
  },
  {
   "cell_type": "code",
   "execution_count": null,
   "metadata": {},
   "outputs": [],
   "source": [
    "y_ppc = (params['y_ppc'])\n",
    "max_y = 50\n",
    "\n",
    "bins,counts = integer_histogram_matrix(max_y,y_ppc)\n",
    "xs, pad_counts = pad_hist_for_plot(bins,counts)    \n",
    "obs_counts = np.histogram(df['y'], bins=bins)[0]\n",
    "_, pad_obs_counts = pad_hist_for_plot(bins,obs_counts)\n",
    "\n",
    "\n",
    "fig, ax = plt.subplots(1, 1, figsize=(7,4))\n",
    "\n",
    "ax=ribbon_plot(xs,pad_counts,ax)\n",
    "\n",
    "ax.plot(xs, pad_obs_counts, linewidth=2.5, color=\"white\",zorder=1)\n",
    "ax.plot(xs, pad_obs_counts, linewidth=2.0, color=\"black\",zorder=2)\n",
    "ax.set_xlim([min(bins), max(bins)])\n",
    "ax.set_xlabel(\"y\")\n",
    "ax.set_ylim([0, max(max(obs_counts), np.max(counts))])\n",
    "ax.set_ylabel(\"Prior Predictive Distribution\")\n",
    "\n",
    "plt.show()"
   ]
  },
  {
   "cell_type": "markdown",
   "metadata": {},
   "source": [
    "### Posterior inference and prediction"
   ]
  },
  {
   "cell_type": "code",
   "execution_count": null,
   "metadata": {},
   "outputs": [],
   "source": [
    "model = stan_utility.compile_model('poisson2.stan')\n",
    "with open('poisson2.stan', 'r') as file:\n",
    "    print(file.read())"
   ]
  },
  {
   "cell_type": "code",
   "execution_count": null,
   "metadata": {},
   "outputs": [],
   "source": [
    "data = dict(M=3, N=1000,X=df.loc[:,'x_1':'x_3'].values,y=df.y.values)\n",
    "\n",
    "fit = model.sampling(data=data, seed=12062020)"
   ]
  },
  {
   "cell_type": "code",
   "execution_count": null,
   "metadata": {},
   "outputs": [],
   "source": [
    "params_1 = fit.extract()\n",
    "pars_mat_1=np.concatenate((params_1['beta'],np.expand_dims(params_1['alpha'],axis=1)),axis=1)"
   ]
  },
  {
   "cell_type": "code",
   "execution_count": null,
   "metadata": {},
   "outputs": [],
   "source": [
    "fig, axes = plt.subplots(2, 2, figsize=(7, 8), squeeze=False)\n",
    "axes_flat=axes.flatten()\n",
    "for k in range(len(axes_flat)):\n",
    "    ax = axes_flat[k]\n",
    "    ax.hist(pars_mat_1[:,k],bins=20,color=DARK,edgecolor=DARK_HIGHLIGHT,density=True)\n",
    "    ax.set_title(names_of_pars[k])\n",
    "    ax.set_yticks([])\n",
    "fig.tight_layout()\n",
    "\n",
    "plt.show()"
   ]
  },
  {
   "cell_type": "code",
   "execution_count": null,
   "metadata": {},
   "outputs": [],
   "source": [
    "max_y = 50\n",
    "\n",
    "y_prediction_1 = (params_1['y_ppc'])\n",
    "\n",
    "bins,counts = integer_histogram_matrix(max_y,y_prediction_1)\n",
    "xs, pad_counts_pred = pad_hist_for_plot(bins,counts)    \n",
    "#obs_counts = np.histogram(df['y'], bins=bins)[0]\n",
    "#_, pad_obs_counts = pad_hist_for_plot(bins,obs_counts)\n",
    "\n",
    "\n",
    "fig, ax = plt.subplots(1, 1, figsize=(7,4))\n",
    "\n",
    "ax=ribbon_plot(xs,pad_counts_pred,ax)\n",
    "\n",
    "ax.plot(xs, pad_obs_counts, linewidth=2.5, color=\"white\",zorder=1)\n",
    "ax.plot(xs, pad_obs_counts, linewidth=2.0, color=\"black\",zorder=2)\n",
    "\n",
    "ax.set_xlim([min(bins), max(bins)])\n",
    "ax.set_xlabel(\"y\")\n",
    "ax.set_ylim([0, max(max(obs_counts), np.max(counts))])\n",
    "ax.set_ylabel(\"Posterior Predictive Distribution\")\n",
    "ax.set_title('Using Poisson model leads to systematic differences')\n",
    "\n",
    "\n",
    "plt.show()"
   ]
  },
  {
   "cell_type": "markdown",
   "metadata": {},
   "source": [
    "### Modelling dispersion in discrete regrssion\n",
    "\n",
    "Negative binomial distribution in dispersion parametrization is equivalnent to concentration parametrization but with concentration parameter $\\phi$ replaced with dispersion $\\psi$,\n",
    "$$\n",
    "\\psi = \\frac{1}{\\phi}.\n",
    "$$\n",
    "\n",
    "|Parameter Name|Symbol|Domain|Units|\n",
    "|--- |--- |--- |--- |\n",
    "|Intensity|$$\\mu$$|$$\\mathbb{R}^{+}$$|$$[x]$$|\n",
    "|Dispersion|$$\\psi$$|$$\\mathbb{R}^{+}$$|$$[x^{-1}]$$|\n",
    "\n",
    "This leads to following formulae:\n",
    "\n",
    "|||\n",
    "|--- |--- |\n",
    "|Space|$$X = \\mathbb{N}$$|\n",
    "|Density|$$\\pi(x; \\mu, \\psi) = {x + \\psi^{-1} - 1 \\choose x}\n",
    "          \\left( \\frac{\\mu \\cdot \\psi }{\\mu \\cdot \\psi + 1} \\right)^{x} \\\n",
    "          \\left( \\frac{1}{\\mu \\cdot \\psi + 1} \\right)^{\\frac{1}{\\psi}}$$|\n",
    "|Mean|$$\\mu$$|\n",
    "|Variance|$$\\mu + \\mu^{2} \\cdot \\psi$$|\n",
    "\n",
    "This is advantageous, as when $\\psi$ tends to zero, then Negaitve Binomial distribution tends to Poisson distribution.\n",
    "\n",
    "For more details [see](https://betanalpha.github.io/assets/case_studies/probability_densities.html#36_the_negative_binomial_family_2:_electric_boogaloo)."
   ]
  },
  {
   "cell_type": "code",
   "execution_count": null,
   "metadata": {},
   "outputs": [],
   "source": [
    "model_nb = stan_utility.compile_model('negative_binomial.stan')\n",
    "with open('negative_binomial.stan', 'r') as file:\n",
    "    print(file.read())"
   ]
  },
  {
   "cell_type": "code",
   "execution_count": null,
   "metadata": {},
   "outputs": [],
   "source": [
    "fit = model_nb.sampling(data=data, seed=4938483)\n",
    "\n",
    "# Check diagnostics\n",
    "stan_utility.check_all_diagnostics(fit)\n",
    "\n",
    "params_nb = fit.extract()\n"
   ]
  },
  {
   "cell_type": "code",
   "execution_count": null,
   "metadata": {},
   "outputs": [],
   "source": [
    "pars_mat_nb=np.concatenate((params_nb['beta'],\n",
    "                         np.expand_dims(params_nb['alpha'],axis=1), \n",
    "                         np.expand_dims(params_nb['phi'],axis=1),\n",
    "                         np.expand_dims(params_nb['inv_phi'],axis=1)),\n",
    "                        axis=1)"
   ]
  },
  {
   "cell_type": "code",
   "execution_count": null,
   "metadata": {},
   "outputs": [],
   "source": [
    "fig, axes = plt.subplots(3, 2, figsize=(7, 8), squeeze=False)\n",
    "axes_flat=axes.flatten()\n",
    "for k in range(len(axes_flat)):\n",
    "    ax = axes_flat[k]\n",
    "    ax.hist(pars_mat_nb[:,k],bins=20,color=DARK,edgecolor=DARK_HIGHLIGHT,density=True)\n",
    "    ax.set_title(names_of_pars[k])\n",
    "#    ax.plot([tv[k],tv[k]],[0,5],linestyle='--',color='black')\n",
    "    #ax.set_xticks([0,1,2,3,4,5,6])\n",
    "    ax.set_yticks([])\n",
    "fig.tight_layout()\n",
    "\n",
    "plt.show()"
   ]
  },
  {
   "cell_type": "code",
   "execution_count": null,
   "metadata": {},
   "outputs": [],
   "source": [
    "max_y = 50\n",
    "\n",
    "y_prediction_2 = (params_nb['y_ppc'])\n",
    "\n",
    "bins,counts = integer_histogram_matrix(max_y,y_prediction_2)\n",
    "xs, pad_counts_pred_2 = pad_hist_for_plot(bins,counts)    \n",
    "#obs_counts = np.histogram(df['y'], bins=bins)[0]\n",
    "#_, pad_obs_counts = pad_hist_for_plot(bins,obs_counts)\n",
    "\n",
    "\n",
    "fig, ax = plt.subplots(1, 1, figsize=(7,4))\n",
    "\n",
    "ax=ribbon_plot(xs,pad_counts_pred_2,ax)\n",
    "\n",
    "ax.plot(xs, pad_obs_counts, linewidth=2.5, color=\"white\",zorder=1)\n",
    "ax.plot(xs, pad_obs_counts, linewidth=2.0, color=\"black\",zorder=2)\n",
    "\n",
    "ax.set_xlim([min(bins), max(bins)])\n",
    "ax.set_xlabel(\"y\")\n",
    "ax.set_ylim([0, max(max(obs_counts), np.max(counts))])\n",
    "ax.set_ylabel(\"Posterior Predictive Distribution\")\n",
    "m_psi=np.mean(params_nb['inv_phi'])\n",
    "sd_psi=np.std(params_nb['inv_phi'])\n",
    "ax.set_title('NB distribution, with dispersion {0:1.3f} $\\pm$ {1:1.3f} fits data better'.format(m_psi,sd_psi))\n",
    "plt.show()\n",
    "\n"
   ]
  }
 ],
 "metadata": {
  "kernelspec": {
   "display_name": "Python 3",
   "language": "python",
   "name": "python3"
  },
  "language_info": {
   "codemirror_mode": {
    "name": "ipython",
    "version": 3
   },
   "file_extension": ".py",
   "mimetype": "text/x-python",
   "name": "python",
   "nbconvert_exporter": "python",
   "pygments_lexer": "ipython3",
   "version": "3.7.7"
  }
 },
 "nbformat": 4,
 "nbformat_minor": 4
}
