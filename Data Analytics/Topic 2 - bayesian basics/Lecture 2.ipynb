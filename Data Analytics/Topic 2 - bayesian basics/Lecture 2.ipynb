{
 "cells": [
  {
   "cell_type": "markdown",
   "metadata": {
    "slideshow": {
     "slide_type": "slide"
    }
   },
   "source": [
    "# Data analytics\n",
    "\n",
    "## Bayesian basics\n",
    "\n",
    "### dr hab. inż. Jerzy Baranowski, Prof. AGH"
   ]
  },
  {
   "cell_type": "code",
   "execution_count": null,
   "metadata": {},
   "outputs": [],
   "source": []
  },
  {
   "cell_type": "markdown",
   "metadata": {
    "slideshow": {
     "slide_type": "slide"
    }
   },
   "source": [
    "## Bayes' rule\n",
    "In most applicatations we focus on the numerator\n",
    "\n",
    "$$ \\underbrace{p(\\theta|y)}_{\\mathrm{posterior}}\\propto \n",
    "\\underbrace{p(\\theta)}_{\\mathrm{prior}}\n",
    "\\underbrace{p(y|\\theta)}_{\\mathrm{likelihood}}$$\n"
   ]
  },
  {
   "cell_type": "markdown",
   "metadata": {
    "slideshow": {
     "slide_type": "subslide"
    }
   },
   "source": [
    "## Predictions\n",
    "\n",
    "### Prior predictive distribution\n",
    "\n",
    "What values of data can we expect before actual measurements (based on prior knowledge)\n",
    "\n",
    "$$\n",
    "p(y)=\\int p(y,\\theta) d\\theta=\\int p(\\theta)p(y|\\theta)d\\theta\n",
    "$$"
   ]
  },
  {
   "cell_type": "markdown",
   "metadata": {
    "slideshow": {
     "slide_type": "subslide"
    }
   },
   "source": [
    "## Predictions\n",
    "\n",
    "### Posterior predictive distribution\n",
    "\n",
    "What values of new data can we expect based on previous measurements and prior knowledge\n",
    "\n",
    "$$\n",
    "p(\\tilde{y}|y)=\\int p(\\tilde{y},\\theta|y) d\\theta=\n",
    "\\int p(\\tilde{y}|\\theta,y) p(\\theta|y)d\\theta=\n",
    "\\int p(\\tilde{y}|\\theta) p(\\theta|y)d\\theta\n",
    "$$"
   ]
  },
  {
   "cell_type": "markdown",
   "metadata": {
    "slideshow": {
     "slide_type": "subslide"
    }
   },
   "source": [
    "## Additional notation and properties\n",
    "### Everything is conditional\n",
    "$$p(\\theta,y|H)=p(\\theta|H)p(y|\\theta,H)$$\n",
    "\n",
    "### Expectation\n",
    "$$ \\mathrm{E}(u)=\\int up(u) d u $$\n",
    "\n",
    "### Variance\n",
    "$$ \\mathrm{var}(u)=\\int(u-\\mathrm{E}(u))(u-\\mathrm{E}(u))^T p(u) du$$"
   ]
  },
  {
   "cell_type": "markdown",
   "metadata": {
    "slideshow": {
     "slide_type": "subslide"
    }
   },
   "source": [
    "## Conditional expectations and variances\n",
    "### Expectation of conditional distribution\n",
    "$$ \\mathrm{E}(u)=\\mathrm{E}(\\mathrm{E}(u|v)) $$\n",
    "$$ \\mathrm{E}(u)=\\iint u p(u,v) du dv =\\iint u p(u|v) du p(v) dv=\\int  \\mathrm{E}(u|v)p(v)d v $$\n",
    "### Variance of conditional distribution\n",
    "$$ \\mathrm{var}(u)=\\mathrm{E}(\\mathrm{var}(u|v))+\\mathrm{var}(\\mathrm{E}(u|v) $$"
   ]
  },
  {
   "cell_type": "markdown",
   "metadata": {
    "slideshow": {
     "slide_type": "subslide"
    }
   },
   "source": [
    "## Changing variables\n",
    "$$ v=f(u) $$\n",
    "### Discrete distributions\n",
    "$$\n",
    "p_v(v)=p_u(f^{-1}(v))\n",
    "$$\n",
    "\n",
    "## Continuous distributions\n",
    "$$\n",
    "p_v(v)=|J|p_u(f^{-1}(v))\n",
    "$$"
   ]
  },
  {
   "cell_type": "markdown",
   "metadata": {
    "slideshow": {
     "slide_type": "subslide"
    }
   },
   "source": [
    "## Typical variable changes\n",
    "It is useful to work on the unbounded interval i.e. $(-\\infty,\\infty)$. Often parameters are bounded, so we use transformations\n",
    "\n",
    "- Logarithmic (from $(0,\\infty)\\rightarrow (-\\infty,\\infty)$)\n",
    "$$ v=\\log(u)$$\n",
    "- Logistic (from $(0,1)\\rightarrow (-\\infty,\\infty)$)\n",
    "$$ v=\\mathrm{logit}(u) $$\n",
    "where \n",
    "$$ \\mathrm{logit}(x)=\\log\\left(\\frac{x}{1-x}\\right),\\quad\n",
    "\\mathrm{logit}^{-1}(y)=\\frac{\\exp(y)}{1+\\exp(y)}$$\n",
    "\n",
    "- Probit (from $(0,1)\\rightarrow (-\\infty,\\infty)$)\n",
    "$$ v=\\Phi^{-1}(u) $$\n",
    "where $\\phi$ is the standard normal cumulative distribution function"
   ]
  },
  {
   "cell_type": "markdown",
   "metadata": {
    "slideshow": {
     "slide_type": "slide"
    }
   },
   "source": [
    "## Single parameter models\n",
    "### Building blocks of more complicated models\n",
    "### Answers to basic questions e.g.:\n",
    "- What is the average difference between treatment groups?\n",
    "- How strong is the association between a treatment and an outcome?\n",
    "- Does the effect of the treatment depend upon a covariate?\n",
    "- How much variation is there among groups?"
   ]
  },
  {
   "cell_type": "markdown",
   "metadata": {
    "slideshow": {
     "slide_type": "subslide"
    }
   },
   "source": [
    "## Binomial model\n",
    "\n",
    "- Natural model for data that arise from a sequence of $n$ exchangeable trials \n",
    "- Two possible outcomes, conventionally labeled ‘success’ and ‘failure.’\n",
    "$$\n",
    "p(y|\\theta)=\\mathrm{Bin}(y|n,\\theta)={n \\choose y}\\theta^y (1-\\theta)^{n-y}\n",
    "$$\n"
   ]
  },
  {
   "cell_type": "markdown",
   "metadata": {
    "slideshow": {
     "slide_type": "subslide"
    }
   },
   "source": [
    "## Example of Bayesian learning\n",
    "Globe tossing:\n",
    "- The true proportion of water covering the globe is p.\n",
    "- A single toss of the globe has a probability $p$ of producing a water (W) observation.\n",
    "- It has a probability $1 − p$ of producing a land (L) observation. \n",
    "- Each toss of the globe is independent of the others."
   ]
  },
  {
   "cell_type": "markdown",
   "metadata": {
    "slideshow": {
     "slide_type": "subslide"
    }
   },
   "source": [
    "## Globe tossing likelyhood"
   ]
  },
  {
   "cell_type": "code",
   "execution_count": 2,
   "metadata": {
    "slideshow": {
     "slide_type": "skip"
    }
   },
   "outputs": [],
   "source": [
    "import scipy.stats as stats\n",
    "import numpy as np\n",
    "import seaborn as sns\n",
    "import matplotlib.pyplot as plt\n",
    "theta=np.linspace(0,1,200)\n",
    "sns.set(style='darkgrid')"
   ]
  },
  {
   "cell_type": "code",
   "execution_count": 3,
   "metadata": {},
   "outputs": [
    {
     "data": {
      "image/png": "[encoded data removed]",
      "text/plain": [
       "<Figure size 432x288 with 1 Axes>"
      ]
     },
     "metadata": {},
     "output_type": "display_data"
    }
   ],
   "source": [
    "y=7\n",
    "n=11\n",
    "likelihood = stats.binom.pmf(y, n, theta)\n",
    "plt.plot(theta,likelihood)\n",
    "plt.xlabel(r'$\\theta$')\n",
    "plt.show()"
   ]
  },
  {
   "cell_type": "markdown",
   "metadata": {
    "slideshow": {
     "slide_type": "subslide"
    }
   },
   "source": [
    "## How does it look analytically?\n",
    "Posterior distribution with uniform prior takes form\n",
    "$$ p(\\theta|y)\\propto \\theta^y (1-\\theta)^{n-y}$$\n",
    "Which has form of Beta distribution\n",
    "$$ \\theta|y\\sim \\mathrm{Beta} (y+1,n-y+1)$$"
   ]
  },
  {
   "cell_type": "markdown",
   "metadata": {
    "slideshow": {
     "slide_type": "slide"
    }
   },
   "source": [
    "## How to summarize posterior?\n",
    "- Ideally – by itself\n",
    "- Usually – mean, median, mode\n",
    "- Variation – standard deviation, the interquartile range, and other quantiles"
   ]
  },
  {
   "cell_type": "markdown",
   "metadata": {
    "slideshow": {
     "slide_type": "subslide"
    }
   },
   "source": [
    "## Interval summaries\n",
    "- Central interval - a symmetric interval around for example a mean\n",
    "- Highest posterior density region - smallest interval containing the desired probability\n",
    "\n",
    "<img src=\"img/intervals.png\" width=\"500\">\n"
   ]
  },
  {
   "cell_type": "markdown",
   "metadata": {
    "slideshow": {
     "slide_type": "slide"
    }
   },
   "source": [
    "## Priors\n",
    "- **population interpretation**, the prior distribution represents a population of possible parameter values, from which the $\\theta$ of current interest has been drawn\n",
    "- **state of knowledge interpretation**, we must express our knowledge (and uncertainty) about $\\theta$ as if its value could be thought of as a random realization from the prior distribution"
   ]
  },
  {
   "cell_type": "markdown",
   "metadata": {
    "slideshow": {
     "slide_type": "subslide"
    }
   },
   "source": [
    "## Informative priors\n",
    "- They try to introduce new information\n",
    "- Often interpreted as knowledge from previous experiments\n",
    "- For binomial example\n",
    "$$ p(\\theta)\\propto \\theta^{\\alpha-1}(1-\\theta)^{\\beta-1}$$\n",
    "It’s a Beta distribution $\\theta \\sim \\mathrm{Beta}(\\alpha, \\beta)$, prior density is equivalent to $\\alpha − 1$ prior successes and $\\beta − 1$ prior failures."
   ]
  },
  {
   "cell_type": "markdown",
   "metadata": {
    "slideshow": {
     "slide_type": "subslide"
    }
   },
   "source": [
    "## Posterior with informative prior\n",
    "Posterior has a closed form\n",
    "$$\n",
    "\\begin{aligned}\n",
    "p(\\theta|y)\\propto{}& \\theta^{y}(1-\\theta)^{n-y}\\theta^{\\alpha-1}(1-\\theta)^{\\beta-1}=\\\\\n",
    "={}&\\theta^{y+\\alpha-1}(1-\\theta)^{n-y+\\beta-1}=\\\\\n",
    "={}&\\mathrm{Beta}(\\alpha+y,\\beta+n-y)\n",
    "\\end{aligned}\n",
    "$$\n",
    "With expectation\n",
    "$$\n",
    "\\mathrm{E}(\\theta|y)=\\frac{\\alpha+y}{\\alpha+\\beta+n}\n",
    "$$\n",
    "which always lies between the sample proportion, $y/n$, and the prior mean, $\\alpha/(\\alpha + \\beta)$"
   ]
  },
  {
   "cell_type": "markdown",
   "metadata": {
    "slideshow": {
     "slide_type": "subslide"
    }
   },
   "source": [
    "## Conjugacy\n",
    "$$ p(\\theta|y)\\in\\mathcal{P}\\mathrm{for\\ all}\\ p(\\cdot|\\theta)\\in\\mathcal{F}\\ \\mathrm{and}\\ p(\\cdot)\\in\\mathcal{P}\n",
    "$$\n",
    "\n",
    "Class $\\mathcal{P}$ is conjugate to class $\\mathcal{F}$\n",
    "\n",
    "- Conjugacy makes everything easier, formulas are analytic so computation is faster\n",
    "- It should not be a goal by itself, as sometimes different distributions are much more justified"
   ]
  },
  {
   "cell_type": "markdown",
   "metadata": {
    "slideshow": {
     "slide_type": "subslide"
    }
   },
   "source": [
    "## Example - biology\n",
    "\n",
    "Is proportion of girls born with placenta previa lower than the proportion of female births in general population i.e. 0.485?\n",
    "\n",
    "Study results: of 980 births with PP 437 were female.\n",
    "<img src=\"img/placenta.png\" width=\"400\">\n"
   ]
  },
  {
   "cell_type": "markdown",
   "metadata": {
    "slideshow": {
     "slide_type": "subslide"
    }
   },
   "source": [
    "## Uniform prior\n",
    "Assuming uniform prior the analytic computation gives us posterior Beta(438,544). We can compute values analytically but its easier via sampling"
   ]
  },
  {
   "cell_type": "code",
   "execution_count": 4,
   "metadata": {
    "slideshow": {
     "slide_type": "-"
    }
   },
   "outputs": [
    {
     "name": "stdout",
     "output_type": "stream",
     "text": [
      "94% HPD interval:[0.41611272 0.4749719 ]\n",
      "Median:0.44615484211634593\n"
     ]
    }
   ],
   "source": [
    "import arviz as az\n",
    "samples=np.random.beta(438,544,10000)\n",
    "interval=az.hpd(samples,0.94) \n",
    "\n",
    "print('94% HPD interval:'+str(interval))\n",
    "print('Median:'+str(np.median(samples)))"
   ]
  },
  {
   "cell_type": "markdown",
   "metadata": {
    "slideshow": {
     "slide_type": "subslide"
    }
   },
   "source": [
    "### Visualisation"
   ]
  },
  {
   "cell_type": "code",
   "execution_count": 5,
   "metadata": {
    "slideshow": {
     "slide_type": "skip"
    }
   },
   "outputs": [
    {
     "data": {
      "image/png": "[encoded data removed]",
      "text/plain": [
       "<Figure size 432x288 with 1 Axes>"
      ]
     },
     "metadata": {},
     "output_type": "display_data"
    }
   ],
   "source": [
    "\n",
    "theta1=np.linspace(0.3,0.6,200)\n",
    "theta2=np.linspace(interval[0],interval[1],200)\n",
    "bd=stats.beta.pdf(theta1,438,544)\n",
    "bd2=stats.beta.pdf(theta2,438,544)\n",
    "\n",
    "fig, ax = plt.subplots()\n",
    "ax.plot(theta1,bd)\n",
    "ax.fill_between(theta2, bd2, alpha=0.5)\n",
    "plt.show()"
   ]
  },
  {
   "cell_type": "code",
   "execution_count": null,
   "metadata": {},
   "outputs": [],
   "source": [
    "fig"
   ]
  },
  {
   "cell_type": "markdown",
   "metadata": {
    "slideshow": {
     "slide_type": "subslide"
    }
   },
   "source": [
    "## Conjugate priors\n",
    "\n",
    "For binomial likelihood Beta is its conjugate. We can encode our knowledge (mean value of whole population) using the following relationships:\n",
    "\n",
    "- mean of $\\mathrm{Beta}(\\alpha,\\beta)$ distribution is $\\frac{\\alpha}{\\alpha+\\beta}$\n",
    "- interpreting Beta, as previous binomial experiments then $\\alpha+\\beta$ is the population size\n",
    "- we can try to do computation using various population sizes keeping mean of $0.485$"
   ]
  },
  {
   "cell_type": "code",
   "execution_count": 6,
   "metadata": {
    "slideshow": {
     "slide_type": "subslide"
    }
   },
   "outputs": [],
   "source": [
    "sizes=[2, 5, 10, 20, 100, 200, 1000]\n",
    "post_median=[]\n",
    "post_hpd=[]\n",
    "alphas=[]\n",
    "betas=[]\n",
    "for n in sizes:\n",
    "    alpha=0.485*n\n",
    "    beta=n-alpha\n",
    "    alphas.append(alpha)\n",
    "    betas.append(beta)\n",
    "    post_samples=np.random.beta(438+alpha,544+beta,1000)\n",
    "    post_median.append(np.median(post_samples))\n",
    "    post_hpd.append(az.hpd(post_samples,0.94))\n"
   ]
  },
  {
   "cell_type": "code",
   "execution_count": 7,
   "metadata": {
    "slideshow": {
     "slide_type": "skip"
    }
   },
   "outputs": [],
   "source": [
    "import pandas as pd\n",
    "df=pd.DataFrame({'Population size':sizes,\n",
    "                 'Posterior median':post_median,\n",
    "                 'Posterior 94% credible interval':post_hpd})"
   ]
  },
  {
   "cell_type": "code",
   "execution_count": 8,
   "metadata": {
    "slideshow": {
     "slide_type": "subslide"
    }
   },
   "outputs": [
    {
     "data": {
      "text/html": [
       "<div>\n",
       "<style scoped>\n",
       "    .dataframe tbody tr th:only-of-type {\n",
       "        vertical-align: middle;\n",
       "    }\n",
       "\n",
       "    .dataframe tbody tr th {\n",
       "        vertical-align: top;\n",
       "    }\n",
       "\n",
       "    .dataframe thead th {\n",
       "        text-align: right;\n",
       "    }\n",
       "</style>\n",
       "<table border=\"1\" class=\"dataframe\">\n",
       "  <thead>\n",
       "    <tr style=\"text-align: right;\">\n",
       "      <th></th>\n",
       "      <th>Population size</th>\n",
       "      <th>Posterior median</th>\n",
       "      <th>Posterior 94% credible interval</th>\n",
       "    </tr>\n",
       "  </thead>\n",
       "  <tbody>\n",
       "    <tr>\n",
       "      <th>0</th>\n",
       "      <td>2</td>\n",
       "      <td>0.446368</td>\n",
       "      <td>[0.41679281298646537, 0.47460237511014164]</td>\n",
       "    </tr>\n",
       "    <tr>\n",
       "      <th>1</th>\n",
       "      <td>5</td>\n",
       "      <td>0.446616</td>\n",
       "      <td>[0.4184036149584743, 0.4769389346339034]</td>\n",
       "    </tr>\n",
       "    <tr>\n",
       "      <th>2</th>\n",
       "      <td>10</td>\n",
       "      <td>0.446609</td>\n",
       "      <td>[0.41624532683324106, 0.4756884900393527]</td>\n",
       "    </tr>\n",
       "    <tr>\n",
       "      <th>3</th>\n",
       "      <td>20</td>\n",
       "      <td>0.446927</td>\n",
       "      <td>[0.4145522285906734, 0.4764178779778129]</td>\n",
       "    </tr>\n",
       "    <tr>\n",
       "      <th>4</th>\n",
       "      <td>100</td>\n",
       "      <td>0.449386</td>\n",
       "      <td>[0.4235168697725932, 0.47863136518905064]</td>\n",
       "    </tr>\n",
       "    <tr>\n",
       "      <th>5</th>\n",
       "      <td>200</td>\n",
       "      <td>0.452534</td>\n",
       "      <td>[0.427656590939683, 0.48085627355032634]</td>\n",
       "    </tr>\n",
       "    <tr>\n",
       "      <th>6</th>\n",
       "      <td>1000</td>\n",
       "      <td>0.465320</td>\n",
       "      <td>[0.44143753065777935, 0.4863736794886165]</td>\n",
       "    </tr>\n",
       "  </tbody>\n",
       "</table>\n",
       "</div>"
      ],
      "text/plain": [
       "   Population size  Posterior median  \\\n",
       "0                2          0.446368   \n",
       "1                5          0.446616   \n",
       "2               10          0.446609   \n",
       "3               20          0.446927   \n",
       "4              100          0.449386   \n",
       "5              200          0.452534   \n",
       "6             1000          0.465320   \n",
       "\n",
       "              Posterior 94% credible interval  \n",
       "0  [0.41679281298646537, 0.47460237511014164]  \n",
       "1    [0.4184036149584743, 0.4769389346339034]  \n",
       "2   [0.41624532683324106, 0.4756884900393527]  \n",
       "3    [0.4145522285906734, 0.4764178779778129]  \n",
       "4   [0.4235168697725932, 0.47863136518905064]  \n",
       "5    [0.427656590939683, 0.48085627355032634]  \n",
       "6   [0.44143753065777935, 0.4863736794886165]  "
      ]
     },
     "execution_count": 8,
     "metadata": {},
     "output_type": "execute_result"
    }
   ],
   "source": [
    "df.head(7)"
   ]
  },
  {
   "cell_type": "code",
   "execution_count": 9,
   "metadata": {
    "slideshow": {
     "slide_type": "skip"
    }
   },
   "outputs": [
    {
     "data": {
      "text/plain": [
       "<matplotlib.legend.Legend at 0x7f93bd25da10>"
      ]
     },
     "execution_count": 9,
     "metadata": {},
     "output_type": "execute_result"
    },
    {
     "data": {
      "image/png": "[encoded data removed]",
      "text/plain": [
       "<Figure size 432x288 with 3 Axes>"
      ]
     },
     "metadata": {},
     "output_type": "display_data"
    }
   ],
   "source": [
    "f, (ax1, ax2,ax3) = plt.subplots(3, 1, sharex=True)\n",
    "ax1.plot(theta1,stats.beta.pdf(theta1,alphas[0],betas[0]),theta1, stats.beta.pdf(theta1,438+alphas[0],544+betas[0]),theta1, stats.beta.pdf(theta1,438,544))\n",
    "ax1.set_title('Population size='+str(sizes[0]))\n",
    "ax2.plot(theta1,stats.beta.pdf(theta1,alphas[3],betas[3]),theta1, stats.beta.pdf(theta1,438+alphas[3],544+betas[3]),theta1, stats.beta.pdf(theta1,438,544))\n",
    "ax2.set_title('Population size='+str(sizes[4]))\n",
    "ax3.plot(theta1,stats.beta.pdf(theta1,alphas[5],betas[5]),theta1, stats.beta.pdf(theta1,438+alphas[5],544+betas[5]),theta1, stats.beta.pdf(theta1,438,544))\n",
    "ax3.set_title('Population size='+str(sizes[6]))\n",
    "f.legend(['Prior','Posterior','Posterior with uniform prior'],loc=2)"
   ]
  },
  {
   "cell_type": "code",
   "execution_count": null,
   "metadata": {
    "slideshow": {
     "slide_type": "subslide"
    }
   },
   "outputs": [],
   "source": [
    "f"
   ]
  },
  {
   "cell_type": "markdown",
   "metadata": {
    "slideshow": {
     "slide_type": "subslide"
    }
   },
   "source": [
    "## Non-conjugate prior\n"
   ]
  },
  {
   "cell_type": "code",
   "execution_count": 10,
   "metadata": {
    "slideshow": {
     "slide_type": "skip"
    }
   },
   "outputs": [
    {
     "data": {
      "text/plain": [
       "Text(0.5, 1.0, 'Non-conjugate posterior')"
      ]
     },
     "execution_count": 10,
     "metadata": {},
     "output_type": "execute_result"
    },
    {
     "data": {
      "image/png": "[encoded data removed]",
      "text/plain": [
       "<Figure size 432x288 with 3 Axes>"
      ]
     },
     "metadata": {},
     "output_type": "display_data"
    }
   ],
   "source": [
    "f2, (ax1, ax2,ax3) = plt.subplots(3, 1, sharex=True)\n",
    "ax1.plot(theta1, stats.beta.pdf(theta1,438,544))\n",
    "ax1.set_title('Likelihood')\n",
    "ax2.plot(theta1,stats.norm.pdf(theta1,0.485,0.05))\n",
    "ax2.set_title('Nonconjugate prior: N(0.485,0.05)')\n",
    "post=stats.beta.pdf(theta1,438,544)*stats.norm.pdf(theta1,0.485,0.05)\n",
    "post=post/np.sum(post)\n",
    "ax3.plot(theta1, post)\n",
    "ax3.set_title('Non-conjugate posterior')\n"
   ]
  },
  {
   "cell_type": "code",
   "execution_count": null,
   "metadata": {},
   "outputs": [],
   "source": [
    "f2"
   ]
  },
  {
   "cell_type": "markdown",
   "metadata": {
    "slideshow": {
     "slide_type": "slide"
    }
   },
   "source": [
    "## Interlude - How we can analyze posteriors?\n",
    "- Grid approximation\n",
    "- Quadratic approximation (Laplace approximation)\n",
    "- MCMC\n",
    "- Variational inference"
   ]
  },
  {
   "cell_type": "markdown",
   "metadata": {
    "slideshow": {
     "slide_type": "subslide"
    }
   },
   "source": [
    "## Grid approximation\n",
    "1. Define the grid. This means you decide how many points to use in estimating the posterior, and then you make a list of the parameter values on the grid.\n",
    "2. Compute the value of the prior at each parameter value on the grid.\n",
    "3. Compute the likelihood at each parameter value.\n",
    "4. Compute the unstandardized posterior at each parameter value, by multiplying the prior by the likelihood.\n",
    "5. Finally, standardize the posterior, by dividing each value by the sum of all values."
   ]
  },
  {
   "cell_type": "code",
   "execution_count": 11,
   "metadata": {
    "slideshow": {
     "slide_type": "subslide"
    }
   },
   "outputs": [],
   "source": [
    "def posterior_grid_approx(grid_points=5, success=6, tosses=9):\n",
    "    \n",
    "    # define grid\n",
    "    p_grid = np.linspace(0, 1, grid_points)\n",
    "\n",
    "    # define prior\n",
    "    prior = np.repeat(5, grid_points)  # uniform\n",
    "   \n",
    "    # compute likelihood at each point in the grid\n",
    "    likelihood = stats.binom.pmf(success, tosses, p_grid)\n",
    "\n",
    "    # compute product of likelihood and prior\n",
    "    unstd_posterior = likelihood * prior\n",
    "\n",
    "    # standardize the posterior, so it sums to 1\n",
    "    posterior = unstd_posterior / unstd_posterior.sum()\n",
    "    return p_grid, posterior"
   ]
  },
  {
   "cell_type": "code",
   "execution_count": 12,
   "metadata": {},
   "outputs": [
    {
     "data": {
      "text/plain": [
       "(array([0.  , 0.25, 0.5 , 0.75, 1.  ]),\n",
       " array([0.        , 0.02129338, 0.40378549, 0.57492114, 0.        ]))"
      ]
     },
     "execution_count": 12,
     "metadata": {},
     "output_type": "execute_result"
    }
   ],
   "source": [
    "posterior_grid_approx()"
   ]
  },
  {
   "cell_type": "markdown",
   "metadata": {
    "slideshow": {
     "slide_type": "subslide"
    }
   },
   "source": [
    "## Grid approximation example"
   ]
  },
  {
   "cell_type": "code",
   "execution_count": 13,
   "metadata": {
    "slideshow": {
     "slide_type": "skip"
    }
   },
   "outputs": [
    {
     "data": {
      "text/plain": [
       "Text(0, 0.5, 'posterior probability')"
      ]
     },
     "execution_count": 13,
     "metadata": {},
     "output_type": "execute_result"
    },
    {
     "data": {
      "image/png": "[encoded data removed]",
      "text/plain": [
       "<Figure size 432x288 with 2 Axes>"
      ]
     },
     "metadata": {},
     "output_type": "display_data"
    }
   ],
   "source": [
    "f3, (ax1, ax2) = plt.subplots(1, 2, sharex=True)\n",
    "grid5=posterior_grid_approx()\n",
    "grid20=posterior_grid_approx(20)\n",
    "ax1.plot(grid5[0],grid5[1],marker='o')\n",
    "ax1.set_title('5 points')\n",
    "ax1.set_xlabel('probability of water')\n",
    "ax1.set_ylabel('posterior probability')\n",
    "ax2.plot(grid20[0],grid20[1],marker='o')\n",
    "ax2.set_title('20 points')\n",
    "ax2.set_xlabel('probability of water')\n",
    "ax2.set_ylabel('posterior probability')\n",
    "\n"
   ]
  },
  {
   "cell_type": "code",
   "execution_count": null,
   "metadata": {},
   "outputs": [],
   "source": [
    "f3"
   ]
  },
  {
   "cell_type": "markdown",
   "metadata": {
    "slideshow": {
     "slide_type": "slide"
    }
   },
   "source": [
    "## Noninformative priors\n",
    "Proper and improper priors:\n",
    "- In general, we call a prior density p(θ) proper if it does not depend on data and integrates to 1. \n",
    "- In certain cases improper priors can lead to proper posteriors"
   ]
  },
  {
   "cell_type": "markdown",
   "metadata": {
    "slideshow": {
     "slide_type": "subslide"
    }
   },
   "source": [
    "## Determining noninformative priors\n",
    "Jeffrey’s rule:\n",
    "\n",
    "$$p(\\theta)\\propto J(\\theta)^{1/2}$$\n",
    "\n",
    "$$ J(\\theta)=\\mathrm{E}\\left(\n",
    "    \\left.\n",
    "        \\left(\\frac{d\\log p(y|\\theta)}{d \\theta}\\right)^2\\right|\\theta\\right)$$\n",
    "\n",
    "NIP for location parameter\n",
    "$$\n",
    "p(\\theta)\\propto\\mathrm{constant}\n",
    "$$\n",
    "\n",
    "NIP for scale parameter\n",
    "$$\n",
    "p(\\theta)\\propto\\frac{1}{\\theta},\\quad p(\\log \\theta)\\propto 1\n",
    "$$"
   ]
  },
  {
   "cell_type": "markdown",
   "metadata": {
    "slideshow": {
     "slide_type": "subslide"
    }
   },
   "source": [
    "## Weakly informative priors\n",
    "We characterize a prior distribution as weakly informative if it is proper but is set up so that the information it does provide is intentionally weaker than whatever actual prior knowledge is available. \n",
    "- Make uninformative more complicated\n",
    "- Make informative less complicated"
   ]
  },
  {
   "cell_type": "markdown",
   "metadata": {
    "slideshow": {
     "slide_type": "slide"
    }
   },
   "source": [
    "## Summarizing by sampling\n",
    "- The easiest way to get information about even complicated posteriors is to simulate data that correspond to it and get parameter estimates from sampling.\n",
    "- For single parameter problems the easiest way is to use inverse cumulative distribution function \n",
    "- Grid approximation is more universal"
   ]
  },
  {
   "cell_type": "code",
   "execution_count": 14,
   "metadata": {
    "slideshow": {
     "slide_type": "subslide"
    }
   },
   "outputs": [],
   "source": [
    "def posterior_grid_approx(grid_points=5, success=7, tosses=11,prior_sel=1):\n",
    "    \n",
    "    # define grid\n",
    "    p_grid = np.linspace(0, 1, grid_points)\n",
    "\n",
    "    # define prior\n",
    "    if prior_sel==1:\n",
    "        prior = np.repeat(5, grid_points)  # uniform\n",
    "    elif prior_sel==2:\n",
    "        prior = (p_grid >= 0.5).astype(int)  # truncated\n",
    "    elif prior_sel==3:    \n",
    "        prior = np.exp(- 5 * abs(p_grid - 0.5))  # double exp\n",
    "    else:\n",
    "        raise ValueError('Unsuported prior selection')\n",
    "    # compute likelihood at each point in the grid\n",
    "    likelihood = stats.binom.pmf(success, tosses, p_grid)\n",
    "\n",
    "    # compute product of likelihood and prior\n",
    "    unstd_posterior = likelihood * prior\n",
    "\n",
    "    # standardize the posterior, so it sums to 1\n",
    "    posterior = unstd_posterior / unstd_posterior.sum()\n",
    "    return p_grid, posterior"
   ]
  },
  {
   "cell_type": "code",
   "execution_count": 15,
   "metadata": {
    "slideshow": {
     "slide_type": "subslide"
    }
   },
   "outputs": [
    {
     "data": {
      "text/plain": [
       "[<matplotlib.lines.Line2D at 0x7f93a0ad8ed0>]"
      ]
     },
     "execution_count": 15,
     "metadata": {},
     "output_type": "execute_result"
    },
    {
     "data": {
      "image/png": "[encoded data removed]",
      "text/plain": [
       "<Figure size 432x288 with 1 Axes>"
      ]
     },
     "metadata": {},
     "output_type": "display_data"
    }
   ],
   "source": [
    "p_grid, posterior=posterior_grid_approx(100,6,9,1)\n",
    "plt.plot(p_grid, posterior)"
   ]
  },
  {
   "cell_type": "markdown",
   "metadata": {
    "slideshow": {
     "slide_type": "subslide"
    }
   },
   "source": [
    "## Sampling from grid posterior"
   ]
  },
  {
   "cell_type": "code",
   "execution_count": 16,
   "metadata": {
    "slideshow": {
     "slide_type": "-"
    }
   },
   "outputs": [
    {
     "data": {
      "text/plain": [
       "<matplotlib.collections.PathCollection at 0x7f93bd2c70d0>"
      ]
     },
     "execution_count": 16,
     "metadata": {},
     "output_type": "execute_result"
    },
    {
     "data": {
      "image/png": "[encoded data removed]",
      "text/plain": [
       "<Figure size 432x288 with 1 Axes>"
      ]
     },
     "metadata": {},
     "output_type": "display_data"
    }
   ],
   "source": [
    "samples=np.random.choice(p_grid,size=10000,replace=True,p=posterior)\n",
    "plt.scatter(range(10000),samples)"
   ]
  },
  {
   "cell_type": "code",
   "execution_count": 17,
   "metadata": {
    "slideshow": {
     "slide_type": "subslide"
    }
   },
   "outputs": [
    {
     "data": {
      "text/plain": [
       "(array([   3.,    8.,   27.,   62.,   89.,  208.,  294.,  454.,  566.,\n",
       "         715., 1155., 1024., 1155., 1118.,  967., 1041.,  554.,  350.,\n",
       "         170.,   40.]),\n",
       " array([0.12121212, 0.16363636, 0.20606061, 0.24848485, 0.29090909,\n",
       "        0.33333333, 0.37575758, 0.41818182, 0.46060606, 0.5030303 ,\n",
       "        0.54545455, 0.58787879, 0.63030303, 0.67272727, 0.71515152,\n",
       "        0.75757576, 0.8       , 0.84242424, 0.88484848, 0.92727273,\n",
       "        0.96969697]),\n",
       " <a list of 20 Patch objects>)"
      ]
     },
     "execution_count": 17,
     "metadata": {},
     "output_type": "execute_result"
    },
    {
     "data": {
      "image/png": "[encoded data removed]",
      "text/plain": [
       "<Figure size 432x288 with 1 Axes>"
      ]
     },
     "metadata": {},
     "output_type": "display_data"
    }
   ],
   "source": [
    "plt.hist(samples,bins=20)"
   ]
  },
  {
   "cell_type": "code",
   "execution_count": 18,
   "metadata": {
    "slideshow": {
     "slide_type": "subslide"
    }
   },
   "outputs": [
    {
     "name": "stdout",
     "output_type": "stream",
     "text": [
      "0.17183313110747475\n"
     ]
    }
   ],
   "source": [
    "# posterior probability where p < 0.5\n",
    "print(np.sum( posterior[ p_grid < 0.5 ] ))"
   ]
  },
  {
   "cell_type": "code",
   "execution_count": 19,
   "metadata": {},
   "outputs": [
    {
     "name": "stdout",
     "output_type": "stream",
     "text": [
      "0.1711\n"
     ]
    }
   ],
   "source": [
    "# same by sampling\n",
    "print(np.sum( samples < 0.5 ) / 1e4)"
   ]
  },
  {
   "cell_type": "code",
   "execution_count": 20,
   "metadata": {},
   "outputs": [
    {
     "name": "stdout",
     "output_type": "stream",
     "text": [
      "0.6134\n"
     ]
    }
   ],
   "source": [
    "# intervals of interest\n",
    "print(np.sum( (samples > 0.5) & (samples < 0.75) ) / 1e4)"
   ]
  },
  {
   "cell_type": "code",
   "execution_count": 21,
   "metadata": {},
   "outputs": [
    {
     "data": {
      "text/plain": [
       "array([0.44444444, 0.80808081])"
      ]
     },
     "execution_count": 21,
     "metadata": {},
     "output_type": "execute_result"
    }
   ],
   "source": [
    "# quantiles\n",
    "np.quantile(samples, [0.1,0.9])"
   ]
  },
  {
   "cell_type": "markdown",
   "metadata": {
    "slideshow": {
     "slide_type": "subslide"
    }
   },
   "source": [
    "## Prior predictive distribution"
   ]
  },
  {
   "cell_type": "code",
   "execution_count": 22,
   "metadata": {},
   "outputs": [
    {
     "data": {
      "text/plain": [
       "0.4978"
      ]
     },
     "execution_count": 22,
     "metadata": {},
     "output_type": "execute_result"
    }
   ],
   "source": [
    "p_grid, posterior=posterior_grid_approx(100,0,0,3)\n",
    "pr_samples=np.random.choice(p_grid,size=10000,replace=True,p=posterior)\n",
    "pr_pr_d_samples=np.random.binomial(1,pr_samples)\n",
    "np.sum(pr_pr_d_samples)/1e4"
   ]
  },
  {
   "cell_type": "markdown",
   "metadata": {
    "slideshow": {
     "slide_type": "subslide"
    }
   },
   "source": [
    "## Posterior predictive distribution"
   ]
  },
  {
   "cell_type": "code",
   "execution_count": 23,
   "metadata": {
    "slideshow": {
     "slide_type": "-"
    }
   },
   "outputs": [
    {
     "data": {
      "text/plain": [
       "0.578"
      ]
     },
     "execution_count": 23,
     "metadata": {},
     "output_type": "execute_result"
    }
   ],
   "source": [
    "p_grid, posterior=posterior_grid_approx(100,7,11,3)\n",
    "post_samples=np.random.choice(p_grid,size=10000,replace=True,p=posterior)\n",
    "post_pr_d_samples=np.random.binomial(1,post_samples)\n",
    "np.sum(post_pr_d_samples)/1e4"
   ]
  },
  {
   "cell_type": "code",
   "execution_count": null,
   "metadata": {},
   "outputs": [],
   "source": [
    "post_pr_d_samples"
   ]
  },
  {
   "cell_type": "code",
   "execution_count": null,
   "metadata": {},
   "outputs": [],
   "source": []
  }
 ],
 "metadata": {
  "celltoolbar": "Slideshow",
  "jupytext": {
   "formats": "ipynb"
  },
  "kernelspec": {
   "display_name": "Python 3",
   "language": "python",
   "name": "python3"
  },
  "language_info": {
   "codemirror_mode": {
    "name": "ipython",
    "version": 3
   },
   "file_extension": ".py",
   "mimetype": "text/x-python",
   "name": "python",
   "nbconvert_exporter": "python",
   "pygments_lexer": "ipython3",
   "version": "3.7.7"
  },
  "rise": {
   "autolaunch": true,
   "backimage": "img/tlo_agh.png"
  }
 },
 "nbformat": 4,
 "nbformat_minor": 4
}
