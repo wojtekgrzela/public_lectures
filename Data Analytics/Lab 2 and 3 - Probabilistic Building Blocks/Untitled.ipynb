{
 "cells": [
  {
   "cell_type": "code",
   "execution_count": 59,
   "metadata": {},
   "outputs": [
    {
     "ename": "SyntaxError",
     "evalue": "positional argument follows keyword argument (<ipython-input-59-335c0b440fb9>, line 63)",
     "output_type": "error",
     "traceback": [
      "\u001b[1;36m  File \u001b[1;32m\"<ipython-input-59-335c0b440fb9>\"\u001b[1;36m, line \u001b[1;32m63\u001b[0m\n\u001b[1;33m    grid.map(plt.hist, cumulative=True, \"value\")\u001b[0m\n\u001b[1;37m                                       ^\u001b[0m\n\u001b[1;31mSyntaxError\u001b[0m\u001b[1;31m:\u001b[0m positional argument follows keyword argument\n"
     ]
    }
   ],
   "source": [
    "import pandas as pd\n",
    "import seaborn as sn\n",
    "import numpy as np\n",
    "import matplotlib.pyplot as plt\n",
    "\n",
    "size = 10000\n",
    "\n",
    "# Data_Normal:\n",
    "loc = 11\n",
    "scale = 3\n",
    "data_normal1 = np.random.normal(loc, scale, size)\n",
    "\n",
    "loc = 9\n",
    "scale = 5\n",
    "data_normal2 = np.random.normal(loc, scale, size)\n",
    "\n",
    "loc = 7\n",
    "scale = 7\n",
    "data_normal3 = np.random.normal(loc, scale, size)\n",
    "\n",
    "loc = 5\n",
    "scale = 9\n",
    "data_normal4 = np.random.normal(loc, scale, size)\n",
    "\n",
    "loc = 3\n",
    "scale = 11\n",
    "data_normal5 = np.random.normal(loc, scale, size)\n",
    "\n",
    "'''\n",
    "# Data_Poisson:\n",
    "lam = 0.6\n",
    "data_poisson = np.random.poisson(lam, size)\n",
    "\n",
    "# Data_Beta\n",
    "a = 0.4\n",
    "b = 0.6\n",
    "data_beta = np.random.beta(a, b, size)\n",
    "\n",
    "# Data_Exponential\n",
    "scale = 0.4\n",
    "data_exponential = np.random.exponential(scale,size)\n",
    "'''\n",
    "\n",
    "dict = {'Normal1':data_normal1,\n",
    "       'Normal2':data_normal2,\n",
    "       'Normal3':data_normal3,\n",
    "       'Normal4':data_normal4,\n",
    "       'Normal5':data_normal5}\n",
    "\n",
    "data = pd.DataFrame(dict)\n",
    "print(data)\n",
    "plt.figure()\n",
    "data.plot()\n",
    "data_melted = data.melt()\n",
    "print(data_melted)\n",
    "\n",
    "plt.figure()\n",
    "grid = sn.FacetGrid(data_melted, col=\"variable\", col_wrap=3)\n",
    "grid.map(plt.hist, \"value\")\n",
    "\n",
    "plt.figure()\n",
    "grid = sn.FacetGrid(data_melted, col=\"variable\", col_wrap=3)\n",
    "grid.map(plt.hist, cumulative=True, \"value\")\n"
   ]
  },
  {
   "cell_type": "code",
   "execution_count": null,
   "metadata": {},
   "outputs": [],
   "source": []
  }
 ],
 "metadata": {
  "kernelspec": {
   "display_name": "Python 3",
   "language": "python",
   "name": "python3"
  },
  "language_info": {
   "codemirror_mode": {
    "name": "ipython",
    "version": 3
   },
   "file_extension": ".py",
   "mimetype": "text/x-python",
   "name": "python",
   "nbconvert_exporter": "python",
   "pygments_lexer": "ipython3",
   "version": "3.7.4"
  }
 },
 "nbformat": 4,
 "nbformat_minor": 2
}
