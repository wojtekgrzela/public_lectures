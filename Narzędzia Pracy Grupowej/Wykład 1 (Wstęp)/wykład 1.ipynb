{
 "cells": [
  {
   "cell_type": "markdown",
   "metadata": {
    "collapsed": true,
    "slideshow": {
     "slide_type": "slide"
    }
   },
   "source": [
    "# Narzędzia pracy grupowej\n",
    "\n",
    "## Zagadnienia wstępne\n",
    "\n",
    "### dr inż. Waldemar Bauer"
   ]
  },
  {
   "cell_type": "markdown",
   "metadata": {
    "slideshow": {
     "slide_type": "slide"
    }
   },
   "source": [
    "## Sprawy organizacyjne\n",
    "- C3 216, godziny konsultacji: Czw. 11:00-12:30\n",
    "- bauer@agh.edu.pl\n",
    "- Materiały do przedmiotu są dostępne na [Github](https://github.com/KAIR-ISZ/public_lectures/tree/master/Narzędzia%20Pracy%20Grupowej), Jeżeli zauważycie błedy proszę o założenie tematu na platformie Github."
   ]
  },
  {
   "cell_type": "markdown",
   "metadata": {
    "slideshow": {
     "slide_type": "subslide"
    }
   },
   "source": [
    "## Sprawy organizacyjne cd.\n",
    "- Na laboratorium używać będziemy:\n",
    "    - [Google Docs](https://drive.google.com/)\n",
    "    - [Office 365](https://www.microsoft.com/pl-pl/education/products/office)\n",
    "    - [Slack](https://slack.com/)\n",
    "    - [Trello](https://trello.com/pl)\n",
    "    - [Asana](https://asana.com/)\n",
    "    - [Github](https://github.com/) lub inny serwer kontroli wersji\n",
    "    \n",
    "### Proszę założyć *darmowe* konta na wszystkich platformach do następnych zajęć"
   ]
  },
  {
   "cell_type": "markdown",
   "metadata": {
    "slideshow": {
     "slide_type": "slide"
    }
   },
   "source": [
    "## Zakres kursu\n",
    "- Wstępne pojęcia z pracy grupowej\n",
    "- Komunikacja w zepsole\n",
    "- Zarządzanie zespołem \n",
    "- Systemy współdzielenia i pracy zdalnej na dokumentach\n",
    "- Systemy zarządzania zadanimi\n",
    "- Systemy kontroli wersji"
   ]
  },
  {
   "cell_type": "markdown",
   "metadata": {
    "slideshow": {
     "slide_type": "slide"
    }
   },
   "source": [
    "## Projekt zaliczeniowy\n",
    "- Losowe zespoły pięcio osobowe\n",
    "- Przygotowanie dokumentacji na podstawie otrzymanej specyfikacji\n",
    "- Podzielenie pracy w zespole\n",
    "- Realizacja projektu w systemie zarządzania zadaniami i wersjami"
   ]
  },
  {
   "cell_type": "markdown",
   "metadata": {
    "slideshow": {
     "slide_type": "slide"
    }
   },
   "source": [
    "## Co to jest praca grupowa?\n",
    "\n",
    "- Praca polegająca na **współpracy określonej grupy** ludzi w celu realizacji **wspólnego celu** w **określonej formie**. \n",
    "\n",
    "- W ramach tego kursu skupimy się na zagadnieniach związanych z *realizacją projektu* więc w tym przypadku mówić będziemy o **zespole projektowym**  \n",
    "\n",
    "- Zespół projektowy jest to jednostka organizacyjna, powołana na zasadzie specjalizacji przedmiotowej, realizująca projekt pod bezpośrednim nadzorem kierownika."
   ]
  },
  {
   "cell_type": "markdown",
   "metadata": {
    "slideshow": {
     "slide_type": "subslide"
    }
   },
   "source": [
    "## Charakterystyka zespołu projektowego\n",
    "- mała liczba osób (4-7),\n",
    "- dążenie do wspólnego celu,\n",
    "- składa się z osób uzupełniających się kompetencjami,\n",
    "- zakłada się pełne zaangażowanie w realizację zadań,\n",
    "- wspólna odpowiedzialność,\n",
    "- określene reguły, normy postępowania,\n",
    "- określenie i zrozumienie wzajemnych zależności w grupie,\n",
    "- dbanie o atmosferę wzajemnego szacunku, popieranie innowacyjności i dążenie do doskonałości,\n",
    "- zbieżność celów indywidualnych i zespołowych,\n",
    "- działanie w trybie okresowym."
   ]
  },
  {
   "cell_type": "markdown",
   "metadata": {
    "slideshow": {
     "slide_type": "subslide"
    }
   },
   "source": [
    "## Projekt \n",
    "\n",
    "- Tymczasowe przedsięwzięciem, który ma na celu stworzenie unikalnej usługi lub produktu, posiadający ściśle określony początek i koniec, oraz zakres. \n",
    "\n",
    "- Unikalność oznacza, że efektem projektu jest usługa lub produkt w zauważalny sposób inna niż wszystkie podobne usługi bądź produkty znajdujące się obecnie na rynku. \n",
    "\n",
    "- W każdym projkecie jego rezultaty są mieżalne"
   ]
  },
  {
   "cell_type": "markdown",
   "metadata": {
    "slideshow": {
     "slide_type": "subslide"
    }
   },
   "source": [
    "## Jakość w projekcie\n",
    "<img src=\"img/trojkat-projektowy.jpg\" width=\"500\">"
   ]
  },
  {
   "cell_type": "markdown",
   "metadata": {
    "slideshow": {
     "slide_type": "subslide"
    }
   },
   "source": [
    "## Statystyki związane z realizacją projektów w IT\n",
    "Według raportu Standish Group w 2015 roku \n",
    "\n",
    "1. 29% projektów informatycznych zostało zakończonych sukcesem, czyli zgodnie z harmonogramem, budżetem oraz zadowalającym wynikiem. \n",
    "1. 52% odniosło częściowy sukces, został przekroczony któryś z parametrów.\n",
    "1. 19% projektów IT zakonzyły się niepowodzeniem. \n"
   ]
  },
  {
   "cell_type": "markdown",
   "metadata": {
    "slideshow": {
     "slide_type": "subslide"
    }
   },
   "source": [
    "## Dlaczego projekty końcą się niepowodzeniem\n",
    "\n",
    "<img src=\"img/tree_story.jpg\" width=\"500\">\n",
    "źródło: https://kierownikprojektu.com/2017/11/16/dlaczego-projekty-informatyczne-koncza-sie-prawie-zawsze-fiaskiem/"
   ]
  },
  {
   "cell_type": "markdown",
   "metadata": {
    "slideshow": {
     "slide_type": "subslide"
    }
   },
   "source": [
    "## Dlaczego projekty końcą się niepowodzeniem cd.\n",
    "1. Brak nieumiejętnego zarządzania projektem.\n",
    "1. Brak umiejętności czytelnego zdefiniowania celów podjęcia realizacji projektu.\n",
    "1. Problem w zapewnieniu właściwej komunikacji między stronami zaangażowanymi w projekt."
   ]
  },
  {
   "cell_type": "markdown",
   "metadata": {
    "slideshow": {
     "slide_type": "slide"
    }
   },
   "source": [
    "## Narzędzia pracy grupowej\n",
    "- Programy i techniki używane w czasie realizacji projektu do jego realizcaji\n",
    "\n",
    "- Narzędzia pracy grupowej to:\n",
    "    - metodyki prowadzenia projektu,\n",
    "    - programy stworzone do wspomogania rejestrowania pracy, \n",
    "    - programy stworzone do zachowania wiedzy użyskanej w czasie realizacji projektu, \n",
    "    - programy umożliwiające pracę zdalną pomiędzy członkami zespołu,\n",
    "    - umiejętności techniczne członków zepołu do obsługi powyższego oprogramowania,\n",
    "    - umiejętności miękkie członków zespołu."
   ]
  },
  {
   "cell_type": "markdown",
   "metadata": {
    "slideshow": {
     "slide_type": "subslide"
    }
   },
   "source": [
    "## Narzędzia pracy grupowej\n",
    "- Programy i techniki używane w czasie realizacji projektu do jego realizcaji\n",
    "\n",
    "- Narzędzia pracy grupowej to:\n",
    "    - **metodyki prowadzenia projektu**,\n",
    "    - programy stworzone do wspomogania rejestrowania pracy, \n",
    "    - programy stworzone do zachowania wiedzy użyskanej w czasie realizacji projektu, \n",
    "    - programy umożliwiające pracę zdalną pomiędzy członkami zespołu,\n",
    "    - umiejętności techniczne członków zepołu do obsługi powyższego oprogramowania,\n",
    "    - **umiejętności miękkie członków zespołu**."
   ]
  },
  {
   "cell_type": "markdown",
   "metadata": {
    "slideshow": {
     "slide_type": "subslide"
    }
   },
   "source": [
    "## Metodyki prowadzenia projektu\n",
    "- Metodyka prowdzenia projektu jest pojęciem szeroko rozumianym. W tym kontekście metodyka to ogół zasad, które nakreślają w jaki sposób wykonać daną czynność.\n",
    "\n",
    "- Najważniejsze metodyki prowadzenia projektu: \n",
    "    - Project Management Institute (PMI) - PMBok,\n",
    "    - Prince2,\n",
    "    - Scrum.\n",
    "\n",
    "- Wybór odpowiedniej metodyki, powinnien uwzględniać specyficzne potrzeby firmy, takie jak: rodzaj i ilość realizowanych projektów, powtarzalność przedsięwzięć i ich oczekiwany rezultat."
   ]
  },
  {
   "cell_type": "markdown",
   "metadata": {
    "slideshow": {
     "slide_type": "subslide"
    }
   },
   "source": [
    "## Umiejętności miękkie\n",
    "\n",
    "Są to cechy psychofizyczne i umiejętności społeczne, które decydują o tym, jak członek zespołu zachowuje się, dogaduje z innymi ludźmi czy też organizuje swoją pracę ."
   ]
  },
  {
   "cell_type": "markdown",
   "metadata": {
    "slideshow": {
     "slide_type": "subslide"
    }
   },
   "source": [
    "## Kompetecje miękkie \n",
    "\n",
    "1. Umiejętności osobiste (np. radzenie sobie ze stresem)\n",
    "1. Umiejętności interpersonalne (np. motywowanie innych do pracy)\n",
    "1. Trudne do zweryfikowania, podlegają subiektywnej ocenie\n",
    "1. Kompetencje uniwersalne, które przydają się na różnych stanowiskach\n",
    "1. Pomagają współpracować z zespołem, przełożonymi i klientami\n",
    "1. Proces ich rozwijania jest bardziej złożony i zazwyczaj trudniejszy"
   ]
  }
 ],
 "metadata": {
  "celltoolbar": "Slideshow",
  "jupytext": {
   "formats": "ipynb"
  },
  "kernelspec": {
   "display_name": "Python 3",
   "language": "python",
   "name": "python3"
  },
  "language_info": {
   "codemirror_mode": {
    "name": "ipython",
    "version": 3
   },
   "file_extension": ".py",
   "mimetype": "text/x-python",
   "name": "python",
   "nbconvert_exporter": "python",
   "pygments_lexer": "ipython3",
   "version": "3.7.6"
  },
  "rise": {
   "autolaunch": true,
   "backimage": "img/tlo_agh.png"
  }
 },
 "nbformat": 4,
 "nbformat_minor": 2
}
