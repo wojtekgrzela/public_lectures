{
 "cells": [
  {
   "cell_type": "markdown",
   "metadata": {
    "collapsed": true,
    "slideshow": {
     "slide_type": "slide"
    }
   },
   "source": [
    "# Narzędzia pracy grupowej\n",
    "\n",
    "## Role w zespole\n",
    "\n",
    "### dr inż. Waldemar Bauer"
   ]
  },
  {
   "cell_type": "markdown",
   "metadata": {
    "slideshow": {
     "slide_type": "slide"
    }
   },
   "source": [
    "## Sprawy organizacyjne, lekkie modyfiakcje\n",
    "\n",
    "- Konsultacje do projektów w formie maili - proszę tytuł zaczynać od \\[NPG\\]\n",
    "- Dane prowadzącym dostępu do przygotowywanych dokumentacji\n",
    "- Laboratoria samodzielnie na podstawie konspektów z [UPL NPG2020](https://upel2.cel.agh.edu.pl/weaiib/course/view.php?id=682)"
   ]
  },
  {
   "cell_type": "markdown",
   "metadata": {
    "slideshow": {
     "slide_type": "slide"
    }
   },
   "source": [
    "## Zespół projektowy\n",
    "\n",
    "- Jednostka organizacyjna, powołana na zasadzie specjalizacji przedmiotowej, realizująca projekt pod bezpośrednim nadzorem kierownika.\n",
    "- Jego dobór jest kluczowy do osiągnięcia celów projektu.\n",
    "- Każdy członek zespołu otrzymuje rolę formalną, którą będzie musiał wykonywać.\n",
    "- Poza rolami formalnymi każdy z nas pełni role wynikając z naszej osobowości lub umiejętności miękkich."
   ]
  },
  {
   "cell_type": "markdown",
   "metadata": {
    "slideshow": {
     "slide_type": "subslide"
    }
   },
   "source": [
    "## Dysfunkcje w  pracy zespołu\n",
    "\n",
    "- Brak komunikacji \n",
    "- Brak zaufania\n",
    "- Konflikty między członkami zepołu\n",
    "- Brak zaangażowania \n",
    "- Unikanie odpowiedzialności \n",
    "- Brak dbałości o wyniki\n",
    "\n",
    "### <center>  **Jak temu zapobiec?** </center>"
   ]
  },
  {
   "cell_type": "markdown",
   "metadata": {
    "slideshow": {
     "slide_type": "slide"
    }
   },
   "source": [
    "## Jak dobrać zespół projektowy\n",
    "- Analiza celu projektu i sformułowanie wymagań wobec zespołu\n",
    "- Dobranie merytorycznie członków zespołu\n",
    "- Dobranie członków zespołu ze względu na ich osobowość"
   ]
  },
  {
   "cell_type": "markdown",
   "metadata": {
    "slideshow": {
     "slide_type": "subslide"
    }
   },
   "source": [
    "## Etapy budowania zespołu projektowego\n",
    "1. Formowanie\n",
    "1. Dostosowanie\n",
    "1. Częściowe zintegrowanie \n",
    "1. Pełna integracja"
   ]
  },
  {
   "cell_type": "markdown",
   "metadata": {
    "slideshow": {
     "slide_type": "slide"
    }
   },
   "source": [
    "## Role formalne\n",
    "- Wynikają z przyjętej metodyki prowadzenia projektu lub merytorycznej funkcji pełniej w zespole.\n",
    "- Wyznaczają zakres obowiązków członków zespołu.\n",
    "- Umożliwiają tworzenie procedur pracy w projekcie.\n",
    "- Ułatwiają komunikację między członkami zespołu.\n",
    "- Łatwo zdefiniować wskaźniki oceny pracy członka zespołu."
   ]
  },
  {
   "cell_type": "markdown",
   "metadata": {
    "slideshow": {
     "slide_type": "subslide"
    }
   },
   "source": [
    "## Przykład ról dla metodyki PRINCE2\n",
    "<img src=\"img/role_prince.png\" width=\"500\">"
   ]
  },
  {
   "cell_type": "markdown",
   "metadata": {
    "slideshow": {
     "slide_type": "slide"
    }
   },
   "source": [
    "## Role merytoryczne\n",
    "- Specjalista do spraw automatyki\n",
    "- Programista\n",
    "- Analityk biznesowy\n",
    "- Kierownik projektu\n",
    "- Kierownik zespołu/Tech Lider/Scrum master\n",
    "- itd."
   ]
  },
  {
   "cell_type": "markdown",
   "metadata": {
    "slideshow": {
     "slide_type": "slide"
    }
   },
   "source": [
    "## Role nieformalne w ujęciu Belbina\n",
    "\n",
    "- Nastawione na realizację zadań (lokomotywa, realizator, perfekcjonista) \n",
    "- Zorientowane na ludzi (koordynator, łącznik, dusza zespołu)\n",
    "- Intelektualne (specjalista, myśliciel, krytyk wartościujący)"
   ]
  },
  {
   "cell_type": "markdown",
   "metadata": {
    "slideshow": {
     "slide_type": "subslide"
    }
   },
   "source": [
    "## Lokomotywa\n",
    "\n",
    "### Charakterystyka:\n",
    "- motywuje zespół do działania,\n",
    "- rozwiązuje sytuacje kryzysowe,\n",
    "- nie skupia się na problemach interpersonalnych,\n",
    "- sprawnie wprowadza zmiany,\n",
    "- gwarantująca sprawne działanie zespołu,\n",
    "- wyznacza praktyczne cele.\n",
    "\n",
    "**Zalety**: odporność na stres, efektywność, towarzyskość\n",
    "\n",
    "**Wady**: niecierpliwość, apodyktyczność"
   ]
  },
  {
   "cell_type": "markdown",
   "metadata": {
    "slideshow": {
     "slide_type": "subslide"
    }
   },
   "source": [
    "## Realizator\n",
    "\n",
    "### Charakterystyka:\n",
    "- skupia się na wykonaniu celu,\n",
    "- sumienność,\n",
    "- wspiera innych członków zespołu w trudnych sytuacjach.\n",
    "\n",
    "**Zalety**: umiejętność przystosowania się, zorganizowanie, praktyczność\n",
    "\n",
    "**Wady**: brak inicjatywy, bierność"
   ]
  },
  {
   "cell_type": "markdown",
   "metadata": {
    "slideshow": {
     "slide_type": "subslide"
    }
   },
   "source": [
    "## Perfekcjonista\n",
    "\n",
    "\n",
    "### Charakterystyka:\n",
    "- dba o detale w projekcie,\n",
    "- osoba odpowiednia do zadań wymagających skupienia i precyzji,\n",
    "- silne nastawienie na cel.\n",
    "\n",
    "**Zalety**: opanowanie, dbałość o szczegóły\n",
    "\n",
    "**Wady**: pedanteria, brak kompromisów"
   ]
  },
  {
   "cell_type": "markdown",
   "metadata": {
    "slideshow": {
     "slide_type": "subslide"
    }
   },
   "source": [
    "## Koordynator\n",
    "\n",
    "### Charakterystyka:\n",
    "- kieruje pracą zespołu,\n",
    "- rozwiązuje problemy,\n",
    "\n",
    "**Zalety**: dążenie do celu, ufność, opanowanie\n",
    "\n",
    "**Wady**: brak ambicji\n"
   ]
  },
  {
   "cell_type": "markdown",
   "metadata": {
    "slideshow": {
     "slide_type": "subslide"
    }
   },
   "source": [
    "## Łącznik\n",
    "\n",
    "### Charakterystyka:\n",
    "- dba o zasoby w projekcie,\n",
    "- posiada rozbudowaną sieć kontaktów,\n",
    "- prowadzi sprawnie negocjacje\n",
    "- potrafi pozyskiwać niezbędne zasoby w sytuacjach kryzysowych\n",
    "\n",
    "**Zalety**: zaradność, komunikatywność, towarzyskość \n",
    "\n",
    "**Wady**: kapryśność"
   ]
  },
  {
   "cell_type": "markdown",
   "metadata": {
    "slideshow": {
     "slide_type": "subslide"
    }
   },
   "source": [
    "## Dusza zespołu\n",
    "\n",
    "### Charakterystyka:\n",
    "- zapobiega konfliktom w zespole,\n",
    "- wspiera wszystkich członków zespołu,\n",
    "- unika konfrontacji z innymi członkami zespołu,\n",
    "- dba bardziej o zespół niż o realizowany projekt.\n",
    "\n",
    "**Zalety**: entuzjazm, komunikatywność, dbanie o innych członków zespołu, umiejętność rozładowywania złych emocji\n",
    "\n",
    "**Wady**: uległość, skupianie się na członkach zespołu bardziej niż na realizowanym celu "
   ]
  },
  {
   "cell_type": "markdown",
   "metadata": {
    "slideshow": {
     "slide_type": "subslide"
    }
   },
   "source": [
    "## Specjalista\n",
    "\n",
    "### Charakterystyka:\n",
    "- ocenia projekt,\n",
    "- dostarcza unikatową wiedzę i umiejętności,\n",
    "- osoba zachowująca dystans,\n",
    "- bywa nieprzyjemna w kontakcie,\n",
    "- analizuje wszystkie działania.\n",
    "\n",
    "**Zalety**: analityczność, bezstronność, chłodna ocena, rozwaga\n",
    "\n",
    "**Wady**: tendencja do przeceniania samego siebie, brak elastyczności w działaniu, zbyt krytyczny wobec członków zespołu"
   ]
  },
  {
   "cell_type": "markdown",
   "metadata": {
    "slideshow": {
     "slide_type": "subslide"
    }
   },
   "source": [
    "## Myśliciel\n",
    "\n",
    "### Charakterystyka:\n",
    "- wymyśla nowe kierunki rozwoju i idee,\n",
    "- osoba kreatywna,\n",
    "- samotnik,\n",
    "- ekscentryk,\n",
    "- rozwiązuje problemy w kreatywny sposób,\n",
    "- \"mózg zespołu\".\n",
    "\n",
    "**Zalety**: innowacyjność, powaga, opanowanie\n",
    "\n",
    "**Wady**: chaotyczność, potrafi obrażać się na zespół"
   ]
  },
  {
   "cell_type": "markdown",
   "metadata": {
    "slideshow": {
     "slide_type": "subslide"
    }
   },
   "source": [
    "## Krytyk wartościujący\n",
    "\n",
    "### Charakterystyka:\n",
    "- podejmuje optymalne decyzję,\n",
    "- szczegółowa analiza problemów i celów,\n",
    "- poszukuje problemów w gotowych rozwiązaniach,\n",
    "- jego działania eliminują błędy.\n",
    "\n",
    "**Zalety**: pragmatyczność, opanowanie\n",
    "\n",
    "**Wady**: samotnik, odbierany przez resztę zespołu jako wróg wewnętrzny"
   ]
  },
  {
   "cell_type": "markdown",
   "metadata": {
    "slideshow": {
     "slide_type": "slide"
    }
   },
   "source": [
    "## Podsumowanie\n",
    "- Zespół projektowy i jego struktura są trudne do jednoznacznego zdefiniowania\n",
    "- Wybór zespołu projektowego jest kluczowy do efektywnej realizacji projektu\n",
    "- Określenie ról członków zespołu pozwala efektywnie zarządzać zespołem"
   ]
  }
 ],
 "metadata": {
  "celltoolbar": "Slideshow",
  "jupytext": {
   "formats": "ipynb"
  },
  "kernelspec": {
   "display_name": "Python 3",
   "language": "python",
   "name": "python3"
  },
  "language_info": {
   "codemirror_mode": {
    "name": "ipython",
    "version": 3
   },
   "file_extension": ".py",
   "mimetype": "text/x-python",
   "name": "python",
   "nbconvert_exporter": "python",
   "pygments_lexer": "ipython3",
   "version": "3.7.4"
  },
  "rise": {
   "autolaunch": true,
   "backimage": "img/tlo_agh.png"
  }
 },
 "nbformat": 4,
 "nbformat_minor": 2
}
