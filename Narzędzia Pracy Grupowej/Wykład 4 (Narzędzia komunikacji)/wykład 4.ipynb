{
 "cells": [
  {
   "cell_type": "markdown",
   "metadata": {
    "collapsed": true,
    "slideshow": {
     "slide_type": "slide"
    }
   },
   "source": [
    "# Narzędzia pracy grupowej\n",
    "\n",
    "## Narzędzia komunikacji\n",
    "\n",
    "### dr inż. Waldemar Bauer"
   ]
  },
  {
   "cell_type": "markdown",
   "metadata": {
    "slideshow": {
     "slide_type": "slide"
    }
   },
   "source": [
    "## Co widzicie na obrazku?\n",
    "\n",
    "<img src='img/boa1.gif'>"
   ]
  },
  {
   "cell_type": "markdown",
   "metadata": {
    "slideshow": {
     "slide_type": "fragment"
    }
   },
   "source": [
    "<img src='img/boa2.gif'>\n",
    "\n",
    "```\n",
    " Dorośli nigdy nie potrafią sami zrozumieć. \n",
    " A dzieci bardzo męczy konieczność stałego objaśniania.\n",
    "```\n",
    "\n",
    "\n",
    "                     Antoine de Saint-Exupéry, Mały Książe\n",
    "[źródło](http://biblioteka.kijowski.pl/st_exupery%20%20antoine%20de/polski/01.htm)"
   ]
  },
  {
   "cell_type": "markdown",
   "metadata": {
    "slideshow": {
     "slide_type": "slide"
    }
   },
   "source": [
    "##  Komunikacja\n",
    "\n",
    "```\n",
    "1. «ruch środków lokomocji między odległymi od siebie miejscami; też: drogi, szlaki i środki lokomocji»\n",
    "2. «przepływ informacji między urządzeniami, np. telefonami lub komputerami»\n",
    "3. «przekazywanie i odbieranie informacji w bezpośrednim kontakcie z drugą osobą»\n",
    "4. «możliwość przedostania się z jednego pomieszczenia lub miejsca do drugiego»\n",
    "```\n",
    "[źródło](https://sjp.pwn.pl/sjp/;2472911)"
   ]
  },
  {
   "cell_type": "markdown",
   "metadata": {
    "slideshow": {
     "slide_type": "subslide"
    }
   },
   "source": [
    "## Komunikacja interpersonalna\n",
    "\n",
    "- Wymiana komunikatów werbalnych i niewerbalnych w celu przekazania informacji innym osobom.\n",
    "\n",
    "- Komunikat który tworzymy może zawierać wiele elementów takich jak: tekst słowny, rysunki, gesty, mimika, itd..\n",
    "\n",
    "- Komunikat jest dostosowany do środowiska w którym jest wypowiadany.\n",
    "\n",
    "- Jest to proces obu strony, to znaczy odbiorca i nadawca komunikatów zmieniają się rolami."
   ]
  },
  {
   "cell_type": "markdown",
   "metadata": {
    "slideshow": {
     "slide_type": "slide"
    }
   },
   "source": [
    "## Rodzaje komunikacji w zespole\n",
    "\n",
    "1. Formalne\n",
    "2. Nieformalne"
   ]
  },
  {
   "cell_type": "markdown",
   "metadata": {
    "slideshow": {
     "slide_type": "slide"
    }
   },
   "source": [
    "## Czego możemy używać w komunikacji zespołowej?\n",
    "\n",
    "- Dokumentacji\n",
    "- Spotkań z zespołem, klientem, współwykonawcą, itd. \n",
    "- Systemów zarządzania projektami\n",
    "- Wiki\n",
    "- Współdzielonych dokumentów\n",
    "- Maili \n",
    "- Telefonów\n",
    "- Komunikatorów\n"
   ]
  },
  {
   "cell_type": "markdown",
   "metadata": {
    "slideshow": {
     "slide_type": "slide"
    }
   },
   "source": [
    "## Dobra komunikacja w zespole\n",
    "\n",
    "\n",
    "1. Racjonalnie sformalizowana\n",
    "\n",
    "1. Efektywna\n",
    "\n",
    "1. Operuje tym \"*samym*\" językiem\n",
    "\n",
    "1. Otwarta i szczera\n",
    "\n",
    "1. Rozwiązuje problemy w momencie ich zaistnienia\n",
    "\n",
    "1. Zawiera informację zwrotną od członków zespołu \n",
    "\n",
    "1. Opiera się o zaufanie wobec komunikatów innych członków zespołu"
   ]
  },
  {
   "cell_type": "markdown",
   "metadata": {
    "slideshow": {
     "slide_type": "subslide"
    }
   },
   "source": [
    "## Racjonalna formalizacja komunikacji\n",
    "\n",
    "1. Wyznaczenie formalnych kanałów komunikacji.\n",
    "1. Przypisanie osób do kanałów komunikacji i tematów.\n",
    "1. Ustalenie reguł dotyczących czasu odpowiedzi w poszczególnych kanałach komunikacji. \n",
    "1. Wyznaczenie zasad aktualizacji informacji.\n",
    "1. Określenie co i jak zapisujemy w formalnych kanałach komunikacji.\n",
    "1. Zdefiniowanie systemu priorytetów i/lub tagów.\n",
    "1. Automatyzacja procesów komunikacji "
   ]
  },
  {
   "cell_type": "markdown",
   "metadata": {
    "slideshow": {
     "slide_type": "slide"
    }
   },
   "source": [
    "## Ogólne zasady efektywnej komunikacji \n",
    "\n",
    "- Jeden konkretny cel komunikatu\n",
    "- Zwięzłość wiadomości\n",
    "- Czytelność i przejrzystość\n",
    "- Odpowiedni dobór języka i stylu, w celu uniknięcia niedomówień."
   ]
  },
  {
   "cell_type": "markdown",
   "metadata": {
    "slideshow": {
     "slide_type": "subslide"
    }
   },
   "source": [
    "## Efektywna komunikacja w dokumentacji\n",
    "\n",
    "- Zmiany w dokumentacji projektu dokonujemy tylko gdy jest to niezbędne.\n",
    "- Zapisujemy kopię pierwotnej wersji dokumentacji\n",
    "- Zmian dokonuje tylko osoba odpowiedzialna za utrzymanie dokumentacji projektu za zgodą zarządcy projektu.\n",
    "- Informujemy innych członków zespołu o zmianach."
   ]
  },
  {
   "cell_type": "markdown",
   "metadata": {
    "slideshow": {
     "slide_type": "subslide"
    }
   },
   "source": [
    "## Efektywna komunikacja na spotkaniu\n",
    "\n",
    "- Wyznaczenie moderatora spotkania.\n",
    "- Przygotowanie agendy spotkania.\n",
    "- Wyznaczenie czasu trwania spotkania.\n",
    "- Zaproszenie tylko tych osób których dotyczy temat spotkania.\n",
    "- Prowadzenie notatek w trakcie spotkania - dobrze żeby wszyscy uczestnicy mieli do niej dostęp.\n",
    "- Zapisanie dyskusji w postaci notatki ze spotkania, a następnie poproszenie o jej akceptację wszystkich uczestników "
   ]
  },
  {
   "cell_type": "markdown",
   "metadata": {
    "slideshow": {
     "slide_type": "subslide"
    }
   },
   "source": [
    "## Efektywna komunikacja przez system zarządzania projektami\n",
    "\n",
    "- Używanie automatycznych komunikatów.\n",
    "- Raportowanie bieżących postępów prac.\n",
    "- Komentowanie postępów zgodnie z postępem prac.\n",
    "- Aktualizacja zadań po zmianach w zakresie pracy.\n",
    "- Nadawanie zadaniom priorytetów.\n",
    "- Śledzenie postępów w zadaniach w których bierzemy udział."
   ]
  },
  {
   "cell_type": "markdown",
   "metadata": {
    "slideshow": {
     "slide_type": "subslide"
    }
   },
   "source": [
    "## Efektywna komunikacja przez Wiki/dokumenty współdzielone\n",
    "\n",
    "- Dodawanie nowych informacji do odpowiednich działów/dokumentów.\n",
    "- Tworzenie nowych działów/dokumentów gdy jest to uzasadnione.\n",
    "- Jasny opis zagadnień, związanych z nimi problemami i możliwymi rozwiązaniami.\n",
    "- Dodawanie odpowiednich załączników lub odwołań dotyczących tematu.\n",
    "- Informacja o dodaniu nowych informacji innym członkom zespołu."
   ]
  },
  {
   "cell_type": "markdown",
   "metadata": {
    "slideshow": {
     "slide_type": "subslide"
    }
   },
   "source": [
    "## Efektywna komunikacja mailowa\n",
    "\n",
    "- Jeden mail jedna sprawa.\n",
    "- Skierowanie maila do osób odpowiedzialny za dany zakres.\n",
    "- Tytuł wiadomości adekwatny do treści.\n",
    "- Używanie tagów w tematach wiadomości.\n",
    "- Dodawanie odpowiednich załączników lub odowłań dotyczących tematu maila.\n",
    "- Tworzenie filtrów i podfolderów w skrzynce odbiorczej.\n",
    "- Stosowanie list mailingowych."
   ]
  },
  {
   "cell_type": "markdown",
   "metadata": {
    "slideshow": {
     "slide_type": "subslide"
    }
   },
   "source": [
    "## Efektywna komunikacja telefoniczna\n",
    "\n",
    "- Nie przeciągamy rozmowy jeżeli nie jest to niezbędne do realizacji założonego celu.\n",
    "- Nie oczekujemy podjęcia kluczowych decyzji w krótkiej rozmowie telefonicznej.\n",
    "- Do długich rozmów telefonicznych przygotowujemy:\n",
    "    - umawiamy rozmówcę na konkretny termin,\n",
    "    - listę tematów do omówienia,\n",
    "    - przygotowujemy notatkę,\n",
    "    - potwierdzamy notatkę u rozmówcy."
   ]
  },
  {
   "cell_type": "markdown",
   "metadata": {
    "slideshow": {
     "slide_type": "subslide"
    }
   },
   "source": [
    "## Efektywna komunikacja za pomocą komunikatorów\n",
    "\n",
    "- Tworzymy kanały tematyczne.\n",
    "- Piszemy komunikaty zgodne z tematyką kanału.\n",
    "- Wymieniamy informacje niezbędne do realizacji zadań."
   ]
  }
 ],
 "metadata": {
  "celltoolbar": "Slideshow",
  "jupytext": {
   "formats": "ipynb"
  },
  "kernelspec": {
   "display_name": "Python 3",
   "language": "python",
   "name": "python3"
  },
  "language_info": {
   "codemirror_mode": {
    "name": "ipython",
    "version": 3
   },
   "file_extension": ".py",
   "mimetype": "text/x-python",
   "name": "python",
   "nbconvert_exporter": "python",
   "pygments_lexer": "ipython3",
   "version": "3.7.6"
  },
  "rise": {
   "autolaunch": true,
   "backimage": "img/tlo_agh.png"
  }
 },
 "nbformat": 4,
 "nbformat_minor": 2
}
