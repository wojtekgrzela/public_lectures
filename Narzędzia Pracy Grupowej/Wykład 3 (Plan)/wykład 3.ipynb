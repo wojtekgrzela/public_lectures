{
 "cells": [
  {
   "cell_type": "markdown",
   "metadata": {
    "collapsed": true,
    "slideshow": {
     "slide_type": "slide"
    }
   },
   "source": [
    "# Narzędzia pracy grupowej\n",
    "\n",
    "## Plan\n",
    "\n",
    "### dr inż. Waldemar Bauer"
   ]
  },
  {
   "cell_type": "markdown",
   "metadata": {
    "slideshow": {
     "slide_type": "slide"
    }
   },
   "source": [
    "## Czym jest plan?\n",
    "\n",
    "### Definicja ogólna\n",
    "```\n",
    "Szczegółowa propozycja  wykonania lub osiągnięcia zamierzonego celu określająca co, \n",
    "kiedy, jak i przez kogo zostanie wykonane w celu osiągnięcia założonych efektów.\n",
    "```\n",
    "\n",
    "W zarządzaniu projektami istnieje wiele typów planów, dla przykładu w PRINCE2 zdefiniowano:\n",
    "- plan projektu\n",
    "- plan etapu\n",
    "- plan zespołu\n",
    "- plan nadzwyczajny"
   ]
  },
  {
   "cell_type": "markdown",
   "metadata": {
    "slideshow": {
     "slide_type": "subslide"
    }
   },
   "source": [
    "## Znaczenie planu w projekcie\n",
    "\n",
    "- Podstawowe narzędzie do stworzenia harmonogramu projektu.\n",
    "- Pokazuje co należny dostarczyć\n",
    "- Umożliwia określenie zależności między poszczególnymi zadaniami.\n",
    "- Oszacowuje zużycie zasobów projektu w czasie.\n",
    "- **Umożliwia kontrolę w projekcie.**"
   ]
  },
  {
   "cell_type": "markdown",
   "metadata": {
    "slideshow": {
     "slide_type": "slide"
    }
   },
   "source": [
    "## Planowanie oparte o produkt (cele projektu)\n",
    "\n",
    "- Określenie kluczowych produktów będących efektami projektu.\n",
    "- Określenie kolejności dostarczania produktów, określenie tzw. kamieni milowych.\n",
    "- Określenie etapów projektu i zasobów niezbędnych do ich realizacji."
   ]
  },
  {
   "cell_type": "markdown",
   "metadata": {
    "slideshow": {
     "slide_type": "subslide"
    }
   },
   "source": [
    "## Określenie wymagań\n",
    "- Ustalanie wymagań\n",
    "- Specyfikacja wymagań – tworzenie formalnego opisu wymagań\n",
    "- Atestacja (walidacji) wymagań – etap na którym odpowiadamy na pytanie czy wymagania są realne"
   ]
  },
  {
   "cell_type": "markdown",
   "metadata": {
    "slideshow": {
     "slide_type": "subslide"
    }
   },
   "source": [
    "## Metoda SMART\n",
    "<img src=\"img/smart.png\" >"
   ]
  },
  {
   "cell_type": "markdown",
   "metadata": {
    "slideshow": {
     "slide_type": "subslide"
    }
   },
   "source": [
    "## Przykład struktury produktów w projekcie\n",
    "<img src=\"img/diagram_produktu.png\" >"
   ]
  },
  {
   "cell_type": "markdown",
   "metadata": {
    "slideshow": {
     "slide_type": "slide"
    }
   },
   "source": [
    "## Struktura podziału pracy (**ang.** Work Breakdown Structure - WBS)\n",
    "\n",
    "- Hierarchiczny opis działań i zadań, których wykonania jest niezbędne w celu wykonania projektu.\n",
    "- Zazwyczaj składa się z trzech poziomów:\n",
    "    - podział projektu na fazy,\n",
    "    - podział faz na etapy,\n",
    "    - podział etapów na zadania. "
   ]
  },
  {
   "cell_type": "markdown",
   "metadata": {
    "slideshow": {
     "slide_type": "subslide"
    }
   },
   "source": [
    "## Podejście do tworzenia WBS\n",
    "\n",
    "1. Podejście przedmiotowe \n",
    "1. Podejście czynnościowe \n",
    "1. Podejście organizacyjne"
   ]
  },
  {
   "cell_type": "markdown",
   "metadata": {
    "slideshow": {
     "slide_type": "subslide"
    }
   },
   "source": [
    "## Metody tworzenia WBS\n",
    "- Metoda zstępując  (top-down)\n",
    "- Metoda burzy mózgów (brainstorming) "
   ]
  },
  {
   "cell_type": "markdown",
   "metadata": {
    "slideshow": {
     "slide_type": "subslide"
    }
   },
   "source": [
    "## Struktura harmonogramu\n",
    "\n",
    "- Zadania sumaryczne\n",
    "- Pod zadania\n",
    "- Kamienie milowe\n"
   ]
  },
  {
   "cell_type": "markdown",
   "metadata": {
    "slideshow": {
     "slide_type": "subslide"
    }
   },
   "source": [
    "## Podstawowe parametry zadania\n",
    "- Nazwa\n",
    "- Opis\n",
    "- Zależności od innych zadań\n",
    "- Zasoby potrzebne do realizacji\n",
    "- Czas trwania"
   ]
  },
  {
   "cell_type": "markdown",
   "metadata": {
    "slideshow": {
     "slide_type": "subslide"
    }
   },
   "source": [
    "## Graficzne reprezentacje\n",
    "- Lista wielopoziomowa\n",
    "- Drzewo\n",
    "- Wykres Gantta\n",
    "- Wykres PERT"
   ]
  },
  {
   "cell_type": "markdown",
   "metadata": {
    "slideshow": {
     "slide_type": "subslide"
    }
   },
   "source": [
    "## Przykład Listy wielopoziomowej\n",
    "\n",
    "<img src=\"img/lista.png\" >"
   ]
  },
  {
   "cell_type": "markdown",
   "metadata": {
    "slideshow": {
     "slide_type": "subslide"
    }
   },
   "source": [
    "## Przykład wykresu Gantta\n",
    "\n",
    "<img src=\"img/gantt.png\" >"
   ]
  },
  {
   "cell_type": "markdown",
   "metadata": {
    "slideshow": {
     "slide_type": "slide"
    }
   },
   "source": [
    "## Szacowanie czasu realizacji zadań\n",
    "\n",
    "- Jedna z procedur zarządzania czasem w projekcie.\n",
    "\n",
    "- Wynikiem jest wyznaczenie prawdopodobnego czasu realizacji projektu. \n",
    "\n",
    "- Tworzony na podstawie WBS "
   ]
  },
  {
   "cell_type": "markdown",
   "metadata": {
    "slideshow": {
     "slide_type": "subslide"
    }
   },
   "source": [
    "## Problemy estymacji czasu zadania\n",
    "\n",
    "- Nie jednoznaczne założenia dotyczące warunków wykonania zadania.\n",
    "- Zespół przecenia swoje możliwości lub ...  \n",
    "- ... nie brał udziału w określaniu czasu wykonania zadania.\n",
    "- Chęć zadowolenia przełożonych.\n",
    "- Brak aktualizacji estymacji w trakcie realizacji projektu."
   ]
  },
  {
   "cell_type": "markdown",
   "metadata": {
    "slideshow": {
     "slide_type": "subslide"
    }
   },
   "source": [
    "## Czynniki determinujące czas trwania zadań\n",
    "\n",
    "- Ilość zasobów.\n",
    "- Wydajność zasobów.\n",
    "- Ilość pracy ludzkiej i maszynowej.\n",
    "- Dostępność zasobów.\n",
    "- Specyfika procesów potrzebnych do wykonania zadań.\n",
    "- Opóźnienia które można przewidzieć."
   ]
  },
  {
   "cell_type": "markdown",
   "metadata": {
    "slideshow": {
     "slide_type": "subslide"
    }
   },
   "source": [
    "## Sposoby szacowania czasu zadań\n",
    "\n",
    "- Opinia ekspertów\n",
    "- Szacowanie porównawcze oparte o wiedzę historyczną\n",
    "- Szacowanie parametryczne\n",
    "- Szacowanie trójpunktowe\n"
   ]
  },
  {
   "cell_type": "markdown",
   "metadata": {
    "slideshow": {
     "slide_type": "slide"
    }
   },
   "source": [
    "## Podsumowanie \n",
    "\n",
    "Dzięki tworzeniu planu możliwe jest:\n",
    "- dokonanie podziału obowiązków,\n",
    "- przypisanie zadania do określonych zasobów,\n",
    "- oszacowanie czasów w  projekcie,\n",
    "- oszacowanie budżetu projektu,\n",
    "- monitorowanie i tworzenie raportów dotyczących postępów oraz zużytych środków finansowych,\n",
    "- identyfikowanie i analizowanie problemów związanych z projektem."
   ]
  }
 ],
 "metadata": {
  "celltoolbar": "Slideshow",
  "jupytext": {
   "formats": "ipynb"
  },
  "kernelspec": {
   "display_name": "Python 3",
   "language": "python",
   "name": "python3"
  },
  "language_info": {
   "codemirror_mode": {
    "name": "ipython",
    "version": 3
   },
   "file_extension": ".py",
   "mimetype": "text/x-python",
   "name": "python",
   "nbconvert_exporter": "python",
   "pygments_lexer": "ipython3",
   "version": "3.7.6"
  },
  "rise": {
   "autolaunch": true,
   "backimage": "img/tlo_agh.png"
  }
 },
 "nbformat": 4,
 "nbformat_minor": 2
}
