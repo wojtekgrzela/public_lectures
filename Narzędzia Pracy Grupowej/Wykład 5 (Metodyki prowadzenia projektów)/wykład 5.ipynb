{
 "cells": [
  {
   "cell_type": "markdown",
   "metadata": {
    "collapsed": true,
    "slideshow": {
     "slide_type": "slide"
    }
   },
   "source": [
    "# Narzędzia pracy grupowej\n",
    "\n",
    "## Metodyki prowadzenia projektu\n",
    "\n",
    "### dr inż. Waldemar Bauer"
   ]
  },
  {
   "cell_type": "markdown",
   "metadata": {
    "slideshow": {
     "slide_type": "slide"
    }
   },
   "source": [
    "## Metodyka zarządzania projektem\n",
    "\n",
    "- Zbiór metod zarządzania projektem.\n",
    "- Dzięki odpowiedniej metodyce możliwe jest uzyskanie maksymalnej wydajności w zakresie realizacji projektu. \n",
    "- Definiuje narzędzia i metody które służą do osiągnięcie zaplanowanego celu.\n"
   ]
  },
  {
   "cell_type": "markdown",
   "metadata": {
    "slideshow": {
     "slide_type": "slide"
    }
   },
   "source": [
    "##  Metodyki zarządzania projektami\n",
    "\n",
    "- PRINCE2\n",
    "\n",
    "- PMI PMbok\n",
    "\n",
    "- Metodyka kaskadowa (Waterfall) \n",
    "\n",
    "- Metodyka spiralna (Spiral) \n",
    "\n",
    "- Metodyki zwinne (Agile)\n",
    "    - Kanban\n",
    "    - Scrum\n",
    "    - Lean"
   ]
  },
  {
   "cell_type": "markdown",
   "metadata": {
    "slideshow": {
     "slide_type": "slide"
    }
   },
   "source": [
    "##  PRINCE2\n",
    "\n",
    "- **PR**ojects **IN** **C**ontrolled **E**nvironments (projekty w sterowalnym środowisku).\n",
    "\n",
    "- Najważniejsze części to 7 pryncypiów, opis produktu (jeden z tematów) i procedury (struktura projektu).\n",
    "\n",
    "- Jedna z najczęściej stosowanych metodyk zarządzania projektami.\n",
    "\n",
    "- Metodyka nastawiona na produkt.\n",
    "\n",
    "- Produkt musi wypracować minimum zamierzone korzyści dla przedsiębiorstwa.\n"
   ]
  },
  {
   "cell_type": "markdown",
   "metadata": {
    "slideshow": {
     "slide_type": "subslide"
    }
   },
   "source": [
    "## Pryncypia  PRINCE2\n",
    "\n",
    "1. Ciągła zasadność biznesowa (ang. continued business justification)\n",
    "1. Korzystanie z doświadczeń (ang. learn from experience)\n",
    "1. Zdefiniowane role i obowiązki (ang. defined roles and responsibilities)\n",
    "1. Zarządzanie etapowe (ang. management by stages)\n",
    "1. Zarządzanie z wykorzystaniem tolerancji (ang. manage by exception)\n",
    "1. Koncentracja na produktach (ang. focus on products)\n",
    "1. Dostosowanie do warunków projektu (ang. tailored to suit the project environment)"
   ]
  },
  {
   "cell_type": "markdown",
   "metadata": {
    "slideshow": {
     "slide_type": "subslide"
    }
   },
   "source": [
    "## Procesy PRINCE2\n",
    "1. Przygotowanie projektu\n",
    "2. Zarządzanie strategiczne projektem\n",
    "3. Inicjowanie projektu\n",
    "4. Sterowanie etapem\n",
    "5. Zarządzanie wytwarzaniem produktów\n",
    "6. Zarządzanie końcem etapu\n",
    "7. Zamykanie projektu"
   ]
  },
  {
   "cell_type": "markdown",
   "metadata": {
    "slideshow": {
     "slide_type": "slide"
    }
   },
   "source": [
    "## PMI PMBOK \n",
    "\n",
    "- Ogólny zbiór zasad zarządzania projektami stworzony przez Project Management Institute (PMI).\n",
    "- Spisany w formie  A Guide to the Project Management Body of Knowledge, The PMBOK® Guide -> PMBOK.\n",
    "- Opisuje 47 procesów niezbednych do realizacji projeków.\n",
    "- Kierownik projektu dobiera procesy w taki sposób by projekt przez niego realizowany się powiódł. \n",
    "- Metodyka nastawiona na proces zarządzania projektem."
   ]
  },
  {
   "cell_type": "markdown",
   "metadata": {
    "slideshow": {
     "slide_type": "subslide"
    }
   },
   "source": [
    "## PMI PMBOK grupy procesów wiedzy \n",
    "1. Zarządzanie zakresem w projekcie.\n",
    "1. Zarządzanie czasem w projekcie.\n",
    "1. Zarządzanie kosztami w projekcie.\n",
    "1. Zarządzanie jakością w projekcie.\n",
    "1. Zarządzanie zasobami ludzkimi w projekcie.\n",
    "1. Zarządzanie komunikacją w projekcie.\n",
    "1. Zarządzanie ryzykiem w projekcie.\n",
    "1. Zarządzanie zamówieniami w projekcie.\n",
    "1. Zarządzanie zaangażowaniem interesariuszy w projekcie.\n",
    "1. Zarządzanie integracją projektu."
   ]
  },
  {
   "cell_type": "markdown",
   "metadata": {
    "slideshow": {
     "slide_type": "subslide"
    }
   },
   "source": [
    "## PMI PMBOK grupy procesów cyklu zarządzania\n",
    "\n",
    "1. Grupa procesów rozpoczęcia (inicjowania)\n",
    "1. Grupa procesów planowania \n",
    "1. Grupa procesów realizacji \n",
    "1. Grupa procesów monitorowania i kontroli \n",
    "1. Grupa procesów zakończenia (zamknięcia) "
   ]
  },
  {
   "cell_type": "markdown",
   "metadata": {
    "slideshow": {
     "slide_type": "slide"
    }
   },
   "source": [
    "## Metodyka kaskadowa (Waterfall)\n",
    "\n",
    "Polega on na sekwencyjnym wykonywaniu podstawowych czynności, będącymi kolejnymi fazami projektu.\n",
    "\n",
    "Każda z faz musi  posiadać zdefiniowany punkt końcowy po jego osiągnięciu można dopiero przejść do następnej fazy."
   ]
  },
  {
   "cell_type": "markdown",
   "metadata": {
    "slideshow": {
     "slide_type": "slide"
    }
   },
   "source": [
    "## Metodyka kaskadowa dla implementacji oprogramowania\n",
    "\n",
    "<img src=\"./img/kaskada.png\">"
   ]
  },
  {
   "cell_type": "markdown",
   "metadata": {
    "slideshow": {
     "slide_type": "subslide"
    }
   },
   "source": [
    "## Zalety  modelu kaskadowego\n",
    "\n",
    "- Każda faza ukończona bezbłędnie i w 100% minimalizuje ryzyko porażki i błędów \n",
    "\n",
    "- Pełna i dokładna dokumentacja sprawia, że w przypadku odejścia pracowników wiedza nie jest tracona \n",
    "\n",
    "- Proste i zdyscyplinowane podejście, łatwe do zrozumienia i wyjaśnienia\n",
    "\n",
    "- Wymusza zdefiniowanie kamieni milowych \n",
    "\n",
    "- Ściśle określony budżet"
   ]
  },
  {
   "cell_type": "markdown",
   "metadata": {
    "slideshow": {
     "slide_type": "subslide"
    }
   },
   "source": [
    "## Wady modelu kaskadowego\n",
    "\n",
    "- Trudny do zastosowania w praktyce\n",
    "\n",
    "- Nie nadaje się do złożonych projektów , w których klienci mogą nie umieć precyzyjnie sformułować wymagań \n",
    "\n",
    "- Problemy z definicją problemów implementacji/prawnych itd. na etapie  wczesnych fazach specyfikowania projektu\n",
    "\n",
    "- Każdy błąd we wcześniejszych fazach może spowodować kosztowne powroty poprzednich faz \n",
    "\n",
    "- Nieelastyczny podział na fazy\n",
    "\n",
    "- Duże koszty i czasochłonność na wszystkich etapach"
   ]
  },
  {
   "cell_type": "markdown",
   "metadata": {
    "slideshow": {
     "slide_type": "slide"
    }
   },
   "source": [
    "## Model spiralny (Spiral)\n",
    "\n",
    "Proces ten można przedstawić jako spiralę, w której w każdej fazie projektu realizowane są cztery podstawowe procesy.\n",
    "\n",
    "Każda faza składa się z czterech etapów:\n",
    "\n",
    "1. Ustalenie celów \n",
    "\n",
    "1. Rozpoznanie i redukcja zagrożeń \n",
    "\n",
    "1. Tworzenie i testowanie \n",
    "\n",
    "1. Planowanie następnej iteracji."
   ]
  },
  {
   "cell_type": "markdown",
   "metadata": {
    "slideshow": {
     "slide_type": "slide"
    }
   },
   "source": [
    "## Schemat działania metodyki spiralnej\n",
    "\n",
    "<img src=\"./img/spirala.png\">"
   ]
  },
  {
   "cell_type": "markdown",
   "metadata": {
    "slideshow": {
     "slide_type": "subslide"
    }
   },
   "source": [
    "## Zalety metodyki spiralnej\n",
    "\n",
    "- Duży nacisk na rozpoznawanie i eliminowanie zagrożeń\n",
    "\n",
    "- Budowa prototypów pozwala na lepszą ocenę zgodności i weryfikacji wymagań\n",
    "\n",
    "- Nadaje się do dużych projektów\n",
    "\n",
    "- Pozwala szybko reagować na zmieniające się czynniki i wymagania\n",
    "\n",
    "- Elastyczny budżet"
   ]
  },
  {
   "cell_type": "markdown",
   "metadata": {
    "slideshow": {
     "slide_type": "subslide"
    }
   },
   "source": [
    "## Wady metodyki spiralnej \n",
    "\n",
    "- Iteracyjność powoduje, że model jest kosztowny i czasochłonny\n",
    "\n",
    "- Sukces projektu zależy  w głównej mierze na zaobserwowaniu błędów i ryzyka po każdej fazie i ich  eliminacji w kolejnej \n",
    "\n",
    "- Poważne konsekwencje błędów)\n",
    "\n",
    "- Złożoność, ciężki do ścisłego przestrzegania\n",
    "\n",
    "- Elastyczny budżet"
   ]
  },
  {
   "cell_type": "markdown",
   "metadata": {
    "slideshow": {
     "slide_type": "slide"
    }
   },
   "source": [
    "## Metodyka Agile\n",
    "\n",
    "- Opiera się ono przyrostowym i iteracyjnym modelu wytwarzania produktu. \n",
    "- Wymagania i rozwiązania w założeniu mają ewoluować przy współpracy samo organizujących się zespołów wytwarzających produkt/usługę z klientem. \n",
    "- [Manifest agile](http://agilemanifesto.org/iso/pl/manifesto.html) (oryginalne nazwy: *Agile manifesto, Manifesto for agile software development*) – deklaracja zasad  zwinnych metodyk tworzenia oprogramowania, opracowana 11-13 lutego 2001 roku w ośrodku wypoczynkowym Snowbird w USA."
   ]
  },
  {
   "cell_type": "markdown",
   "metadata": {
    "slideshow": {
     "slide_type": "subslide"
    }
   },
   "source": [
    "## Podstawowe założenia Agile\n",
    "\n",
    "1. Bliska, codzienna współpraca między klientami a wykonawcami projektu\n",
    "\n",
    "1. Ciągłe przyjmowanie zmian wymagań\n",
    "\n",
    "1. Częste dostarczanie częściowo działającego produktu  \n",
    "\n",
    "1. Działający produkt jest najważniejszą miarą postępu \n",
    "\n",
    "1. Zrównoważone wytwarzanie, zdolność utrzymania ciągłego tempa \n",
    "\n",
    "1. Bezpośrednie konwersacje są najlepszą formą komunikacji \n",
    "\n",
    "1. Ciągła uwaga zwracana na aspekty techniczne i dobro projektu \n",
    "\n",
    "1. Samo organizujący się zespoły "
   ]
  },
  {
   "cell_type": "markdown",
   "metadata": {
    "slideshow": {
     "slide_type": "slide"
    }
   },
   "source": [
    "## Kanban\n",
    "\n",
    "- Metoda Kanban opiera się na wizualizacji procesu najczęściej poprzez tablicę.\n",
    "- Najprostszy układ tablicy to podział na : „do zrobienia”, „w trakcie” oraz „zrobione”.\n",
    "- Umożliwia ona przedstawienie zarówno procesów bardzo prostych, jak również wyjątkowo złożonych, dotyczących wielu zespołów. \n",
    "- Założeniem metody Kanban jest optymalizacja procesu pracy."
   ]
  },
  {
   "cell_type": "markdown",
   "metadata": {
    "slideshow": {
     "slide_type": "subslide"
    }
   },
   "source": [
    "## Knban optymalizacja pracy \n",
    "\n",
    "- Żadnych braków\n",
    "- Żadnych zapasów\n",
    "- Żadnych opóźnień\n",
    "- Żadnych kolejek\n",
    "- Żadnych bezczynności\n",
    "- Żadnych zbędnych czynności i kontroli\n",
    "- Żadnych zbędnych przemieszczeń"
   ]
  },
  {
   "cell_type": "markdown",
   "metadata": {
    "slideshow": {
     "slide_type": "slide"
    }
   },
   "source": [
    "## Scrum\n",
    "\n",
    "- W 1995 r. Jeff Sutherland i Ken Schwaber zaprezentowali metodykę Scrum w trakcie warsztatów  „Business Object Design and Implementation” na konferencji OOPSLA w Austin w Teksasie.\n",
    "\n",
    "- To zwinna metodyka zarządzania projektem. \n",
    "\n",
    "- Pierwotnie została stworzona do zarządzania projektami wytwarzania oprogramowania, obecnie wykorzystywana jest w trakcie konserwacji oprogramowanie i jako ogólne podejście do zarządzanie projektem."
   ]
  },
  {
   "cell_type": "markdown",
   "metadata": {
    "slideshow": {
     "slide_type": "subslide"
    }
   },
   "source": [
    "## Scrum w pigułce\n",
    "\n",
    "Na początku tworzony jest product backlog jest to lista wymagań użytkownika, wraz z podziałem priorytetów.\n",
    "\n",
    "Wymagania użytkownika  są zapisywane w postaci \"historyjek”, opisujących jedną cechę systemu.\n",
    "\n",
    "Zespół pracuje zwykle w 2-4 tygodniowym przedziale czasowym zwanym sprintem.\n",
    "\n",
    "Efektem sprintu jest dostarczenie kolejnego działającego fragmentu produktu. \n",
    "\n",
    "Zadnia do wykonania pochodzą z produck backlogu. O tym, które z zadań zostanie wyznaczone do kolejnego sprintu, rozstrzygane jest podczas spotkań, na których Właściciel Produktu informuje zespół czego oczekuje od sprintu. \n",
    "\n",
    "Zespół na podstawie wymagań ustala ile z  nich jest w stanie dostarczyć do czasu zakończenia sprintu i wpisuje je do sprint backlog.\n",
    "\n",
    "W czasie sprintu  nie można modyfikować sprint backlogu.\n",
    "\n",
    "Po wykonaniu sprintu zespół prezentuje nowe funkcjonalności i zbiera nie wykonane zadania oraz wnioski.​"
   ]
  },
  {
   "cell_type": "markdown",
   "metadata": {
    "slideshow": {
     "slide_type": "slide"
    }
   },
   "source": [
    "## Lean \n",
    "\n",
    "- System zarządzania wytwarzaniem opracowany po II Wojnie Światowej w  Toyota Motor Company.\n",
    "\n",
    "- Opiera się na dwóch filarach:\n",
    "    - Just in Time – wytwarzanie efektów tylko kiedy występowała potrzeba ich użycia. \n",
    "    - Jidoka (autonomizacja) – projetkowanie systemów wytwarzania w taki sposób, który umożliwia wykrywanie i eliminowanie błędów oraz odstępstw od przyjętych standardów."
   ]
  },
  {
   "cell_type": "code",
   "execution_count": null,
   "metadata": {},
   "outputs": [],
   "source": []
  }
 ],
 "metadata": {
  "celltoolbar": "Slideshow",
  "jupytext": {
   "formats": "ipynb"
  },
  "kernelspec": {
   "display_name": "Python 3",
   "language": "python",
   "name": "python3"
  },
  "language_info": {
   "codemirror_mode": {
    "name": "ipython",
    "version": 3
   },
   "file_extension": ".py",
   "mimetype": "text/x-python",
   "name": "python",
   "nbconvert_exporter": "python",
   "pygments_lexer": "ipython3",
   "version": "3.7.6"
  },
  "rise": {
   "autolaunch": true,
   "backimage": "img/tlo_agh.png"
  }
 },
 "nbformat": 4,
 "nbformat_minor": 2
}
