{
 "cells": [
  {
   "cell_type": "markdown",
   "metadata": {
    "collapsed": true,
    "slideshow": {
     "slide_type": "slide"
    }
   },
   "source": [
    "# Narzędzia pracy grupowej\n",
    "\n",
    "## Ryzyko w projekcie \n",
    "\n",
    "### dr inż. Waldemar Bauer"
   ]
  },
  {
   "cell_type": "markdown",
   "metadata": {
    "slideshow": {
     "slide_type": "slide"
    }
   },
   "source": [
    "## Ryzyko\n",
    "\n",
    "```\n",
    "Niepewne zdarzenia, które w przypadku wystąpienia będą miały wpływ na osiągnięcie celów.\n",
    "```"
   ]
  },
  {
   "cell_type": "markdown",
   "metadata": {
    "slideshow": {
     "slide_type": "subslide"
    }
   },
   "source": [
    "##  Rodzaje ryzk\n",
    "\n",
    "- Zagrożenia, niepewne zdarzenia które mogą mieć negatywny wpływ na realizację projektu.\n",
    "- Szanse, niepewne zdarzenia które mogą mieć pozytywny wpływ na realizację projektu."
   ]
  },
  {
   "cell_type": "markdown",
   "metadata": {
    "slideshow": {
     "slide_type": "slide"
    }
   },
   "source": [
    "##  Źródła ryzyka\n",
    "- Z zewnątrz \n",
    "- Wewnętrzne \n",
    "- Narzucone \n",
    "- Wprowadzone"
   ]
  },
  {
   "cell_type": "markdown",
   "metadata": {
    "slideshow": {
     "slide_type": "slide"
    }
   },
   "source": [
    "## Reakcja na ryzyko\n",
    "- Unikanie ryzyka \n",
    "- Transfer ryzyka \n",
    "- Łagodzenie ryzyka \n",
    "- Akceptacja ryzyka \n",
    "- Plan awaryjny "
   ]
  },
  {
   "cell_type": "markdown",
   "metadata": {
    "slideshow": {
     "slide_type": "subslide"
    }
   },
   "source": [
    "## Opis ryzyka\n",
    "- Nazwę\n",
    "- Opis czego dotyczy ryzyko\n",
    "- Prawdopodobieństwo wystąpienia\n",
    "- Przewidywany czas wystąpienia\n",
    "- Wpływ na realizację celu projektu"
   ]
  },
  {
   "cell_type": "markdown",
   "metadata": {
    "slideshow": {
     "slide_type": "slide"
    }
   },
   "source": [
    "## Zarządzania ryzkiem\n",
    "\n",
    "- Podejmowanie działań i decyzji w celu osiągnięcia akceptowalnego poziomu ryzyka.\n",
    "- Proces oparty o diagnozowanie i sterowanie ryzykiem. \n",
    "- Ma na celu zabezpieczenie warunków finansowych i dalszego rozwoju."
   ]
  },
  {
   "cell_type": "markdown",
   "metadata": {
    "slideshow": {
     "slide_type": "subslide"
    }
   },
   "source": [
    "## Procedura zarządzania ryzykiem w PRINCE2\n",
    "1. Identyfikacja\n",
    "2. Ocena ryzyka \n",
    "3. Planowanie reakcji\n",
    "4. Wdrażanie planu reakcji\n",
    "5. Komunikaty o ryzyku."
   ]
  },
  {
   "cell_type": "markdown",
   "metadata": {
    "slideshow": {
     "slide_type": "subslide"
    }
   },
   "source": [
    "<img src=\"./img/zr_proc.png\">"
   ]
  },
  {
   "cell_type": "markdown",
   "metadata": {
    "slideshow": {
     "slide_type": "slide"
    }
   },
   "source": [
    "## Narzędzia identyfikacji ryzyka\n",
    "\n",
    "- Rejestry ryzyk z poprzednich podobnych projektów\n",
    "- Wywiady z udziałowcami projektu\n",
    "- Burze mózgów\n",
    "- Listy kontrolne \n",
    "- Audyty produktu i procesów projektu\n",
    "- Indywidualne zgłoszenia uczestników projektu \n",
    "- Ocena ekspercka \n",
    "- Analiza SWOT"
   ]
  },
  {
   "cell_type": "markdown",
   "metadata": {
    "slideshow": {
     "slide_type": "subslide"
    }
   },
   "source": [
    "## Analiza SWOT\n",
    "Polega na podzieleniu zebranych informacji o zagrożeniach na cztery grupy:\n",
    "\n",
    "*S* (Strengths) – mocne strony    \n",
    "*W* (Weaknesses) – słabe strony   \n",
    "*O* (Opportunities) – szanse    \n",
    "*T* (Threats) – zagrożenia  "
   ]
  },
  {
   "cell_type": "markdown",
   "metadata": {
    "slideshow": {
     "slide_type": "subslide"
    }
   },
   "source": [
    "## Etapy analizy SWOT\n",
    "\n",
    "1. Określenie celu i przedmiotu analizy SWOT \n",
    "2. Opracowanie indywidualnych list mocnych/słabych stron oraz szans i zagrożeń \n",
    "2. Opracowanie wspólnej macierzy SWOT\n",
    "3. Dyskusja o zidentyfikowanych ryzykach\n",
    "4. Planowanie reakcji"
   ]
  },
  {
   "cell_type": "markdown",
   "metadata": {
    "slideshow": {
     "slide_type": "subslide"
    }
   },
   "source": [
    "## Analiza SWOT - macierz SWOT\n",
    "\n",
    "<img src='./img/SWOT_pl.svg'>\n",
    "\n",
    "[źródło](https://pl.wikipedia.org/wiki/Analiza_SWOT)"
   ]
  },
  {
   "cell_type": "markdown",
   "metadata": {
    "slideshow": {
     "slide_type": "slide"
    }
   },
   "source": [
    "## Ocena ryzyka\n",
    "\n",
    "1. Ocena ryzyka skład się z określenia co najmniej dwóch parametrów:\n",
    "    - prawdopodobieństwa wystąpienia\n",
    "    - wpływu na projekt \n",
    "\n",
    "2. Mogą być określone liczbowo lub słownie (niskie, średnie, wysokie itp.)"
   ]
  },
  {
   "cell_type": "markdown",
   "metadata": {
    "slideshow": {
     "slide_type": "subslide"
    }
   },
   "source": [
    "## Ocena ryzyka przy pomocy macierzy ryzyka\n",
    "\n",
    "<img src='./img/macierz_slowna.png'>"
   ]
  },
  {
   "cell_type": "markdown",
   "metadata": {
    "slideshow": {
     "slide_type": "subslide"
    }
   },
   "source": [
    "## Ocena ryzyka przy pomocy macierzy ryzyka\n",
    "\n",
    "<img src='./img/macierz_liczbowa.png'>"
   ]
  }
 ],
 "metadata": {
  "celltoolbar": "Slideshow",
  "jupytext": {
   "formats": "ipynb"
  },
  "kernelspec": {
   "display_name": "Python 3",
   "language": "python",
   "name": "python3"
  },
  "language_info": {
   "codemirror_mode": {
    "name": "ipython",
    "version": 3
   },
   "file_extension": ".py",
   "mimetype": "text/x-python",
   "name": "python",
   "nbconvert_exporter": "python",
   "pygments_lexer": "ipython3",
   "version": "3.7.6"
  },
  "rise": {
   "autolaunch": true,
   "backimage": "img/tlo_agh.png"
  }
 },
 "nbformat": 4,
 "nbformat_minor": 2
}
