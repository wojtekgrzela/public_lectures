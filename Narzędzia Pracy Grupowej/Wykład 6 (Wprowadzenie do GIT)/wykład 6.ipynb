{
 "cells": [
  {
   "cell_type": "markdown",
   "metadata": {
    "collapsed": true,
    "slideshow": {
     "slide_type": "slide"
    }
   },
   "source": [
    "# Narzędzia pracy grupowej\n",
    "\n",
    "## Wprowadzenie do CSV i GIT\n",
    "\n",
    "### dr inż. Waldemar Bauer"
   ]
  },
  {
   "cell_type": "markdown",
   "metadata": {
    "slideshow": {
     "slide_type": "slide"
    }
   },
   "source": [
    "## Systemy kontroli wersji\n",
    "\n",
    "- VCS – version control system.\n",
    "- Klasa oprogramowanie używane przedewszystkim do projektów informatycznych. \n",
    "- Śłuży do śledzenia zmian głównie w plikach tekstowych oraz pomocy  w łączeniu wprowadzonych zmian przez różne osoby."
   ]
  },
  {
   "cell_type": "markdown",
   "metadata": {
    "slideshow": {
     "slide_type": "subslide"
    }
   },
   "source": [
    "##  Funkcje systemu kontroli wersji\n",
    "\n",
    "- Przechowywanie plików,\n",
    "- Odtważanie struktury pilików.\n",
    "- Zarządzanie użytkownikami,\n",
    "- Logowanie zmian,\n",
    "- Śledzenie modyfikacji zachodzących w poszczególnych plikach,\n",
    "- Dokumentowanie wprowadzanych zmian,\n",
    "- Możliwość tworzenia nowych gałęzi projektu (branch)."
   ]
  },
  {
   "cell_type": "markdown",
   "metadata": {
    "slideshow": {
     "slide_type": "subslide"
    }
   },
   "source": [
    "## Problem systemu kontroli wersji\n",
    "\n",
    "- Pierwotnie przeznaczony do plików tektowych nie binarnych. \n",
    "- Pliki binarne są możliwe do przechowywania ale trudno zarządzać w nich zmianami."
   ]
  },
  {
   "cell_type": "markdown",
   "metadata": {
    "slideshow": {
     "slide_type": "slide"
    }
   },
   "source": [
    "##  Podział kontroli systemów wersji\n",
    "- Lokalne -  pozwalające na zapisanie danych jedynie na lokalnym komputerze (np. SCCS, RCS, itp.)\n",
    "- Scentralizowane - oparte na architekturze klient-serwer (np. CVS, Subversion, itp.)\n",
    "- Rozproszone - oparte na architekture połączenia P2P (np. BitKeeper, Mercurialp, Git, itp.)."
   ]
  },
  {
   "cell_type": "markdown",
   "metadata": {
    "slideshow": {
     "slide_type": "subslide"
    }
   },
   "source": [
    "## Lokalne systemy kontroli wersji\n",
    "<img src=\"./img/lokalny_schemat.gif\">"
   ]
  },
  {
   "cell_type": "markdown",
   "metadata": {
    "slideshow": {
     "slide_type": "subslide"
    }
   },
   "source": [
    "## Scentralizowany  systemy kontroli wersji\n",
    "<img src=\"./img/scentralizowany_schemat.gif\">"
   ]
  },
  {
   "cell_type": "markdown",
   "metadata": {
    "slideshow": {
     "slide_type": "subslide"
    }
   },
   "source": [
    "##  Rozproszony systemy kontroli wersji\n",
    "<img src=\"./img/ROZPROSZONY_schemat.gif\">"
   ]
  },
  {
   "cell_type": "markdown",
   "metadata": {
    "slideshow": {
     "slide_type": "slide"
    }
   },
   "source": [
    "## Git\n",
    "\n",
    "- System kontroli wersji pierwotnie rozwijany jako wsparcie do tworzenia jądra linuxa \n",
    "\n",
    "- Jako rozproszony system kontroli wersji, Git nie wymaga odrębnej aplikacji serwerowej. \n",
    "\n",
    "- Istnieją jednak pakiety rozszerzające oryginalne oprogramowanie, przede wszystkim o kontrolę dostępu, wsparcie dla zarządzania wieloma repozytoriami, czy interfejs WWW. \n",
    "\n",
    "- Przykłady popularnych serwisów Git: GitHub, Bitbucket, GitLab, Git Daemon, Gitolite, Gerrit, Gitiles, Bonobo Git Server, Git Server.\n"
   ]
  },
  {
   "cell_type": "markdown",
   "metadata": {
    "slideshow": {
     "slide_type": "subslide"
    }
   },
   "source": [
    "## Jak działa repozytorium Git lokalnie\n",
    "\n",
    "- Repozytorium Git nie musi posiadać zdalnego serwera, może istnieć tylko lokalnie.\n",
    "- Wszystkie pliki w repozytorium mogą być w następujących stanach:\n",
    "    - nieśledzone,\n",
    "    - śledzone,\n",
    "    - nie zmodyfikowane\n",
    "    - zmodyfikowane\n",
    "    - gotowe do zatwierdzenia"
   ]
  },
  {
   "cell_type": "markdown",
   "metadata": {
    "slideshow": {
     "slide_type": "subslide"
    }
   },
   "source": [
    "## Jak działa repozytorium Git lokalnie cd.\n",
    "\n",
    "<img src=\"./img/file_git.gif\">"
   ]
  },
  {
   "cell_type": "markdown",
   "metadata": {
    "slideshow": {
     "slide_type": "subslide"
    }
   },
   "source": [
    "## Słowniczek pojęć podstawowych Git lokalnie\n",
    "\n",
    "- init – inicjalizacja repozytorium\n",
    "\n",
    "- clone – operacja polegająca na pobraniu repozytorium z serwera\n",
    "\n",
    "- status – raport stanu repozytorium\n",
    "\n",
    "- add – dodanie plików w których chcemy śledzić zmiany w danej rewizji\n",
    "\n",
    "- commit – zapisanie nowej wersji do repozytorium\n",
    "\n",
    "- log - wyświetlenie dziennika rewizji "
   ]
  },
  {
   "cell_type": "markdown",
   "metadata": {
    "slideshow": {
     "slide_type": "slide"
    }
   },
   "source": [
    "## Git status, add\n",
    "\n",
    "<img src=\"./img/status_add.PNG\">"
   ]
  },
  {
   "cell_type": "markdown",
   "metadata": {
    "slideshow": {
     "slide_type": "subslide"
    }
   },
   "source": [
    "## Git log\n",
    "\n",
    "<img src=\"./img/log_git.PNG\">"
   ]
  },
  {
   "cell_type": "markdown",
   "metadata": {
    "slideshow": {
     "slide_type": "subslide"
    }
   },
   "source": [
    "## Jak działa repozytorium Git ze zdalnym serwerem\n",
    "\n",
    "- Zdalny serwer stosowany jest poto by w projekcie istniała wersja bazowa którą jest serwer.\n",
    "\n",
    "- W momęcie pojawienia się repozytorium zdalnego mówimy o gałęzi(branch) zdalnym i lokalnym.\n",
    "\n",
    "- Poprzez fakt używania zdalnego serwera przez wielu użytkowników mogą powstać konflikty.\n",
    "\n",
    "- Konflikt to sytuacja gdy dwóch użytkowników modyfikowali ten sam plik w tym samym miejscu w tej samej rewizji.\n",
    "\n",
    "- Konflikty rozwiązywane są poprzez użytkownika który chce wysłać swoją rewizję na serwer."
   ]
  },
  {
   "cell_type": "markdown",
   "metadata": {
    "slideshow": {
     "slide_type": "subslide"
    }
   },
   "source": [
    "## Jak działa repozytorium Git ze zdalnym serwerem cd.\n",
    "\n",
    "<img src=\"./img/remote_git.gif\">"
   ]
  },
  {
   "cell_type": "markdown",
   "metadata": {
    "slideshow": {
     "slide_type": "slide"
    }
   },
   "source": [
    "## Słowniczek pojęć podstawowych Git ze zdalnym serwerem\n",
    "\n",
    "- pull – pobranie wersji z serwera\n",
    "\n",
    "- push – wypchnięcie zmian na serwer\n",
    "\n",
    "- fetch – zapisanie zmian ze zdalnego repozytorium do lokalnego bez wprowadzenia ich do wersji roboczej\n",
    "\n",
    "- merge – scalenie dwóch wersji/branchy ze sobą\n",
    "\n",
    "- diff – obrazuje zmiany pomiędzy dwoma wersjami \n",
    "\n",
    "- branch – tworzy nową gałąź pracy \n",
    "\n",
    "- chceckot – przenoszenie się między rewizjami/gałęziami (branch)\n"
   ]
  }
 ],
 "metadata": {
  "celltoolbar": "Slideshow",
  "jupytext": {
   "formats": "ipynb"
  },
  "kernelspec": {
   "display_name": "Python 3",
   "language": "python",
   "name": "python3"
  },
  "language_info": {
   "codemirror_mode": {
    "name": "ipython",
    "version": 3
   },
   "file_extension": ".py",
   "mimetype": "text/x-python",
   "name": "python",
   "nbconvert_exporter": "python",
   "pygments_lexer": "ipython3",
   "version": "3.7.6"
  },
  "rise": {
   "autolaunch": true,
   "backimage": "img/tlo_agh.png"
  }
 },
 "nbformat": 4,
 "nbformat_minor": 2
}
